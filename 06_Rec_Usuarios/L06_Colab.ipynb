{
 "cells": [
  {
   "cell_type": "markdown",
   "metadata": {
    "id": "00SmbzaK2pl-"
   },
   "source": [
    "<div >\n",
    "<img src = \"../Machine Learning Aplicado al Marketing-4875-x-834.jpg\" />\n",
    "</div>"
   ]
  },
  {
   "cell_type": "markdown",
   "metadata": {
    "id": "nkx0spig2pmI"
   },
   "source": [
    "# Filtrado Colaborativo Basado en Usuarios.\n"
   ]
  },
  {
   "cell_type": "markdown",
   "metadata": {
    "id": "mTsldyYr2pmJ"
   },
   "source": [
    "[![Open In Colab](https://colab.research.google.com/assets/colab-badge.svg)](https://colab.research.google.com/github/ignaciomsarmiento/RecomSystemsLectures/blob/main/06_Rec_Usuarios/L06_Colab.ipynb)"
   ]
  },
  {
   "cell_type": "markdown",
   "metadata": {
    "id": "zgUueKVs2pmK"
   },
   "source": [
    "Este *cuaderno* trata sobre filtrado colaborativo basado en usuarios. El objetivo del *cuaderno* es que usted obtenga una visión general del problema predictivo de los sistemas de recomendación que utilizan filtrado colaborativo basado en usuario, aprenda distintos algoritmos que lo implementan, y que sea capaz de reconocer sus características, funcionamiento, y  desarrollarlos en `Python`."
   ]
  },
  {
   "cell_type": "markdown",
   "metadata": {},
   "source": [
    "# Sistemas de Recomendación\n",
    "\n",
    "## ¿Qué son los sistemas de recomendaciones?\n",
    "\n",
    "\n",
    "Las preferencias de los individuos suelen seguir patrones que los sistemas de recomendación pueden aprovechar, por ejemplo,\n",
    "\n",
    "- Si te interesó:  <div style=\"max-width:200px\">\n",
    "<img src = \"figs/iron_man.jpg\" />\n",
    "</div>\n",
    "\n",
    "\n",
    "\n",
    "- También te puede interesar: <div style=\"max-width:200px\">\n",
    "<img src = \"figs/thor.jpg\" />\n",
    "</div> \n",
    "\n",
    "\n",
    "\n",
    "\n",
    "- Los sistemas de recomendación entonces encuentran patrones que son utilizados para predecir qué otros productos podrían gustarnos y generar sugerencias, de forma tal que  los usuarios encuentren contenido atractivo en un gran corpus. \n",
    "\n",
    "- Estos sistemas son muy exitosos, por ejemplo según un estudio del 2013 de [McKinsey](https://www.mckinsey.com/industries/retail/our-insights/how-retailers-can-keep-up-with-consumers), el 35% de los artículos comprados en Amazon surgen de estos sistemas de recomendación, y por lo tanto vale la pena estudiarlos cuidadosamente.\n",
    "\n"
   ]
  },
  {
   "cell_type": "markdown",
   "metadata": {
    "id": "D1w3i-nv2pmK"
   },
   "source": [
    "## Introducción: el problema de predicción \n",
    "\n",
    "Para entender un poco mejor cuál es el problema al que nos enfrentamos, supongamos que tenemos una matriz con $m$ usuarios y $n$ ítems. En esta matriz cada fila representa un usuario y cada columna un ítem. El valor de la celda denota el rating que le dió cada usuario al ítem. Este valor lo denotamos como $r_{ij}$ que será entonces el rating que le dio el usuario $i$ al ítem $j$. Un ejemplo de esta matriz sería la siguiente:"
   ]
  },
  {
   "cell_type": "markdown",
   "metadata": {
    "id": "cm6N1pIj2pmL"
   },
   "source": [
    "<div  style=\"max-width: 40%;\">\n",
    "<img src = \"figs/fig1.png\"/>\n",
    "</div>"
   ]
  },
  {
   "cell_type": "markdown",
   "metadata": {
    "id": "7B80Xifv2pmL"
   },
   "source": [
    "Esta matriz tiene 7 usuarios ($m=7$) y 6 ítems ($n=6$). El usuario 1 le otorgó al ítem 1 un rating de 4, por lo tanto $r_{11}=4$. Sin embargo, no todos los usuarios calificaron/utilizaron todos los ítems y por lo tanto no todos tienen ranking. En el caso del usuario 1 este no utilizó los ítems 3, 4, y 6; por lo tanto aparecen con un signo de interrogación. Estos datos están faltando en la matriz.\n",
    "\n",
    "\n",
    "Consideremos otro ejemplo más concreto. Imaginemos que somos una compañía como Netflix y tenemos un repositorio de 20.000 películas y 5.000 usuarios. Tenemos además un sistema que registra la calificación que cada usuario le otorga a una película en particular. Es decir, tenemos una  matriz de tamaño 5,000 × 20,000. Sin embargo, es muy probable que los usuarios sólo habrán visto sólo una fracción de las películas (difícilmente todos vieron 20.000 películas!). Por lo tanto, la matriz será poco densa, la mayoría de las entradas en la matriz estarán vacías.\n",
    "\n",
    "\n",
    "El problema de predicción, tiene por objetivo predecir estos valores faltantes utilizando toda la información que tenemos a disposición: las calificaciones registradas, datos sobre películas, datos sobre usuarios, etc. Si el sistema es capaz de predecir con precisión los valores que faltan, podrá dar excelentes recomendaciones. Por ejemplo, si el usuario $i$ no ha utilizado el ítem $j$, pero nuestro sistema predice una calificación muy alta, es entonces muy probable que le guste $j$ si lo descubre a través del sistema de recomendación."
   ]
  },
  {
   "cell_type": "markdown",
   "metadata": {},
   "source": [
    "## Filtrado Colaborativo Basado en Usuarios.\n",
    "\n",
    "El filtrado colaborativo aprovecha el poder de la colaboración para generar recomendaciones. \n",
    "\n",
    " <div style=\"max-width:400px\">\n",
    "<img src = \"figs/Colab.png\" />\n",
    "</div> \n",
    "\n",
    "\n",
    "\n",
    "### Ejemplo\n",
    "\n",
    "Para entender un poco mejor cuál es el problema al que nos enfrentamos, supongamos que tenemos una matriz con 5 usuarios y 5 productos, en este caso restaurantes. \n",
    "\n",
    "El valor de la celda denota el rating que le dió cada usuario al restaurante. Este valor lo denotamos como $r_{ij}$ que será entonces el rating que le dio el usuario $i$ al restaurante $j$. \n",
    " "
   ]
  },
  {
   "cell_type": "code",
   "execution_count": null,
   "metadata": {},
   "outputs": [],
   "source": [
    "#cargamos librerias\n",
    "import pandas as pd\n",
    "import numpy as np\n",
    "\n",
    "# Cargamos y visualizamos  los datos\n",
    "ratings = pd.read_csv('https://github.com/ignaciomsarmiento/datasets/raw/refs/heads/main/Ratings.csv')\n",
    "ratings.head()"
   ]
  },
  {
   "cell_type": "code",
   "execution_count": null,
   "metadata": {},
   "outputs": [],
   "source": [
    "# pivotamos la tabla para tener una matriz de usuarios y restaurantes\n",
    "r_matrix = ratings.pivot_table(values='rating', index='user_id', columns='restaurant_id')\n",
    "r_matrix.head()"
   ]
  },
  {
   "cell_type": "code",
   "execution_count": null,
   "metadata": {},
   "outputs": [],
   "source": [
    "# creamos una matriz de usuarios y restaurantes donde remplazamos los valores nulos por 0\n",
    "r_matrix_dummy = r_matrix.copy().fillna(0)\n",
    "r_matrix_dummy"
   ]
  },
  {
   "cell_type": "markdown",
   "metadata": {},
   "source": [
    "### Filtrado colaborativo sencillo (simple): medias, y medias ponderadas.\n",
    "\n",
    "\n",
    "#### Medias \n",
    "\n",
    "- Esta estrategia consiste en calcular el rating promedio que le asignó cada usuario "
   ]
  },
  {
   "cell_type": "code",
   "execution_count": null,
   "metadata": {},
   "outputs": [],
   "source": [
    " puntuac_promedio = ratings.groupby('restaurant_id').mean()\n",
    " pd.DataFrame(puntuac_promedio.iloc[:,1])"
   ]
  },
  {
   "cell_type": "markdown",
   "metadata": {},
   "source": [
    "#### Medias ponderadas\n",
    "\n",
    "- Podemos hacer algo más sofisticado usando recomendaciones de usuarios similares?\n",
    "\n",
    "\n",
    "- Podemos hacer una media ponderada\n",
    "\n",
    "\n",
    "$$\n",
    "r_{ur}=\\frac{\\sum_{u',u'\\neq u}sim(u,u').r_{u'r}}{\\sum_{u',u'\\neq u}sim(u,u')}\n",
    "$$\n",
    "\n",
    "\n",
    "\n",
    "- Es decir la predicción del rating del usuario $u$ para el restaurante $r$, $r_{ur}$, es la suma ponderada de los ratings de los otros usuarios ($u'$) a este restaurante, \n",
    "\n",
    "\n",
    "- Ponderado por cuán similares son los usuarios $u'$ a $u$. \n",
    "\n",
    "\n",
    "- Como medimos similitud?\n",
    "\n",
    "    - Existen múltiples medidas de distancia que se utilizan para medir la similitud. \n",
    "\n",
    "    - La distancia de coseno, que suele ser la más utilizada en los sistemas de recomendación.\n",
    "\n",
    "    - Matemáticamente\n",
    "\n",
    "$$\n",
    "coseno(x,y)=\\frac{x.y'}{|x||y|}\n",
    "$$\n",
    "\n",
    "\n",
    "Es decir, es el cociente del producto punto, dividido por las normas de los vectores.\n",
    "\n",
    "<center>\n",
    "<img src = \"figs/dist_cos.png\" alt = \"coseno\" style = \"width: 300px;\"/>\n",
    "</center>\n",
    "\n",
    "\n",
    "- Si el ángulo es 0  de grados, entonces los vectores se solapan, y el coseno es igual a 1 \n",
    "- Si el ángulo es 90 de grados, los vectores forman un angulo recto, y el coseno es igual a 0.\n",
    "- Si el ángulo es 180 de grados, los vectores estan en sentido opuesto, y  el coseno es igual a -1.\n",
    "\n"
   ]
  },
  {
   "cell_type": "code",
   "execution_count": null,
   "metadata": {},
   "outputs": [],
   "source": [
    "import math\n",
    "\n",
    "math.cos(math.radians(0))"
   ]
  },
  {
   "cell_type": "markdown",
   "metadata": {},
   "source": [
    "**¿Qué medida de similitud elegir?** \n",
    "\n",
    "Notemos que, si dos vectores, $x$ e $y$, tienen media cero, el coseno del angulo entre ambos coincidirá con el coeficiente de correlación de Pearson.\n",
    "\n",
    "La distancia del coseno suele ser una medida de similitud ampliamente utilizada en los sistemas de recomendación por varias razones:\n",
    "\n",
    "   - *Independencia de magnitud*: La distancia del coseno mide la similitud entre dos vectores basándose en el ángulo entre ellos, en lugar de depender de las magnitudes de los vectores. Esto es útil en los sistemas de recomendación, donde las magnitudes de las características (por ejemplo, la calificación de un usuario para un artículo) pueden variar significativamente entre diferentes usuarios o elementos. Al ser independiente de la magnitud, el coseno permite capturar patrones de similitud más robustos.\n",
    "\n",
    "   - *Espacios de alta dimensión*: En los sistemas de recomendación, las características que representan usuarios o elementos a menudo se representan como vectores en espacios de alta dimensión. En estos espacios, la noción de distancia euclidiana puede volverse menos significativa debido al fenómeno conocido como \"maldición de la dimensionalidad\". La distancia del coseno puede ser más adecuada en estos casos porque se centra en la orientación relativa de los vectores, lo que permite medir la similitud de manera más efectiva.\n",
    "\n",
    "   - *Eficiencia computacional*: Calcular la distancia del coseno es computacionalmente eficiente en comparación con otras métricas de similitud más complejas, como la distancia de Mahalanobis o la distancia euclidiana en espacios de alta dimensión. Esto es importante en sistemas de recomendación que manejan grandes conjuntos de datos y deben realizar cálculos rápidos para generar recomendaciones en tiempo real.\n",
    "\n",
    "   - *Contexto de recomendación*: En muchos sistemas de recomendación, las preferencias de los usuarios pueden estar dispersas, lo que significa que solo han interactuado con una pequeña parte del conjunto total de elementos. La distancia del coseno tiende a funcionar bien en estos escenarios, ya que ignora las diferencias entre características no observadas, lo que puede conducir a una mejor generalización y recomendaciones más precisas.\n",
    "\n",
    "A pesar de estas ventajas, es importante destacar que no existe un enfoque único para todos los sistemas de recomendación. La elección de la medida de similitud depende en gran medida del contexto y la naturaleza de los datos en un sistema específico. Por ejemplo,\n",
    "\n",
    " - En caso que las magnitudes sean importantes, la distancia euclidiana es una medida apropiada para utilizar. \n",
    " - Si la correlación es lo que importa, entonces la correlación de Pearson o el coseno son más apropiadas. \n",
    " - Si la popularidad del ítem bajo estudio es importante, entonces el producto escalar será una medida adecuada. Puesto que si los ítems aparecen con mucha frecuencia (por ejemplo, videos populares de YouTube) estos tienden a normas grandes y el producto escalar capturará mejor esta información. Sin embargo, si no somos cuidadosos, aquellos artículos populares terminarán siendo los más recomendados. En casos como este, se puede definir una medida que \"regularice\" las normas, como por ejemplo: $similitud(x,y)=|x|^\\alpha  |y|^\\alpha cos(x,y)$ para algún $\\alpha\\in(0,1)$.\n",
    " "
   ]
  },
  {
   "cell_type": "markdown",
   "metadata": {},
   "source": [
    "##### Creamos una función recomendadora usando esto"
   ]
  },
  {
   "cell_type": "code",
   "execution_count": null,
   "metadata": {},
   "outputs": [],
   "source": [
    "# Importamos cosine_similarity \n",
    "from sklearn.metrics.pairwise import cosine_similarity\n",
    "\n",
    "#Calculamos la similitud de coseno \n",
    "cosine_sim = cosine_similarity(r_matrix_dummy, r_matrix_dummy)\n",
    "\n",
    "# Transformamos la matriz de similitud en un DataFrame\n",
    "cosine_sim = pd.DataFrame(cosine_sim, index=r_matrix.index, columns=r_matrix.index)\n",
    "\n",
    "cosine_sim\n"
   ]
  },
  {
   "cell_type": "code",
   "execution_count": null,
   "metadata": {},
   "outputs": [],
   "source": [
    "?cosine_similarity"
   ]
  },
  {
   "cell_type": "code",
   "execution_count": null,
   "metadata": {},
   "outputs": [],
   "source": [
    "# Definimos una función para calcular el promedio ponderado de los ratings\n",
    "def cf_user_wmean(user_id, restaurant_id):\n",
    "    \n",
    "    # Primero verificamos si el restaurante está en la matriz\n",
    "    if restaurant_id in r_matrix:\n",
    "    \n",
    "        #Buscamos las medidas de similitud con los otros usuarios\n",
    "        sim_scores = cosine_sim[user_id]\n",
    "        \n",
    "        # Obtenemos los ratings no faltantes de la matriz bajo evaluación\n",
    "        m_ratings = r_matrix[restaurant_id]\n",
    "        \n",
    "         # Obtenemos los índices de los restaurantes sin rating \n",
    "        idx = m_ratings[m_ratings.isnull()].index\n",
    "        \n",
    "        # Nos quedamos con similitudes y ratings completos\n",
    "        sim_scores = sim_scores.drop(idx)\n",
    "        m_ratings = m_ratings.dropna()\n",
    "        \n",
    "        # Calculamos la media ponderada\n",
    "        wmean_rating = np.dot(sim_scores, m_ratings)/ sim_scores.sum()\n",
    "    \n",
    "    else:\n",
    "        # Si no tenemos ninguna información retornamos 3\n",
    "        wmean_rating = 3.0\n",
    "    \n",
    "    return wmean_rating"
   ]
  },
  {
   "cell_type": "code",
   "execution_count": null,
   "metadata": {},
   "outputs": [],
   "source": [
    "cf_user_wmean(1,1)"
   ]
  },
  {
   "cell_type": "code",
   "execution_count": null,
   "metadata": {},
   "outputs": [],
   "source": [
    "sim_scores = cosine_sim[1]\n",
    "sim_scores"
   ]
  },
  {
   "cell_type": "code",
   "execution_count": null,
   "metadata": {},
   "outputs": [],
   "source": [
    "m_ratings =r_matrix[1]\n",
    "m_ratings"
   ]
  },
  {
   "cell_type": "code",
   "execution_count": null,
   "metadata": {},
   "outputs": [],
   "source": [
    "idx = m_ratings[m_ratings.isnull()].index\n",
    "idx"
   ]
  },
  {
   "cell_type": "markdown",
   "metadata": {},
   "source": [
    "Falta entonces \n",
    "\n",
    "$$\n",
    "r_{um}=\\frac{\\sum_{u',u'\\neq u}sim(u,u').r_{u'm}}{\\sum_{u',u'\\neq u}sim(u,u')}\n",
    "$$\n"
   ]
  },
  {
   "cell_type": "code",
   "execution_count": null,
   "metadata": {},
   "outputs": [],
   "source": [
    "sim_scores1 = sim_scores.drop(idx)\n",
    "\n",
    "m_ratings = m_ratings.dropna()\n",
    "        \n",
    "# Calculamos la media ponderada\n",
    "wmean_rating = np.dot(sim_scores1, m_ratings)/ sim_scores1.sum()\n",
    "wmean_rating"
   ]
  },
  {
   "cell_type": "markdown",
   "metadata": {},
   "source": [
    "## Un ejemplo más realista y complicado\n"
   ]
  },
  {
   "cell_type": "markdown",
   "metadata": {
    "id": "645Wocnj2pmM"
   },
   "source": [
    "Para ilustrar cómo construir e implementar este tipo de sistema de recomendación utilizaremos nuevamente los datos de  [MovieLens](https://grouplens.org/datasets/movielens/latest/) provista abiertamente por [grouplens](https://grouplens.org/about/what-is-grouplens/) para: **\"avanzar la teoría y la práctica de la computación social mediante la construcción y la comprensión de sistemas *(de recomendación)* utilizados por personas reales\".**\n",
    "\n",
    "Esta versión de los datos contiene varias bases con información de los usuarios, de las películas, y de los ratings. Tendremos que combinar estas bases para obtener una matriz similar a la ilustrada en la gráfica anterior. Carguemos entonces las librerías y los datos de usuarios:"
   ]
  },
  {
   "cell_type": "code",
   "execution_count": null,
   "metadata": {
    "colab": {
     "base_uri": "https://localhost:8080/",
     "height": 206
    },
    "id": "QgV_lXwJ2pmN",
    "outputId": "a071df30-ba1e-48ff-b734-5cd7e04653de"
   },
   "outputs": [],
   "source": [
    "# Cargamos las librerías a utilizar\n",
    "import pandas as pd\n",
    "import numpy as np\n",
    "# Cargamos los datos de los usuarios\n",
    "u_cols = ['user_id', 'edad', 'genero', 'ocupacion', 'codigo_postal']\n",
    "\n",
    "users = pd.read_csv('https://raw.githubusercontent.com/ignaciomsarmiento/RecomSystemsLectures/main/L04_Usuarios/data/u.user', sep='|', names=u_cols,\n",
    " encoding='latin-1')\n",
    "users.head()"
   ]
  },
  {
   "cell_type": "markdown",
   "metadata": {
    "id": "O8_XLVO62pmP"
   },
   "source": [
    "Podemos ver que esta base contiene un identificador de usuario, su edad, género, ocupación, y el código postal donde viven. Luego cargamos la base de películas:"
   ]
  },
  {
   "cell_type": "code",
   "execution_count": null,
   "metadata": {
    "colab": {
     "base_uri": "https://localhost:8080/",
     "height": 438
    },
    "id": "WHZBs3in2pmQ",
    "outputId": "a32574eb-ec8a-40ae-c20c-f3f50157d498"
   },
   "outputs": [],
   "source": [
    "# Cargamos los datos de las películas\n",
    "i_cols = ['movie_id','titulo', 'fecha_estreno', 'fecha_estreno_video', 'URL_IMDb', 'desconocido', 'Accion', 'Aventura',\n",
    "  'Animacion', 'Infantil', 'Comedia', 'Crimen', 'Documental', 'Drama', 'Fantasia',\n",
    "  'Cine-Noir', 'Horror', 'Musical', 'Misterio', 'Romance', 'Ciencia_ficcipn', 'Thriller', 'Guerra', 'Western']\n",
    "\n",
    "movies = pd.read_csv('https://github.com/ignaciomsarmiento/datasets/raw/refs/heads/main/u.item', sep='|', names=i_cols, encoding='latin-1')\n",
    "\n",
    "movies.head()"
   ]
  },
  {
   "cell_type": "markdown",
   "metadata": {
    "id": "znH9FX7o2pmQ"
   },
   "source": [
    "Esta base contiene un identificador de película, el título, cuándo fue estrenada en el cine, cuándo fue estrenada en video, la dirección web a IMDb, y el género al que pertenece, incluyendo una columna que marca como desconocido si el género no pertenece a ninguna de las restantes. Notemos además que una película puede pertenecer a varios géneros, por ejemplo: Toy Story pertenece  al genero Animación e Infantil. Pero por ahora nos importa sólo el identificador y el título de la película, por lo que nos quedamos con estas columnas:"
   ]
  },
  {
   "cell_type": "code",
   "execution_count": null,
   "metadata": {
    "colab": {
     "base_uri": "https://localhost:8080/",
     "height": 206
    },
    "id": "Daocbn_u2pmQ",
    "outputId": "91f2786c-8543-4b1d-e9d4-08b442081a6f"
   },
   "outputs": [],
   "source": [
    "## completar, ayuda columnas de interes 'movie_id', 'titulo'\n",
    "movies = movies[['movie_id', 'titulo']]\n",
    "movies.head()"
   ]
  },
  {
   "cell_type": "markdown",
   "metadata": {
    "id": "bCD_PhzM2pmR"
   },
   "source": [
    "La última base que necesitamos cargar es la de ratings:"
   ]
  },
  {
   "cell_type": "code",
   "execution_count": null,
   "metadata": {
    "colab": {
     "base_uri": "https://localhost:8080/",
     "height": 206
    },
    "id": "2PZnEXns2pmR",
    "outputId": "4e03afc5-22ef-41c1-94a6-0b84530eaae7"
   },
   "outputs": [],
   "source": [
    "# Cargamos los datos de los ratings \n",
    "r_cols = ['user_id', 'movie_id', 'rating', 'timestamp']\n",
    "\n",
    "ratings = pd.read_csv('https://github.com/ignaciomsarmiento/datasets/raw/refs/heads/main/u.data', sep='\\t', names=r_cols,\n",
    " encoding='latin-1')\n",
    "\n",
    "ratings.head()"
   ]
  },
  {
   "cell_type": "markdown",
   "metadata": {
    "id": "OFa_gP9y2pmS"
   },
   "source": [
    "Esta base tiene información sobre qué `rating` el usuario (`user_id`) le otorgó a cada película (`movie_id`), e información de cuándo fue que hizo tal calificación (`timestamp`). Esta última columna no la utilizaremos por lo que la excluiremos de la base."
   ]
  },
  {
   "cell_type": "code",
   "execution_count": null,
   "metadata": {
    "colab": {
     "base_uri": "https://localhost:8080/",
     "height": 206
    },
    "id": "Sn-SyKdb2pmS",
    "outputId": "5b8ac42e-fceb-47e5-e3f5-73bdf8c560f9"
   },
   "outputs": [],
   "source": [
    "# Quitamos la columna timestamp \n",
    "# llenar\n",
    "ratings = ratings.drop('timestamp', axis=1)\n",
    "ratings.head()"
   ]
  },
  {
   "cell_type": "markdown",
   "metadata": {
    "id": "oSete0Xu2pmT"
   },
   "source": [
    "Con estos elementos podemos construir la matriz que vincule usuarios, películas y ratings. Para ello usamos la función `pivot_table`."
   ]
  },
  {
   "cell_type": "code",
   "execution_count": null,
   "metadata": {
    "colab": {
     "base_uri": "https://localhost:8080/",
     "height": 267
    },
    "id": "93oK-Bw72pmT",
    "outputId": "ab5d0d44-41e7-469e-94bb-58683258ccf0"
   },
   "outputs": [],
   "source": [
    "## Completar ayuda usar pivot_table siendo valores rating y las columnas movie_id\n",
    "r_matrix = ratings.pivot_table(values='rating', index='user_id', columns='movie_id')\n",
    "\n",
    "r_matrix.head()"
   ]
  },
  {
   "cell_type": "code",
   "execution_count": null,
   "metadata": {
    "colab": {
     "base_uri": "https://localhost:8080/"
    },
    "id": "8YzvgqDy2pmT",
    "outputId": "1d563356-f447-4afa-f054-d8ed06298545"
   },
   "outputs": [],
   "source": [
    "## completar  saber la dimen con comando shape\n",
    "r_matrix.shape"
   ]
  },
  {
   "cell_type": "markdown",
   "metadata": {
    "id": "bx9rd6em2pmU"
   },
   "source": [
    "Esta matriz entonces vincula los usuarios con las películas. Las filas denotan los 943 usuarios y las columnas las 1682 películas en la base. El usuario 1 le otorgó a la película 1 un rating de 5, por lo tanto $r_{11}=5$. Al igual que en el ejemplo anterior, no todos los usuarios calificaron/vieron todas las películas y por lo tanto no todas tienen ranking. En el caso del usuario 1 este no calificó las películas 1673 a 1682 y por lo tanto aparecen con `NaN`; estos datos están faltando en la matriz.\n",
    "\n",
    "La tarea es entonces buscar estrategias para completar estos datos faltantes."
   ]
  },
  {
   "cell_type": "markdown",
   "metadata": {
    "id": "i7G0a9sa2pmU"
   },
   "source": [
    "### Medias\n",
    "\n",
    "Comencemos por la estrategia quizás más simple e intuitiva para completar las celdas faltantes. Esta estrategia consiste en calcular el rating promedio que le asignó cada usuario que ranquearon esta película. No hacemos distinción entre los usuarios, y el rating de cada uno recibirá el mismo peso. Habrá casos donde ninguna de las películas ha sido ranqueada, en tales situaciones le pondremos un rating default de 3. \n",
    "\n",
    "Para evaluar además la performance de esta estrategia, dividiremos la base original en bases de entrenamiento y prueba."
   ]
  },
  {
   "cell_type": "code",
   "execution_count": null,
   "metadata": {
    "id": "iH3YWWco2pmU"
   },
   "outputs": [],
   "source": [
    "# Importamos la función train_test_split \n",
    "from sklearn.model_selection import train_test_split\n",
    "   \n",
    "#Asignamos `X` como la base original de ratings e `y` el usuario \n",
    "   \n",
    "X = ratings.copy()\n",
    "y = ratings['user_id']\n",
    "\n",
    "# Partimos la base en entrenamiento y prueba estratificando por usuario\n",
    "X_train, X_test, y_train, y_test = train_test_split(X, y, test_size = 0.25, stratify=y, random_state=42)"
   ]
  },
  {
   "cell_type": "markdown",
   "metadata": {
    "id": "aGoweO9p2pmV"
   },
   "source": [
    "y definiremos como métrica el error cuadrático medio"
   ]
  },
  {
   "cell_type": "code",
   "execution_count": null,
   "metadata": {
    "id": "PXhsMF962pmV"
   },
   "outputs": [],
   "source": [
    "# Importamos la función mean_squared_error\n",
    "from sklearn.metrics import mean_squared_error\n",
    "\n",
    "# Creamos una funcion que calcula la raíz del error cuadrático medio (RMSE)\n",
    "def rmse(y_true, y_pred):\n",
    "       return np.sqrt(mean_squared_error(y_true, y_pred))\n"
   ]
  },
  {
   "cell_type": "markdown",
   "metadata": {
    "id": "sAltkfLW2pmV"
   },
   "source": [
    "Con la base lista podemos construir nuestra función recomendadora:"
   ]
  },
  {
   "cell_type": "code",
   "execution_count": null,
   "metadata": {
    "id": "4kSjpm-r2pmW"
   },
   "outputs": [],
   "source": [
    "## Construir funcion de media\n",
    "## llenar\n",
    "def cf_user_mean(user_id, movie_id):\n",
    "    \n",
    "    # Primero verificamos si la película está en la matriz\n",
    "    if movie_id in r_matrix:\n",
    "        # Si esta calculamos la media de los ratings\n",
    "        mean_rating = r_matrix[movie_id].mean()\n",
    "    \n",
    "    else:\n",
    "        # Si no lo está, asignamos el valor de 3 (los invito a que prueben con otros valores)\n",
    "        mean_rating = 3.0\n",
    "    \n",
    "    return mean_rating"
   ]
  },
  {
   "cell_type": "markdown",
   "metadata": {
    "id": "84K28QbW2pmW"
   },
   "source": [
    "Podemos entonces evaluar el RMSE que obtendremos de la base de prueba de haber entrenado la función recomendadora en la base de entrenamiento:"
   ]
  },
  {
   "cell_type": "code",
   "execution_count": null,
   "metadata": {
    "id": "kuhTAxdJ2pmW"
   },
   "outputs": [],
   "source": [
    "# crear funcion Score modelo\n",
    "def score(cf_model):\n",
    "    # Construimos una lista con las tuplas usuario-película en la base de entrenamiento\n",
    "    id_pairs = zip(X_test['user_id'], X_test['movie_id'])\n",
    "    # Predecimos el rating para cada tupla usuario-película\n",
    "    y_pred = np.array([cf_model(user, movie) for (user, movie) in\n",
    "   id_pairs])\n",
    "    # Extraemos los ratings que dieron los usuarios en la base de prueba\n",
    "    y_true = np.array(X_test['rating'])\n",
    "    # Retornamos el RMSE\n",
    "    return rmse(y_true, y_pred)"
   ]
  },
  {
   "cell_type": "markdown",
   "metadata": {
    "id": "WfBbiBx02pmW"
   },
   "source": [
    "Aplicamos esta función y obtenemos el RMSE de este modelo"
   ]
  },
  {
   "cell_type": "code",
   "execution_count": null,
   "metadata": {
    "colab": {
     "base_uri": "https://localhost:8080/"
    },
    "id": "mow6M3G_2pmW",
    "outputId": "d9b3af03-e1db-4627-f0c4-941f4c339f76"
   },
   "outputs": [],
   "source": [
    "## aplicar funcion\n",
    "score(cf_user_mean)"
   ]
  },
  {
   "cell_type": "markdown",
   "metadata": {
    "id": "P71JXExg2pmX"
   },
   "source": [
    "Podemos entonces utlizar este resultado como una base para la comparación a los modelos subsiguientes."
   ]
  },
  {
   "cell_type": "markdown",
   "metadata": {
    "id": "DpZe8y7s2pmX"
   },
   "source": [
    "### Medias ponderadas\n"
   ]
  },
  {
   "cell_type": "code",
   "execution_count": null,
   "metadata": {
    "id": "Z7Zioyhm2pmY"
   },
   "outputs": [],
   "source": [
    "# Rellenamos los faltantes con 0\n",
    "r_matrix_dummy = r_matrix.copy().fillna(0)"
   ]
  },
  {
   "cell_type": "code",
   "execution_count": null,
   "metadata": {
    "colab": {
     "base_uri": "https://localhost:8080/",
     "height": 455
    },
    "id": "AN-SdqI8KEaJ",
    "outputId": "155124ee-3d9f-483c-c597-7d4b484176de"
   },
   "outputs": [],
   "source": [
    "r_matrix_dummy"
   ]
  },
  {
   "cell_type": "markdown",
   "metadata": {
    "id": "GfxchRuw2pmY"
   },
   "source": [
    "Con esto estamos en condiciones de usar la función `cosine_similarity` que va a calcular la similitud de coseno."
   ]
  },
  {
   "cell_type": "code",
   "execution_count": null,
   "metadata": {
    "colab": {
     "base_uri": "https://localhost:8080/",
     "height": 488
    },
    "id": "t398_lu42pmY",
    "outputId": "b99320ac-8fc2-4f68-a031-384a8d0da8a1"
   },
   "outputs": [],
   "source": [
    "# Importamos cosine_similarity \n",
    "from sklearn.metrics.pairwise import cosine_similarity\n",
    "\n",
    "#Calculamos la similitud de coseno \n",
    "cosine_sim = cosine_similarity(r_matrix_dummy, r_matrix_dummy)\n",
    "\n",
    "# Transformamos la matriz resultante en un dataframe\n",
    "cosine_sim = pd.DataFrame(cosine_sim, index=r_matrix.index, columns=r_matrix.index)\n",
    "\n",
    "cosine_sim.head(10)"
   ]
  },
  {
   "cell_type": "markdown",
   "metadata": {
    "id": "v_nUetPs2pmY"
   },
   "source": [
    "Tenemos entonces como resultado una matriz que muestra la similitud de coseno entre los diferentes usuarios. La matriz diagonal que muestra $1$ nos dice que la similitud entre el usuario 1 y sí mismo es 1. Note que el 0.16 dice que la similitud entre 1 y 2 es de 0.16. En este caso, dado que estamos evaluando ratings positivos, esta matriz retornará entradas positivas.\n",
    "\n",
    "Con esta matriz calculada podemos entonces utilizarla para construir nuestra función recomendadora basada en medias ponderadas."
   ]
  },
  {
   "cell_type": "code",
   "execution_count": null,
   "metadata": {
    "id": "y2wOQpsZ2pmZ"
   },
   "outputs": [],
   "source": [
    "#Completar\n",
    "#Crear función recomendadora basada en medias con input user_id y movie_id\n",
    "def cf_user_wmean(user_id, movie_id):\n",
    "    \n",
    "    # Primero verificamos si la película esta en la matriz\n",
    "    if movie_id in r_matrix:\n",
    "    \n",
    "        #Buscamos las medidas de similitud con los otros usuarios\n",
    "        sim_scores = cosine_sim[user_id]\n",
    "        \n",
    "        \n",
    "        # Obtenemos los ratings no faltantes de la matriz bajo evaluación\n",
    "        m_ratings = r_matrix[movie_id]\n",
    "        \n",
    "         # Obtenemos los índicies de las películas sin rating \n",
    "        idx = m_ratings[m_ratings.isnull()].index\n",
    "        \n",
    "        # Nos quedamos con similitudes y ratings completos\n",
    "        sim_scores = sim_scores.drop(idx)\n",
    "        m_ratings = m_ratings.dropna()\n",
    "        \n",
    "        # Calculamos la media ponderada\n",
    "        wmean_rating = np.dot(sim_scores, m_ratings)/ sim_scores.sum()\n",
    "    \n",
    "    else:\n",
    "        # Si no tenemos ninguna información retornamos 3\n",
    "        wmean_rating = 3.0\n",
    "    \n",
    "    return wmean_rating"
   ]
  },
  {
   "cell_type": "code",
   "execution_count": null,
   "metadata": {
    "colab": {
     "base_uri": "https://localhost:8080/"
    },
    "id": "dqBnE8mBLTMn",
    "outputId": "bdf2a4c3-5ff5-493e-ad22-f99804e508df"
   },
   "outputs": [],
   "source": [
    "cosine_sim[1]"
   ]
  },
  {
   "cell_type": "code",
   "execution_count": null,
   "metadata": {
    "colab": {
     "base_uri": "https://localhost:8080/"
    },
    "id": "ellxrgClL_Zj",
    "outputId": "582d2ca0-97da-4aa3-d69e-d89ac98578a2"
   },
   "outputs": [],
   "source": [
    "sim_scores = cosine_sim[1]\n",
    "r_matrix[1]\n",
    "m_ratings = r_matrix[1]\n",
    "idx = m_ratings[m_ratings.isnull()].index\n",
    "        \n",
    "# Nos quedamos con similitudes y ratings completos\n",
    "sim_scores = sim_scores.drop(idx)\n",
    "m_ratings = m_ratings.dropna()\n",
    "m_ratings"
   ]
  },
  {
   "cell_type": "markdown",
   "metadata": {
    "id": "JImiQMVQ2pmZ"
   },
   "source": [
    "Estamos en condiciones entonces de evaluar este modelo con la función antes creada:"
   ]
  },
  {
   "cell_type": "code",
   "execution_count": null,
   "metadata": {
    "colab": {
     "base_uri": "https://localhost:8080/"
    },
    "id": "gMtjO5rQ2pmZ",
    "outputId": "6f6fadc0-4346-432f-b153-d8cc0c16192f"
   },
   "outputs": [],
   "source": [
    "score(cf_user_wmean)"
   ]
  },
  {
   "cell_type": "markdown",
   "metadata": {
    "id": "o-FTYZ6c2pmZ"
   },
   "source": [
    "Notemos que esta simple \"sofisticación\" mejora el desempeño predictivo."
   ]
  },
  {
   "cell_type": "markdown",
   "metadata": {
    "id": "6hG4T7av2pmZ"
   },
   "source": [
    "### Datos demográficos de los usuarios\n",
    "\n",
    "El modelo anterior entonces incorporó  similitud entre las calificaciones de los usuarios para mejorar las recomendaciones. ¿Qué sucede entonces si utilizamos variables demográficas? La intuición es que individuos de similares géneros, profesiones, edades, etc., tendrán preferencias más similares que individuos con características demográficas diferentes.\n",
    "\n",
    "En este caso lo que haremos es restringir a los ratings de individuos con las mismas características demográficas, en jerga estadística, utilizaremos un modelo de medias condicionales.\n",
    "\n",
    "Para ello, primero unimos los datos originales sobre usuarios con nuestra base de entrenamiento."
   ]
  },
  {
   "cell_type": "code",
   "execution_count": null,
   "metadata": {
    "id": "R4emJ6Qq2pma"
   },
   "outputs": [],
   "source": [
    "merged_df = pd.merge(X_train, users)"
   ]
  },
  {
   "cell_type": "code",
   "execution_count": null,
   "metadata": {
    "colab": {
     "base_uri": "https://localhost:8080/",
     "height": 206
    },
    "id": "wcnNTRdt2pma",
    "outputId": "9d43dd54-c2c7-4a6c-836a-41158442265d"
   },
   "outputs": [],
   "source": [
    "merged_df.head()"
   ]
  },
  {
   "cell_type": "markdown",
   "metadata": {
    "id": "pO2q9t_X2pma"
   },
   "source": [
    "Con esta base que tiene ahora variables demográficas podemos intentar mejorar nuestro recomendador. Ilustremos entonces una función recomendadora basada en género y ocupación. Para ello, primero calculamos el rating promedio por género y ocupación. En `pandas` esto es relativamente sencillo utilizando la función `groupby`."
   ]
  },
  {
   "cell_type": "code",
   "execution_count": null,
   "metadata": {
    "id": "TmkJpKNY2pma"
   },
   "outputs": [],
   "source": [
    "users = users.set_index('user_id')"
   ]
  },
  {
   "cell_type": "code",
   "execution_count": null,
   "metadata": {
    "colab": {
     "base_uri": "https://localhost:8080/",
     "height": 362
    },
    "id": "b7AnjoaB2pma",
    "outputId": "61543c08-37ac-4735-8b29-04d88c3f5680"
   },
   "outputs": [],
   "source": [
    "# Calculamos el rating promedio basado en género y ocupación\n",
    "# Completar\n",
    "gen_occ_mean = merged_df[['genero', 'rating', 'movie_id', 'ocupacion']].pivot_table(\n",
    "    values='rating', index='movie_id', columns=['ocupacion', 'genero'], aggfunc='mean')\n",
    "\n",
    "gen_occ_mean.head()"
   ]
  },
  {
   "cell_type": "markdown",
   "metadata": {
    "id": "S9qo2ucZ2pmb"
   },
   "source": [
    "Tenemos entonces el promedio de rating por género y ocupación. Así, los administradores femeninos ranquearon la película 1 con un promedio de 3.93 y los masculinos con 3.75. Mientras que los artistas no ranquearon la película 2. Con esta información generamos una función recomendadora que incorpore esta información y en los casos donde no tenemos información utilizaremos el rating 3 como default."
   ]
  },
  {
   "cell_type": "code",
   "execution_count": null,
   "metadata": {
    "id": "g5cM_3IV2pmb"
   },
   "outputs": [],
   "source": [
    "#Completar función recomendadora que incorpore la información anterior\n",
    "def cf_gen_occ(user_id, movie_id):\n",
    "    \n",
    "    # Verificamos si la película existe en gen_occ_mean\n",
    "    if movie_id in gen_occ_mean.index:\n",
    "        \n",
    "        #Identificamos el usuario\n",
    "        user = users.loc[user_id]\n",
    "        \n",
    "        #Identificamos el género y la ocupación\n",
    "        gender = user['genero']\n",
    "        occ = user['ocupacion']\n",
    "        \n",
    "        # Verificamos si la ocupación calificó la película\n",
    "        if occ in gen_occ_mean.loc[movie_id]:\n",
    "            \n",
    "            # Verificamos si el género calificó la película\n",
    "            if gender in gen_occ_mean.loc[movie_id][occ]:\n",
    "                \n",
    "                # Obtenemos la calificación\n",
    "                rating = gen_occ_mean.loc[movie_id][occ][gender]\n",
    "                \n",
    "                # Default de 3.0 si no tiene calificación\n",
    "                if np.isnan(rating):\n",
    "                    rating = 3.0\n",
    "                \n",
    "                return rating\n",
    "            \n",
    "    # Default de 3.0 si no tiene calificación\n",
    "    return 3.0"
   ]
  },
  {
   "cell_type": "markdown",
   "metadata": {
    "id": "7AxDgPox2pmb"
   },
   "source": [
    "Evaluamos entonces esta función recomendadora:"
   ]
  },
  {
   "cell_type": "code",
   "execution_count": null,
   "metadata": {
    "colab": {
     "base_uri": "https://localhost:8080/"
    },
    "id": "1h45SWsR2pmb",
    "outputId": "2631c78c-1747-4a72-ef8e-ea5c11c693d9"
   },
   "outputs": [],
   "source": [
    "score(cf_gen_occ)"
   ]
  },
  {
   "cell_type": "markdown",
   "metadata": {
    "id": "ENCPC-0L2pmc"
   },
   "source": [
    "Vemos que esta función es la que peor funciona de las antes evaluadas. La función que incorporaba el coseno como medida de similitud lograba mejores recomendaciones. En la sección siguiente nos centraremos en entender mejor las medidas de similitud y cómo estas nos permiten mejorar los recomendadores."
   ]
  },
  {
   "cell_type": "markdown",
   "metadata": {
    "id": "a6dl8N_t2pmc"
   },
   "source": [
    "## Filtrado colaborativo basado en *embeddings*\n",
    "\n",
    "Como vimos anteriormente parte del problema reside en encontrar productos similares para recomendar. Una forma de lograrlo es utilizando *embeddings*. \n",
    "\n",
    "Los *embeddings* (también conocidos como incrustaciones en español) son representaciones numéricas de alta dimensionalidad que se utilizan para codificar conceptos, objetos o entidades en un espacio vectorial. Estas representaciones son aprendidas automáticamente a partir de datos y se caracterizan por capturar características y relaciones entre los elementos. Los embeddings son ampliamente utilizados en diversas áreas de la inteligencia artificial, como el procesamiento del lenguaje natural (PLN), la visión por computadora y los sistemas de recomendación.\n",
    "\n",
    "Un *embedding* o incrustación implica entonces un mapeo de un conjunto discreto (el conjunto de elementos a recomendar) a un espacio vectorial de menor dimensión llamado *embedding space* o *espacio de incrustación*. Este  *embedding space* es de dimensión considerablemente menor al tamaño del espacio original y captura alguna estructura latente de los elementos. \n",
    "\n",
    "Por ejemplo, supongamos que tenemos una lista de números: [1, 2, 3, 4]. Si queremos representar estos números en un espacio de embedding de 1 dimensión, podríamos usar la siguiente codificación:\n",
    "\n",
    "    - 1 -> 2.5\n",
    "    - 2 -> 4.0\n",
    "    - 3 -> 5.5\n",
    "    - 4 -> 7.0\n",
    "\n",
    "En este caso, cada número se ha mapeado a un solo valor en *embedding space* de una dimensión.  Es importante tener en cuenta que, en la práctica, los espacios de embedding suelen tener más dimensiones para capturar mejor la complejidad y las relaciones entre los elementos.\n",
    "\n",
    "\n",
    "### Ejemplo: Embeddings para recomendar películas \n",
    "\n",
    "Estudiemos un ejemplo en el que queremos generar recomendaciones de películas a partir de *embeddings*. Supondremos que nuestra plataforma de streaming: **\"SlowFlow\"** tiene 4 usuarios y 5 películas: [Batman: El caballero de la noche asciende](https://es.wikipedia.org/wiki/The_Dark_Knight_Rises), [Harry Potter y la Piedra Filosofal](https://es.wikipedia.org/wiki/Harry_Potter_y_la_piedra_filosofal), [Shrek](https://es.wikipedia.org/wiki/Shrek), [Las trillizas de Belleville](https://es.wikipedia.org/wiki/Les_Triplettes_de_Belleville) y [Memento](https://es.wikipedia.org/wiki/Memento). \n"
   ]
  },
  {
   "cell_type": "markdown",
   "metadata": {
    "id": "Xp1ujKu22pmc"
   },
   "source": [
    "|                **Película**               | **Clasificación** |                                                                                                  **Descripción**                                                                                                  |\n",
    "|:-----------------------------------------:|:-----------------:|:-----------------------------------------------------------------------------------------------------------------------------------------------------------------------------------------------------------------:|\n",
    "| Batman: El caballero de la noche asciende |       PG-13       |                              Batman se esfuerza por salvar a Gotham City de la aniquilación nuclear en esta secuela del Caballero de la Noche ambientada en el universo de DC Comics.                             |\n",
    "|     Harry Potter y la Piedra Filosofal    |         PG        |                       Un niño huérfano descubre que es un mago y se matricula en el Colegio Hogwarts de Magia y Hechicería donde libra su primera batalla contra el malvado Lord Voldemort.                       |\n",
    "|                   Shrek                   |         PG        |                                Un ogro adorable y su compañero burro se embarcan en una misión para rescatar a la princesa Fiona que está encarcelada en su castillo por un dragón.                               |\n",
    "|        Las trillizas de Belleville        |       PG-13       | Cuando el ciclista profesional Champion es secuestrado durante el Tour de Francia, su abuela y su perro con sobrepeso viajan al extranjero para rescatarlo con la ayuda de un trío de ancianos cantantes de jazz. |\n",
    "|                  Memento                  |         R         |                                                       Un amnésico busca desesperadamente resolver el asesinato de su esposa tatuándose pistas en su cuerpo.                                                       |"
   ]
  },
  {
   "cell_type": "markdown",
   "metadata": {},
   "source": [
    "\n",
    "La siguiente matriz que llamaremos $A$, donde $A\\in\\mathbb{R}^{ m\\times n}$, es decir, las filas son los $m$ usuarios y las columnas las $n$ películas, muestra con un $\\checkmark$ las películas que cada usuario vió:\n",
    "\n",
    "\n",
    "<center>\n",
    "<img src = \"figs/colab0.png\" alt = \"embedding1D\" style = \"width: 500px;\"/>\n",
    "</center>\n",
    "\n",
    "\n",
    "El objetivo final del ejemplo será generar recomendaciones de películas a nuestros usuarios que no hayan visto.\n"
   ]
  },
  {
   "cell_type": "markdown",
   "metadata": {
    "id": "PhpExLvx2pmd"
   },
   "source": [
    "## ¿Cómo funcionan los embeddings?\n",
    "\n",
    "### Embedding en una sola dimensión \n",
    "\n",
    "Comencemos representando las películas y los usuarios a un *embedding space*  de una sola dimensión. Por ejemplo, a lo largo del segmento $[-1,1]$ de forma tal que películas e individuos similares estén más cerca.\n",
    "\n",
    "Uno de las posibles representaciones que podemos hacer es asignar un escalar que describa la película a lo largo de la dimensión: niños $\\rightarrow$ adultos. El escalar va a asignar valores negativos si la película es para niños y positivos si es para adultos. Es decir, estamos resumiendo toda la película a una sola dimensión.  La figura a continuación muestra este posible mapeo:"
   ]
  },
  {
   "cell_type": "markdown",
   "metadata": {
    "id": "jW7zvKV82pmd"
   },
   "source": [
    "<center>\n",
    "<img src = \"figs/colab1.png\" alt = \"embedding1D\" style = \"width: 500px;\"/>\n",
    "</center>"
   ]
  },
  {
   "cell_type": "markdown",
   "metadata": {
    "id": "hGFuLbzS2pmd"
   },
   "source": [
    "Mapeamos:\n",
    "\n",
    "- Shrek -> -1\n",
    "- Las trillizas de Belleville -> -0.8\n",
    "- Harry Potter -> -0.2\n",
    "- Batman -> 0.9\n",
    "- Memento -> 1\n",
    "\n",
    "Entonces Shrek que es para niños fue mapeada a -1, mientras que  Memento, que es para adultos, a  1. El resto de las películas fueron mapeadas a lo largo de esta dimensión. \n",
    "\n",
    "Por otro lado, podemos mapear a los 4 individuos a la dimensión de  preferencias por películas para niños o para adultos. Así por ejemplo, podríamos tener el siguiente mapeo: \n",
    "\n",
    "<center>\n",
    "<img src = \"figs/colab2b.png\" alt = \"embedding1D\" style = \"width: 500px;\"/>\n",
    "</center>\n",
    "\n",
    "donde:\n",
    "\n",
    "1. Amarillo -> -1\n",
    "2. Azul -> 0\n",
    "3. Rojo -> 0.1\n",
    "4. Verde -> 1\n",
    "\n",
    "Es decir, el individuo amarillo que prefiere películas de niños fue mapeado a 1 películas de niños, mientras que el individuo verde a 1 porque prefiere películas de adultos.\n",
    "\n",
    "Esta dimensión es útil ya que nos permitiría recomendar películas de niños a aquellos individuos que sólo ven películas de niños, o películas de adultos para aquellos que sólo ven este tipo de películas. Sin embargo hay otras dimensiones que no están siendo capturadas y que potencialmente ayudarían a mejorar las recomendaciones. Continuando con el ejemplo, agreguemos una segunda dimensión.\n"
   ]
  },
  {
   "cell_type": "markdown",
   "metadata": {},
   "source": [
    "#### Embeddings en dos dimensiones\n",
    "\n",
    "Agreguemos ahora otra dimensión: la popularidad de película. Mediremos esta como el grado en que cada película es [cine de culto](https://es.wikipedia.org/wiki/Pel%C3%ADcula_de_culto) o es un éxito de taquilla. En este caso el escalar nuevamente estará entre $[-1,1]$ y tomará -1 si es una película de culto y 1 si es un éxito de taquilla. \n",
    "\n",
    "Con esta segunda característica, podemos ubicar las películas en un espacio bidimensional: \n",
    "\n",
    "<center>\n",
    "<img src = \"figs/colab4.png\" alt = \"embedding2D\" style = \"width: 500px;\"/>\n",
    "</center>\n",
    "\n",
    "\n",
    "Shrek que fue un éxito de taquilla y una película de niños se ubica en el cuadrante superior izquierdo, mientras que Memento, una película de culto y para adultos esta en el cuadrante inferior derecho. En este caso, cada película se ha mapeado a un vector de 2 dimensiones en el *embedding space*. Las películas con contextos similares tienden a tener embeddings más cercanos entre sí, lo que facilita la identificación de similitudes en el espacio vectorial.\n",
    "\n",
    "De manera más general, lo que estamos haciendo es reducir la dimensión de las películas a un *embedding space* . En este espacio cada película se describe mediante un conjunto de coordenadas. Por ejemplo, en este espacio, \"Shrek\" tiene las coordenadas  (-1, 0,95) y \"Memento\" (1, -0,5). En general, cuando mapeamos a un espacio $d-dimensional$, cada película se representa mediante $d$ números con valores reales, cada uno de los cuales da la coordenada en una dimensión.\n",
    "\n",
    "De la misma forma, podemos mapear a los individuos en este espacio:\n",
    "\n",
    "<center>\n",
    "<img src = \"figs/colab5.png\" alt = \"embedding2D\" style = \"width: 500px;\"/>\n",
    "</center>\n",
    "\n",
    "\n",
    "Podemos ver la información de los *embeddings* que obtuvimos en los pasos anteriores en la siguiente matriz:\n",
    "\n",
    "<center>\n",
    "<img src = \"figs/colab3b.png\" alt = \"embedding2D\" style = \"width: 500px;\"/>\n",
    "</center>\n",
    "\n",
    "Donde las filas representan a los individuos y el mapeo a las distintos dimensiones dependiendo sus preferencias. Las columnas mientras tanto representan a los películas y el mapeo a las distintas dimensiones.\n",
    "\n",
    "En estos ejemplos, diseñamos a mano los *embeddings* y nombramos estas dimensiones. En la práctica, los *embeddings*  son aprendidas de los datos lo que lleva a que a menudo las dimensiones individuales no tienen un nombre o interpretación clara. "
   ]
  },
  {
   "cell_type": "markdown",
   "metadata": {},
   "source": [
    "#### Recomendaciones a partir de Embeddings\n",
    "\n",
    "En los pasos anteriores construimos dos  *embeddings spaces* uno para las películas y otro para los usuarios. Una ventaja de estos espacios es que nos van a permitir construir recomendaciones. \n",
    "\n",
    "Con los *embeddings* de los productos podemos construir una matriz de *embeddings* de elementos $V\\in\\mathbb{R}^{ n\\times d}$, donde la fila $j$ es el *embedding* del elemento $j$, que en nuestro ejemplo estará dada por la matriz de *embeddings* de las películas construidas en el paso anterior\n",
    "\n",
    " $$\n",
    "V=\\left(\\begin{array}{cc}\n",
    "0.9 & -0.2\\\\\n",
    "-1 & -0.8\\\\\n",
    "1 & -1\\\\\n",
    "1 & 0.9\\\\\n",
    "-0.9 & 1\n",
    "\\end{array}\\right)\n",
    "$$\n",
    "\n",
    "donde la primer columna es la dimensión *culto-> taquillera* y el segundo *niños -> adultos*. De la misma forma tendremos una matriz de  *embeddings* de usuarios $U\\in\\mathbb{R}^{ m\\times d}$ donde la fila $i$ es el *embedding* del usuario $i$:\n",
    "\n",
    "$$\n",
    "U=\\left(\\begin{array}{cc}\n",
    "1 & 0.1\\\\\n",
    "-1 & 0\\\\\n",
    "0.2 & -1\\\\\n",
    "0.1 & 1\n",
    "\\end{array}\\right)\n",
    "$$\n",
    "\n",
    "Con estos *embeddings* vamos a buscar  reconstruir la matriz que contiene la información sobre si los usuarios vieron o no la película, la matriz $A\\in\\mathbb{R}^{ m\\times n}$ \n",
    "\n",
    "$$\n",
    "A=\\left(\\begin{array}{ccccc}\n",
    "1 & 0 & 1 & 1 & 0\\\\\n",
    "0 & 1 & 0 & 0 & 1\\\\\n",
    "1 & 1 & 1 & 0 & 0\\\\\n",
    "0 & 0 & 0 & 1 & 1\\\\\n",
    "\\end{array}\\right)\n",
    "$$\n",
    "\n",
    "donde 1 indica que el usuario vio la película, y 0 que no. Lo que vamos a hacer aproximar $A$ por el producto de los embeddings $UV^T$."
   ]
  },
  {
   "cell_type": "markdown",
   "metadata": {},
   "source": [
    "Haciendo la operación en Python"
   ]
  },
  {
   "cell_type": "code",
   "execution_count": null,
   "metadata": {},
   "outputs": [],
   "source": [
    "import numpy as np\n",
    "U = np.array([[1,0.1], [-1,0], [0.2,-1],[0.1,1]])\n",
    "VT = np.transpose(np.array([[0.9,-0.2],[-1,-0.8],[1,-1],[1,0.9],[-0.9,1]]))\n",
    "np.dot(U,VT)"
   ]
  },
  {
   "cell_type": "markdown",
   "metadata": {},
   "source": [
    "Tenemos entonces una aproximación a la matriz $A$ pero también obtenemos información adicional en las entradas que antes tenían cero. Esta información puede ser utilizada para generar las recomendaciones. Asi por ejemplo, al cuarto usuario primero le recomendaríamos Shrek, mientras que al segundo usuario le recomendaríamos Batman.\n",
    "\n",
    "\n",
    "<center>\n",
    "    <img src = \"figs/colab7c.png\" alt = \"embedding2D\" style = \"width: 700px;\"/>\n",
    "</center>"
   ]
  },
  {
   "cell_type": "markdown",
   "metadata": {},
   "source": [
    "### Generación de *Embeddings*\n",
    "\n",
    "Finalmente queda discutir como generar estas matrices de *embeddings*. La sección anterior nos da una idea de como hacerla, dada la matriz observada $A\\in\\mathbb{R}^{ m\\times n}$ con $m$ usuarios y $n$ ítems, queremos encontrar una representación de esta matriz en una dimensión menor y que capture las relaciones subyacentes entre usuarios y películas.\n"
   ]
  },
  {
   "cell_type": "markdown",
   "metadata": {},
   "source": [
    "### Factorización de matrices\n",
    "\n",
    " La factorización de matrices es un modelo simple que nos permite generar estos *embeddings*.\n",
    "\n",
    "Dada la matriz $A\\in\\mathbb{R}^{ m\\times n}$ con $m$ usuarios y $n$ ítems, buscaremos que el modelo genere:\n",
    "\n",
    "- Una matriz de *embeddings* de usuarios $U\\in\\mathbb{R}^{ m\\times d}$ donde la fila $i$ es el *embedding* del usuario $i$.\n",
    "- Una matriz de *embeddings* de elementos $V\\in\\mathbb{R}^{ n\\times d}$, donde la fila $j$ es el *embedding* del elemento $j$.\n",
    "\n",
    "Los *embeddings* se generaran de forma tal que el producto $UV^T$ sea una buena representación de la matriz $A$. Volviendo al ejemplo anterior, $U$ estará dado por:\n",
    "\n",
    "$$\n",
    "U=\\left(\\begin{array}{cc}\n",
    "1 & .1\\\\\n",
    "-1 & 0\\\\\n",
    ".2 & -1\\\\\n",
    ".1 & 1\n",
    "\\end{array}\\right)\n",
    "$$\n",
    "\n",
    "y $V$ estará dada por \n",
    "\n",
    "$$\n",
    "V=\\left(\\begin{array}{cc}\n",
    ".9 & -.2\\\\\n",
    "-.8 & -.8\\\\\n",
    "1 & -1\\\\\n",
    "1 & .9\\\\\n",
    "-.9 & 1\n",
    "\\end{array}\\right)\n",
    "$$\n",
    "\n",
    "De forma tal que el producto aproxime de la matriz que indica que película ha visto:\n",
    "\n",
    "\n",
    "<center>\n",
    "<img src = \"figs/colab7c.png\" alt = \"embedding2D\" style = \"width: 500px;\"/>\n",
    "</center>\n"
   ]
  },
  {
   "cell_type": "markdown",
   "metadata": {},
   "source": [
    "En nuestro caso vamos al descomponer la matriz de ratings $A$, que describe las interacciones usuario-películas, nos encontramos con tres matrices de menor dimensión: \n",
    "\n",
    "- $U$  la matriz de *embeddings* de usuarios, \n",
    "- $V$ la  matriz de *embeddings* de películas, \n",
    "- $S$ la matriz diagonal de los valores singulares.\n",
    "\n",
    "La matriz diagonal de valores singulares ($S$) es fundamental para comprender la estructura latente que se captura durante el proceso de SVD en sistemas de recomendación. Estos valores singulares están ordenados de mayor a menor, lo que nos permite truncar la descomposición para conservar solo los primeros $d$ valores singulares más importantes reduciendo efectivamente la dimensión. Estos $d$ valores singulares determinarán también la dimensión del *embedding space*. \n",
    "\n",
    "La estructura latente capturada por los valores singulares se refiere a las relaciones y patrones subyacentes en los datos originales que son descubiertos por la SVD. Cada valor singular en la matriz $S$ representa la importancia de una dimensión específica en la representación de la matriz original. Al estar ordenados de mayor a menor, significa que los primeros valores singulares capturan la mayor cantidad de información relevante, mientras que los valores singulares más pequeños representan información menos relevante o ruido.\n",
    "\n",
    "Cuando seleccionamos solo los primeros $d$ valores singulares más importantes para reconstruir la matriz original, estamos reduciendo la dimensionalidad de los datos. La dimensionalidad reducida se refiere a que solo estamos considerando las $d$ dimensiones más significativas para representar los usuarios y películas en un espacio de *embeddings* \n",
    "\n",
    "Esta reducción de dimensionalidad permite que el modelo capture de manera más eficiente las relaciones y similitudes entre usuarios y películas, ya que las dimensiones menos relevantes o ruidosas se descartan. Esencialmente, los *embeddings* resultantes de SVD se encuentran en un espacio de menor dimensión, pero aún conservan una representación significativa de los patrones de interacción entre usuarios y películas. Es por ello que la selección del número adecuado de valores singulares es un paso crítico en la aplicación de SVD para sistemas de recomendación. Un valor demasiado pequeño puede resultar en una pérdida significativa de información y, por lo tanto, en recomendaciones inexactas. Por otro lado, un valor demasiado grande puede llevar a problemas de sobreajuste y un aumento en la complejidad computacional.\n",
    "\n",
    "La estructura latente capturada por los valores singulares se puede interpretar como características o conceptos latentes que subyacen a las interacciones entre usuarios y películas. Estas características pueden representar preferencias de los usuarios, intereses específicos o temáticas de los películas. En nuestro ejemplo las características latentes eran si la película era para niños o adultos y su éxito en la taquilla. Pero podríamos tener otras  características latentes que en ocasiones, podemos inspeccionar y asignarle una interpretación. Sin embargo, generalmente esto no será posible ya que estarán capturando una dimensión subyacente, ya que no representa una característica no explícita en los datos sino que se deduce de ellos.\n",
    "\n",
    "Al capturar estas características latentes, SVD permite una representación más compacta y significativa de los usuarios y las películas, lo que facilita la recomendación eficiente de películas similares a los que el usuario ha mostrado interés previamente.\n",
    "\n",
    "\n",
    "En resumen, los valores singulares en la SVD nos permiten identificar y representar las características latentes más importantes en los datos originales, lo que facilita la recomendación precisa y eficiente de elementos para los sistemas de recomendación basados en usuarios.\n"
   ]
  },
  {
   "cell_type": "markdown",
   "metadata": {},
   "source": [
    "####  Interpretación de Embeddings\n",
    "\n",
    "##### Ejemplo 1:"
   ]
  },
  {
   "cell_type": "code",
   "execution_count": null,
   "metadata": {},
   "outputs": [],
   "source": [
    "import pandas as pd\n",
    "import numpy as np\n",
    "\n",
    "# Cargamos y visualizamos  los datos\n",
    "pelis = pd.read_csv('https://github.com/ignaciomsarmiento/datasets/raw/refs/heads/main/pelis.csv')\n",
    "pelis = pelis.set_index(\"Usuarios\")\n",
    "pelis"
   ]
  },
  {
   "cell_type": "code",
   "execution_count": null,
   "metadata": {},
   "outputs": [],
   "source": [
    "np.linalg.matrix_rank(pelis.to_numpy())"
   ]
  },
  {
   "cell_type": "code",
   "execution_count": null,
   "metadata": {},
   "outputs": [],
   "source": [
    "U, S, Vt = np.linalg.svd(pelis, full_matrices=False)"
   ]
  },
  {
   "cell_type": "code",
   "execution_count": null,
   "metadata": {},
   "outputs": [],
   "source": [
    "print(U[:,0:2])"
   ]
  },
  {
   "cell_type": "code",
   "execution_count": null,
   "metadata": {},
   "outputs": [],
   "source": [
    "print(Vt[0:2,:])"
   ]
  },
  {
   "cell_type": "markdown",
   "metadata": {},
   "source": []
  },
  {
   "cell_type": "code",
   "execution_count": null,
   "metadata": {},
   "outputs": [],
   "source": [
    "n=2\n",
    "k=2\n",
    "S2= np.resize(S,[n,1])*np.eye(n,k) #ponemos los valores singulares en una matriz diagonal\n",
    "\n",
    "print(S2)"
   ]
  },
  {
   "cell_type": "code",
   "execution_count": null,
   "metadata": {},
   "outputs": [],
   "source": [
    "#Reconstrucción\n",
    "l=2\n",
    "pd.DataFrame(np.dot(U[:,0:l],np.dot(S2[0:l,0:l],Vt[0:l,:]))).round()"
   ]
  },
  {
   "cell_type": "markdown",
   "metadata": {},
   "source": [
    "##### Ejemplo 2:"
   ]
  },
  {
   "cell_type": "code",
   "execution_count": null,
   "metadata": {},
   "outputs": [],
   "source": [
    "# Cargamos y visualizamos  los datos\n",
    "pelis2 = pd.read_csv('https://github.com/ignaciomsarmiento/datasets/raw/refs/heads/main/pelis2.csv')\n",
    "pelis2 = pelis2.set_index(\"Usuarios\")\n",
    "pelis2"
   ]
  },
  {
   "cell_type": "code",
   "execution_count": null,
   "metadata": {},
   "outputs": [],
   "source": [
    "np.linalg.matrix_rank(pelis2.to_numpy())"
   ]
  },
  {
   "cell_type": "code",
   "execution_count": null,
   "metadata": {},
   "outputs": [],
   "source": [
    "U, S, Vt = np.linalg.svd(pelis2,full_matrices=False)\n",
    "print('U, S, Vt ='), U, S, Vt"
   ]
  },
  {
   "cell_type": "code",
   "execution_count": null,
   "metadata": {},
   "outputs": [],
   "source": [
    "n=3\n",
    "k=3\n",
    "S2= np.resize(S,[n,1])*np.eye(n,k) #ponemos los valores singulares en una matriz diagonal\n",
    "l=3\n",
    "pd.DataFrame(np.dot(U[:,0:l],np.dot(S2[0:l,0:l],Vt[0:l,:]))).round()"
   ]
  },
  {
   "cell_type": "markdown",
   "metadata": {
    "id": "DKIqLUpg2pmg"
   },
   "source": [
    "# Ejemplo 3\n"
   ]
  },
  {
   "cell_type": "markdown",
   "metadata": {
    "id": "M1O4yOJD2pmg"
   },
   "source": [
    "<center>\n",
    "<img src = \"figs/colab7c.png\" alt = \"embedding2D\" style = \"width: 500px;\"/>\n",
    "</center>"
   ]
  },
  {
   "cell_type": "code",
   "execution_count": null,
   "metadata": {
    "id": "_nigjQAb2pmg"
   },
   "outputs": [],
   "source": [
    "#Importamos libreria numpy\n",
    "import numpy as np\n",
    "#Completar creación de matriz y matriz transpuesta\n",
    "U = np.array([[1,0.1], [-1, 0], [0.2,-1],[0.1,1]])\n",
    "VT = np.transpose(np.array([[0.9,-0.2], [-1, -0.8], [1,-1],[1,0.9],[-0.9,1]]))"
   ]
  },
  {
   "cell_type": "code",
   "execution_count": null,
   "metadata": {
    "colab": {
     "base_uri": "https://localhost:8080/"
    },
    "id": "Z6Ugnj-R2pmh",
    "outputId": "dc434419-870b-4c9c-b70d-55cb0015253d"
   },
   "outputs": [],
   "source": [
    "U"
   ]
  },
  {
   "cell_type": "code",
   "execution_count": null,
   "metadata": {
    "colab": {
     "base_uri": "https://localhost:8080/"
    },
    "id": "eCqlwjDA2pmh",
    "outputId": "f906b98f-5081-4ad0-aa2d-4a1c902f6e5e"
   },
   "outputs": [],
   "source": [
    "VT"
   ]
  },
  {
   "cell_type": "code",
   "execution_count": null,
   "metadata": {
    "colab": {
     "base_uri": "https://localhost:8080/"
    },
    "id": "31yneIZf2pmh",
    "outputId": "361d69ad-0b11-4af3-a97f-0a33d29ec33a"
   },
   "outputs": [],
   "source": [
    "#Hacer producto punto entre ambas matrices\n",
    "np.dot(U,VT)\n"
   ]
  },
  {
   "cell_type": "markdown",
   "metadata": {
    "id": "5sibOPMR2pmh"
   },
   "source": [
    "Al factorizar estamos buscando una  representación más compacta que aprender la matriz completa. Particularmente, la matriz completa tiene $O(nm)$ entradas, mientras que las matriz de *embeddings*,  $U$ y $V$ tienen $O((n+m)d)$ entradas, donde la dimensión $d$ suele ser mucho más pequeña que $m$ y $n$.\n",
    "\n",
    "Como resultado, la factorización de matrices encuentra una estructura latente en los datos, asumiendo que las observaciones se encuentran cerca de un subespacio de baja dimensión. En el ejemplo anterior, los valores de $n$, $m$ y $d$ son tan pequeño que la ventaja es insignificante. Sin embargo, en los sistemas de recomendación reales, la factorización de matrices puede ser significativamente más compacta que aprender la matriz completa, como vimos con la reducción de dimensión de las imágenes. "
   ]
  },
  {
   "cell_type": "markdown",
   "metadata": {
    "id": "aOYJ2YHn2pmi"
   },
   "source": [
    "#### Ejemplo MovieLens \n",
    "\n"
   ]
  },
  {
   "cell_type": "code",
   "execution_count": null,
   "metadata": {
    "colab": {
     "base_uri": "https://localhost:8080/",
     "height": 267
    },
    "id": "URHu7i1m2pmi",
    "outputId": "83b2d23a-626e-4339-f673-6b8dce9a3760",
    "scrolled": true
   },
   "outputs": [],
   "source": [
    "## Crear pivot table de ratings con filas de usuarios y columnas los ids de peliculas con valores de ratings\n",
    "R_df = ratings.pivot(index = 'user_id', columns ='movie_id', values = 'rating').fillna(0)\n",
    "R_df.head()"
   ]
  },
  {
   "cell_type": "markdown",
   "metadata": {
    "id": "f9ekKfyG2pmi"
   },
   "source": [
    "Tenemos nuevamente un dataframe con los usuarios en las filas y las películas en la columnas. Necesitamos ahora transformarlas a una matriz y centrar en cero utilizando la media de los ratings de cada usuario."
   ]
  },
  {
   "cell_type": "code",
   "execution_count": null,
   "metadata": {
    "id": "bVM1UUA92pmj"
   },
   "outputs": [],
   "source": [
    "## Realizar media de rating de una pelicula segun los usuarios\n",
    "R = R_df.to_numpy()\n",
    "user_ratings_mean = np.mean(R, axis = 1)\n",
    "R_demeaned = R - user_ratings_mean.reshape(-1, 1)"
   ]
  },
  {
   "cell_type": "markdown",
   "metadata": {
    "id": "SuXk_0zw2pmj"
   },
   "source": [
    "En este cuaderno usaremos [SciPy](https://scipy.org/) es que permite elegir los valores singulares como argumento de la función en vez de tener que truncar la matriz posteriormente. Los invito a que prueben utilizando [Numpy](https://numpy.org/).\n",
    "\n",
    "En este ejemplo, utilizaremos 50 para ilustrar."
   ]
  },
  {
   "cell_type": "code",
   "execution_count": null,
   "metadata": {
    "id": "5NBs8hmK2pmj"
   },
   "outputs": [],
   "source": [
    "from scipy.sparse.linalg import svds\n",
    "# Completar SVD usando como parametro 50 valores singulares\n",
    "U, sigma, Vt = svds(R_demeaned, k = 50)"
   ]
  },
  {
   "cell_type": "markdown",
   "metadata": {
    "id": "3wl8_8AE2pmj"
   },
   "source": [
    "Para realizar nuestra recomendación tenemos que reconstruir la matriz $A$ con esta aproximación menor. Es decir tenermos que multiplicar $U$, $\\Sigma$, and $V^{T}$ para obtener la aproximación de rango $k=50$ de $A$. Puesto que centramos en cero los ratings, necesitamos agregarlos nuevamente.\n",
    "\n",
    "Haciendo esto tenemos:\n"
   ]
  },
  {
   "cell_type": "code",
   "execution_count": null,
   "metadata": {
    "id": "o1ZybTRV2pmj"
   },
   "outputs": [],
   "source": [
    "#Recrear la base de recomendaciones\n",
    "sigma = np.diag(sigma)\n",
    "\n",
    "db_recomendaciones = np.dot(np.dot(U, sigma), Vt) + user_ratings_mean.reshape(-1, 1)"
   ]
  },
  {
   "cell_type": "markdown",
   "metadata": {
    "id": "a8J3q46d2pmj"
   },
   "source": [
    "Notemos que eligimos $k=50$ de forma arbitraria. Si queremos optimizar este recomendador, tendríamos que proceder de forma similar a cómo lo hicimos al inicio de este *cuaderno*, dividir la muestra en entrenamiento y prueba, y buscar el número $k$ que minimize el RMSE. Los invito a que lo hagan por su cuenta y comparen los resultados con los recomendadores que construimos anteriormente."
   ]
  },
  {
   "cell_type": "markdown",
   "metadata": {
    "id": "TBMVL4302pmk"
   },
   "source": [
    "###### Recomendando películas.\n",
    "\n",
    "Con la matriz de recomendaciones podemos construir una función que genere recomendaciones a cualquier usuario.\n",
    "\n",
    "Esta función generará recomendaciones de películas para un usuario específico de forma tal que omita a aquellas que ya ha ranqueado. Estamos asumiendo que si la calificó es porque ya la vió, pero como comparación retornaremos por separado aquellas películas ya calificadas.\n",
    "\n",
    "Comenzamos poniendo las recomendaciones en un dataframe:"
   ]
  },
  {
   "cell_type": "code",
   "execution_count": null,
   "metadata": {
    "colab": {
     "base_uri": "https://localhost:8080/",
     "height": 300
    },
    "id": "XEfwkgUT2pmk",
    "outputId": "0584ac0c-d4f5-48ad-fbb0-48caa8d3db02",
    "scrolled": true
   },
   "outputs": [],
   "source": [
    "recomendac_df = pd.DataFrame(db_recomendaciones, columns = r_matrix.columns)\n",
    "recomendac_df.head()"
   ]
  },
  {
   "cell_type": "markdown",
   "metadata": {
    "id": "mFLfsWsz2pmk"
   },
   "source": [
    "Con este data frame armamos nuestra función recomendadora:"
   ]
  },
  {
   "cell_type": "code",
   "execution_count": null,
   "metadata": {
    "id": "jtaBxc-f2pmk"
   },
   "outputs": [],
   "source": [
    "#Completar\n",
    "#Crear función de recomendador\n",
    "def recomendador(predictions_df, user_id, movies_df, original_ratings_df, num_recommendations=5):\n",
    "    \n",
    "    # Obtenemos y ordenamos los usuarios \n",
    "    user_row_number = user_id - 1 # user_id inicia en 1, no 0, corregimos el índice\n",
    "    sorted_user_predictions = recomendac_df.iloc[user_row_number].sort_values(ascending=False) # UserID starts at 1\n",
    "    \n",
    "    # Obtenemos los datos de los usuarios y le agremamos los datos de la película\n",
    "    user_data = original_ratings_df[original_ratings_df.user_id == (user_id)]\n",
    "    user_full = (user_data.merge(movies, how = 'left', left_on = 'movie_id', right_on = 'movie_id').\n",
    "                     sort_values(['rating'], ascending=False)\n",
    "                 )\n",
    "\n",
    "    print('El usuario {0} ha calificado {1} películas.'.format(user_id, user_full.shape[0]))\n",
    "    print('Recomendando las {0} películas que no han sido calificadas.'.format(num_recommendations))\n",
    "    \n",
    "    # Generamos la recomendación de las películas que no ha visto todavía\n",
    "    recomendaciones = (movies_df[~movies_df['movie_id'].isin(user_full['movie_id'])].\n",
    "         merge(pd.DataFrame(sorted_user_predictions).reset_index(), how = 'left',\n",
    "               left_on = 'movie_id',\n",
    "               right_on = 'movie_id').\n",
    "         rename(columns = {user_row_number: 'Predictions'}).\n",
    "         sort_values('Predictions', ascending = False).\n",
    "                       iloc[:num_recommendations, :-1]\n",
    "                      )\n",
    "\n",
    "    return user_full, recomendaciones"
   ]
  },
  {
   "cell_type": "markdown",
   "metadata": {
    "id": "hyxD45cA2pmk"
   },
   "source": [
    "Notemos que la función toma como argumentos la base que construimos de recomendaciones predichas, el número de usuario, la base de películas y el número de películas que queremos que recomiende.\n",
    "\n",
    "Notemos que agregamos la base de películas a la función para poder incluir características explícitas de las películas, aunque no las utilizamos en la generación de los *embeddings* y por lo tanto en la recomendación. "
   ]
  },
  {
   "cell_type": "code",
   "execution_count": null,
   "metadata": {
    "colab": {
     "base_uri": "https://localhost:8080/"
    },
    "id": "kOajqm5V2pml",
    "outputId": "2487b88f-c5d3-4110-a997-46bcbdc18036"
   },
   "outputs": [],
   "source": [
    "calificadas, recomendaciones = recomendador(recomendac_df, 837, movies, ratings, 10)"
   ]
  },
  {
   "cell_type": "markdown",
   "metadata": {
    "id": "Ac4Jn1Ch2pml"
   },
   "source": [
    "Veamos entonces las recomendaciones generadas. El usuario 837, ha calificado 46 películas, entre las 10 en su tope tiene películas de romance com 'Jane Eyre' e infantiles como 'Willy Wonka and the Chocolate Factory':"
   ]
  },
  {
   "cell_type": "code",
   "execution_count": null,
   "metadata": {
    "colab": {
     "base_uri": "https://localhost:8080/",
     "height": 363
    },
    "id": "5exJF5jw2pml",
    "outputId": "22c9b3b3-795c-4f63-a698-e99fdb413279",
    "scrolled": true
   },
   "outputs": [],
   "source": [
    "calificadas.head(10)"
   ]
  },
  {
   "cell_type": "markdown",
   "metadata": {
    "id": "RjCSJF5d2pmm"
   },
   "source": [
    "Veamos las recomendaciones:"
   ]
  },
  {
   "cell_type": "code",
   "execution_count": null,
   "metadata": {
    "colab": {
     "base_uri": "https://localhost:8080/",
     "height": 363
    },
    "id": "2fVr_c4N2pmm",
    "outputId": "b77d2330-1074-46ad-96b9-3e16daf59586",
    "scrolled": true
   },
   "outputs": [],
   "source": [
    "recomendaciones"
   ]
  },
  {
   "cell_type": "markdown",
   "metadata": {
    "id": "t-3Gy8Ea2pmm"
   },
   "source": [
    "En estas recomendaciones aparecen películas de romance como \"Il Postino\" e infantiles como \"Toy Story\". Estas parecen ser recomendaciones bastante buenas. Notemos además que a pesar de que no incluimos el género como característica en la factorización, esta fue capaz de captar el *embedding* con esta dimensión."
   ]
  },
  {
   "cell_type": "markdown",
   "metadata": {
    "id": "a7y-Yuyk2pmn"
   },
   "source": [
    "# Referencias\n",
    "\n",
    "- Banik, R. (2018). Hands-on recommendation systems with Python: start building powerful and personalized, recommendation engines with Python. Packt Publishing Ltd.\n",
    "\n",
    "- Covington, P., Adams, J., & Sargin, E. (2016). Deep Neural Networks for YouTube recommendations. Proceedings of the 10th ACM Conference on Recommender Systems. https://doi.org/10.1145/2959100.2959190 \n",
    "\n",
    "- Google developers. (n.d.). Recommendation systems. Google. Consultado en Abril 3, 2022. Disponible en https://developers.google.com/machine-learning/recommendation/overview \n",
    "\n",
    "- Google developers. (n.d.). Embeddings: Motivation From Collaborative Filtering. Consultado en Mayo 13, 2022. Disponible en  https://developers.google.com/machine-learning/crash-course/embeddings/motivation-from-collaborative-filtering\n"
   ]
  }
 ],
 "metadata": {
  "colab": {
   "provenance": []
  },
  "kernelspec": {
   "display_name": "Python 3 (ipykernel)",
   "language": "python",
   "name": "python3"
  },
  "language_info": {
   "codemirror_mode": {
    "name": "ipython",
    "version": 3
   },
   "file_extension": ".py",
   "mimetype": "text/x-python",
   "name": "python",
   "nbconvert_exporter": "python",
   "pygments_lexer": "ipython3",
   "version": "3.9.12"
  },
  "toc": {
   "base_numbering": 1,
   "nav_menu": {},
   "number_sections": true,
   "sideBar": true,
   "skip_h1_title": false,
   "title_cell": "Table of Contents",
   "title_sidebar": "Contents",
   "toc_cell": false,
   "toc_position": {
    "height": "calc(100% - 180px)",
    "left": "10px",
    "top": "150px",
    "width": "300.2px"
   },
   "toc_section_display": true,
   "toc_window_display": true
  }
 },
 "nbformat": 4,
 "nbformat_minor": 4
}
