{
  "cells": [
    {
      "cell_type": "markdown",
      "metadata": {
        "id": "dJptJunyHyUM"
      },
      "source": [
        "<div >\n",
        "<img src = \"../Machine Learning Aplicado al Marketing-4875-x-834.jpg\" />\n",
        "</div>"
      ]
    },
    {
      "cell_type": "markdown",
      "metadata": {
        "id": "B5Ec05pLHyUS"
      },
      "source": [
        "# Sistemas de Recomendación basado en Contenidos"
      ]
    },
    {
      "cell_type": "markdown",
      "metadata": {
        "id": "B3yYBULn4gyn"
      },
      "source": [
        "[![Open In Colab](https://colab.research.google.com/assets/colab-badge.svg)](https://colab.research.google.com/github/ignaciomsarmiento/RecomSystemsLectures/blob/main/L06_basados_contenidos/L06_Content_clase.ipynb)\n"
      ]
    },
    {
      "cell_type": "markdown",
      "metadata": {
        "id": "bYnUE46bHyUT"
      },
      "source": [
        "Este *cuaderno* trata sobre filtrado colaborativo basado en contenidos. El objetivo del *cuaderno* es que usted obtenga una visión general del problema predictivo de los sistemas de recomendación que utilizan filtrado colaborativo basado en contenidos, aprenda distintos algoritmos que lo implementan, y que sea capaz de reconocer sus características, funcionamiento, y  desarrollarlos en `Python`.\n"
      ]
    },
    {
      "cell_type": "markdown",
      "metadata": {
        "id": "Swmw332zHyUT"
      },
      "source": [
        "## Introducción\n",
        "\n",
        "Los sistemas basados en contenido, a diferencia de los filtros colaborativos, no requieren datos relacionados a otros individuos u actividades pasadas. Por el contrario, estos brindan recomendaciones basadas en el perfil del usuario y los metadatos que se tiene sobre elementos particulares.\n",
        "\n",
        "Si bien en este tipo de sistemas se utilizan la interacción entre un usuario y un ítem particular (lo compró, calificó, etc.) nosotros nos centraremos en el uso de texto asociado a los ítems. En este cuaderno en particular se abordará la construcción de dos tipos de recomendadores basados en contenido de películas, pero que pueden ser aplicados a otros productos:\n",
        "\n",
        " 1. Recomendador basado en la descripción de la trama: este modelo compara las descripciones de diferentes películas y proporciona recomendaciones basado en películas con tramas similares.\n",
        " 2. Recomendador basado en metadatos: este modelo tiene en cuenta una gran cantidad de características, como géneros, palabras clave, elenco, director, etc. A partir de ellos proporciona recomendaciones que son las más similares basadas en estas características.\n",
        ""
      ]
    },
    {
      "cell_type": "markdown",
      "metadata": {
        "id": "9UkXOzYWHyUU"
      },
      "source": [
        "## Texto como datos\n",
        "\n",
        "Para poder utilizar el texto asociado a los ítems debemos primero transformarlo en datos que puedan ser utilizado por los sistemas de recomendación.\n",
        "\n",
        "### Limpieza de datos\n",
        "\n",
        "Antes de poder utilizar el texto necesitamos transformarlo de forma tal que las maquinas puedan utilizarlo. Hay al menos 3 pasos previos:\n",
        "\n",
        "1. **Limpieza de texto** **Las expresiones regulares (regex)** juegan un papel importante al automatizar tareas específicas de limpieza.\n",
        "\n",
        "2. **Tokenización.**\n",
        "\n",
        "3. **Lematización/stemmización.**\n",
        "\n",
        "\n",
        "### Vectorización\n",
        "\n",
        "La idea es que utilicemos estos datos de forma tal que podamos construir medidas de similitud entre ellos. Dicho de otra forma, si tenemos tres películas A, B y C; ¿Cómo medimos cuán similares son la trama de A con la de B o la de C?\n",
        "\n",
        "El primer paso entonces es representar este texto como  vectores. En otras palabras, cada documento se representa como una serie de n números, donde cada número representa una dimensión y n es el tamaño del vocabulario de todos los documentos juntos. Donde los valores de los vectores van a depender del vectorizador que utilizamos. Los dos vectorizadores más populares son `CountVectorizer` y `TF-IDFVectorizer`.\n",
        "\n",
        "#### CountVectorizer\n",
        "\n",
        "El `CountVectorizer` es la forma más sencilla de vectorizar el texto. Para explicarlo utilizaremos un ejemplo. Supongamos que tenemos los siguientes 3 documentos, A, B, y C:\n",
        "\n",
        "  - A: El sol es una estrella.\n",
        "  - B: Un buen viajante no tiene planes.\n",
        "  - C: Juan tiene una mascota nueva\n",
        "  \n",
        "Transformemos estos documentos en su forma vectorial utilizando `CountVectorizer`. El primer paso es encontrar el vocabulario para este grupo de documentos. Esto consiste en encontrar el número de palabras únicas: el, sol, es, una, estrella, un, buen, viajante, no, tiene, planes, Juan, mascota, nueva. Es decir, tokenizamos el texto y contamos el número de ocurrencias, en este caso el vocabulario es de 14 palabras.\n",
        "\n",
        "Es común, como vimos en el *cuaderno Expresiones Regulares*, eliminar las stopwords. Por lo que, si hacemos esto, el tamaño del vocabulario se reduce a:  buen, estrella, Juan, mascota, nueva, planes, sol, viajante. Es decir, el tamaño ahora es 8.\n",
        "\n",
        "Esto implica que los documentos se van a representar como vectores con 8 dimensiones, donde cada dimensión representa el número  de veces que la palabra ocurre:\n",
        "\n",
        "- A:(0, 1, 0, 0, 0, 0, 1, 0)\n",
        "- B:(1, 0, 0, 0, 0, 1, 0, 1)\n",
        "- C:(0, 0, 1, 1, 1, 0, 0, 0)\n"
      ]
    },
    {
      "cell_type": "code",
      "execution_count": 108,
      "metadata": {
        "colab": {
          "base_uri": "https://localhost:8080/",
          "height": 143
        },
        "id": "C_TPj80-HyUV",
        "outputId": "7fe22469-8f73-4157-9dcb-edd9f3846c03"
      },
      "outputs": [
        {
          "output_type": "execute_result",
          "data": {
            "text/plain": [
              "   doc                              text\n",
              "0    1            El sol es una estrella\n",
              "1    2  Un buen viajante no tiene planes\n",
              "2    3      Juan tiene una mascota nueva"
            ],
            "text/html": [
              "\n",
              "  <div id=\"df-7cf3cb2a-f640-4518-956a-1e716f9ef0ca\" class=\"colab-df-container\">\n",
              "    <div>\n",
              "<style scoped>\n",
              "    .dataframe tbody tr th:only-of-type {\n",
              "        vertical-align: middle;\n",
              "    }\n",
              "\n",
              "    .dataframe tbody tr th {\n",
              "        vertical-align: top;\n",
              "    }\n",
              "\n",
              "    .dataframe thead th {\n",
              "        text-align: right;\n",
              "    }\n",
              "</style>\n",
              "<table border=\"1\" class=\"dataframe\">\n",
              "  <thead>\n",
              "    <tr style=\"text-align: right;\">\n",
              "      <th></th>\n",
              "      <th>doc</th>\n",
              "      <th>text</th>\n",
              "    </tr>\n",
              "  </thead>\n",
              "  <tbody>\n",
              "    <tr>\n",
              "      <th>0</th>\n",
              "      <td>1</td>\n",
              "      <td>El sol es una estrella</td>\n",
              "    </tr>\n",
              "    <tr>\n",
              "      <th>1</th>\n",
              "      <td>2</td>\n",
              "      <td>Un buen viajante no tiene planes</td>\n",
              "    </tr>\n",
              "    <tr>\n",
              "      <th>2</th>\n",
              "      <td>3</td>\n",
              "      <td>Juan tiene una mascota nueva</td>\n",
              "    </tr>\n",
              "  </tbody>\n",
              "</table>\n",
              "</div>\n",
              "    <div class=\"colab-df-buttons\">\n",
              "\n",
              "  <div class=\"colab-df-container\">\n",
              "    <button class=\"colab-df-convert\" onclick=\"convertToInteractive('df-7cf3cb2a-f640-4518-956a-1e716f9ef0ca')\"\n",
              "            title=\"Convert this dataframe to an interactive table.\"\n",
              "            style=\"display:none;\">\n",
              "\n",
              "  <svg xmlns=\"http://www.w3.org/2000/svg\" height=\"24px\" viewBox=\"0 -960 960 960\">\n",
              "    <path d=\"M120-120v-720h720v720H120Zm60-500h600v-160H180v160Zm220 220h160v-160H400v160Zm0 220h160v-160H400v160ZM180-400h160v-160H180v160Zm440 0h160v-160H620v160ZM180-180h160v-160H180v160Zm440 0h160v-160H620v160Z\"/>\n",
              "  </svg>\n",
              "    </button>\n",
              "\n",
              "  <style>\n",
              "    .colab-df-container {\n",
              "      display:flex;\n",
              "      gap: 12px;\n",
              "    }\n",
              "\n",
              "    .colab-df-convert {\n",
              "      background-color: #E8F0FE;\n",
              "      border: none;\n",
              "      border-radius: 50%;\n",
              "      cursor: pointer;\n",
              "      display: none;\n",
              "      fill: #1967D2;\n",
              "      height: 32px;\n",
              "      padding: 0 0 0 0;\n",
              "      width: 32px;\n",
              "    }\n",
              "\n",
              "    .colab-df-convert:hover {\n",
              "      background-color: #E2EBFA;\n",
              "      box-shadow: 0px 1px 2px rgba(60, 64, 67, 0.3), 0px 1px 3px 1px rgba(60, 64, 67, 0.15);\n",
              "      fill: #174EA6;\n",
              "    }\n",
              "\n",
              "    .colab-df-buttons div {\n",
              "      margin-bottom: 4px;\n",
              "    }\n",
              "\n",
              "    [theme=dark] .colab-df-convert {\n",
              "      background-color: #3B4455;\n",
              "      fill: #D2E3FC;\n",
              "    }\n",
              "\n",
              "    [theme=dark] .colab-df-convert:hover {\n",
              "      background-color: #434B5C;\n",
              "      box-shadow: 0px 1px 3px 1px rgba(0, 0, 0, 0.15);\n",
              "      filter: drop-shadow(0px 1px 2px rgba(0, 0, 0, 0.3));\n",
              "      fill: #FFFFFF;\n",
              "    }\n",
              "  </style>\n",
              "\n",
              "    <script>\n",
              "      const buttonEl =\n",
              "        document.querySelector('#df-7cf3cb2a-f640-4518-956a-1e716f9ef0ca button.colab-df-convert');\n",
              "      buttonEl.style.display =\n",
              "        google.colab.kernel.accessAllowed ? 'block' : 'none';\n",
              "\n",
              "      async function convertToInteractive(key) {\n",
              "        const element = document.querySelector('#df-7cf3cb2a-f640-4518-956a-1e716f9ef0ca');\n",
              "        const dataTable =\n",
              "          await google.colab.kernel.invokeFunction('convertToInteractive',\n",
              "                                                    [key], {});\n",
              "        if (!dataTable) return;\n",
              "\n",
              "        const docLinkHtml = 'Like what you see? Visit the ' +\n",
              "          '<a target=\"_blank\" href=https://colab.research.google.com/notebooks/data_table.ipynb>data table notebook</a>'\n",
              "          + ' to learn more about interactive tables.';\n",
              "        element.innerHTML = '';\n",
              "        dataTable['output_type'] = 'display_data';\n",
              "        await google.colab.output.renderOutput(dataTable, element);\n",
              "        const docLink = document.createElement('div');\n",
              "        docLink.innerHTML = docLinkHtml;\n",
              "        element.appendChild(docLink);\n",
              "      }\n",
              "    </script>\n",
              "  </div>\n",
              "\n",
              "\n",
              "<div id=\"df-81b74159-e634-4195-9480-c9f9c0a4cb46\">\n",
              "  <button class=\"colab-df-quickchart\" onclick=\"quickchart('df-81b74159-e634-4195-9480-c9f9c0a4cb46')\"\n",
              "            title=\"Suggest charts\"\n",
              "            style=\"display:none;\">\n",
              "\n",
              "<svg xmlns=\"http://www.w3.org/2000/svg\" height=\"24px\"viewBox=\"0 0 24 24\"\n",
              "     width=\"24px\">\n",
              "    <g>\n",
              "        <path d=\"M19 3H5c-1.1 0-2 .9-2 2v14c0 1.1.9 2 2 2h14c1.1 0 2-.9 2-2V5c0-1.1-.9-2-2-2zM9 17H7v-7h2v7zm4 0h-2V7h2v10zm4 0h-2v-4h2v4z\"/>\n",
              "    </g>\n",
              "</svg>\n",
              "  </button>\n",
              "\n",
              "<style>\n",
              "  .colab-df-quickchart {\n",
              "      --bg-color: #E8F0FE;\n",
              "      --fill-color: #1967D2;\n",
              "      --hover-bg-color: #E2EBFA;\n",
              "      --hover-fill-color: #174EA6;\n",
              "      --disabled-fill-color: #AAA;\n",
              "      --disabled-bg-color: #DDD;\n",
              "  }\n",
              "\n",
              "  [theme=dark] .colab-df-quickchart {\n",
              "      --bg-color: #3B4455;\n",
              "      --fill-color: #D2E3FC;\n",
              "      --hover-bg-color: #434B5C;\n",
              "      --hover-fill-color: #FFFFFF;\n",
              "      --disabled-bg-color: #3B4455;\n",
              "      --disabled-fill-color: #666;\n",
              "  }\n",
              "\n",
              "  .colab-df-quickchart {\n",
              "    background-color: var(--bg-color);\n",
              "    border: none;\n",
              "    border-radius: 50%;\n",
              "    cursor: pointer;\n",
              "    display: none;\n",
              "    fill: var(--fill-color);\n",
              "    height: 32px;\n",
              "    padding: 0;\n",
              "    width: 32px;\n",
              "  }\n",
              "\n",
              "  .colab-df-quickchart:hover {\n",
              "    background-color: var(--hover-bg-color);\n",
              "    box-shadow: 0 1px 2px rgba(60, 64, 67, 0.3), 0 1px 3px 1px rgba(60, 64, 67, 0.15);\n",
              "    fill: var(--button-hover-fill-color);\n",
              "  }\n",
              "\n",
              "  .colab-df-quickchart-complete:disabled,\n",
              "  .colab-df-quickchart-complete:disabled:hover {\n",
              "    background-color: var(--disabled-bg-color);\n",
              "    fill: var(--disabled-fill-color);\n",
              "    box-shadow: none;\n",
              "  }\n",
              "\n",
              "  .colab-df-spinner {\n",
              "    border: 2px solid var(--fill-color);\n",
              "    border-color: transparent;\n",
              "    border-bottom-color: var(--fill-color);\n",
              "    animation:\n",
              "      spin 1s steps(1) infinite;\n",
              "  }\n",
              "\n",
              "  @keyframes spin {\n",
              "    0% {\n",
              "      border-color: transparent;\n",
              "      border-bottom-color: var(--fill-color);\n",
              "      border-left-color: var(--fill-color);\n",
              "    }\n",
              "    20% {\n",
              "      border-color: transparent;\n",
              "      border-left-color: var(--fill-color);\n",
              "      border-top-color: var(--fill-color);\n",
              "    }\n",
              "    30% {\n",
              "      border-color: transparent;\n",
              "      border-left-color: var(--fill-color);\n",
              "      border-top-color: var(--fill-color);\n",
              "      border-right-color: var(--fill-color);\n",
              "    }\n",
              "    40% {\n",
              "      border-color: transparent;\n",
              "      border-right-color: var(--fill-color);\n",
              "      border-top-color: var(--fill-color);\n",
              "    }\n",
              "    60% {\n",
              "      border-color: transparent;\n",
              "      border-right-color: var(--fill-color);\n",
              "    }\n",
              "    80% {\n",
              "      border-color: transparent;\n",
              "      border-right-color: var(--fill-color);\n",
              "      border-bottom-color: var(--fill-color);\n",
              "    }\n",
              "    90% {\n",
              "      border-color: transparent;\n",
              "      border-bottom-color: var(--fill-color);\n",
              "    }\n",
              "  }\n",
              "</style>\n",
              "\n",
              "  <script>\n",
              "    async function quickchart(key) {\n",
              "      const quickchartButtonEl =\n",
              "        document.querySelector('#' + key + ' button');\n",
              "      quickchartButtonEl.disabled = true;  // To prevent multiple clicks.\n",
              "      quickchartButtonEl.classList.add('colab-df-spinner');\n",
              "      try {\n",
              "        const charts = await google.colab.kernel.invokeFunction(\n",
              "            'suggestCharts', [key], {});\n",
              "      } catch (error) {\n",
              "        console.error('Error during call to suggestCharts:', error);\n",
              "      }\n",
              "      quickchartButtonEl.classList.remove('colab-df-spinner');\n",
              "      quickchartButtonEl.classList.add('colab-df-quickchart-complete');\n",
              "    }\n",
              "    (() => {\n",
              "      let quickchartButtonEl =\n",
              "        document.querySelector('#df-81b74159-e634-4195-9480-c9f9c0a4cb46 button');\n",
              "      quickchartButtonEl.style.display =\n",
              "        google.colab.kernel.accessAllowed ? 'block' : 'none';\n",
              "    })();\n",
              "  </script>\n",
              "</div>\n",
              "\n",
              "  <div id=\"id_af88c863-7fd1-4d20-8882-b56e503ad40d\">\n",
              "    <style>\n",
              "      .colab-df-generate {\n",
              "        background-color: #E8F0FE;\n",
              "        border: none;\n",
              "        border-radius: 50%;\n",
              "        cursor: pointer;\n",
              "        display: none;\n",
              "        fill: #1967D2;\n",
              "        height: 32px;\n",
              "        padding: 0 0 0 0;\n",
              "        width: 32px;\n",
              "      }\n",
              "\n",
              "      .colab-df-generate:hover {\n",
              "        background-color: #E2EBFA;\n",
              "        box-shadow: 0px 1px 2px rgba(60, 64, 67, 0.3), 0px 1px 3px 1px rgba(60, 64, 67, 0.15);\n",
              "        fill: #174EA6;\n",
              "      }\n",
              "\n",
              "      [theme=dark] .colab-df-generate {\n",
              "        background-color: #3B4455;\n",
              "        fill: #D2E3FC;\n",
              "      }\n",
              "\n",
              "      [theme=dark] .colab-df-generate:hover {\n",
              "        background-color: #434B5C;\n",
              "        box-shadow: 0px 1px 3px 1px rgba(0, 0, 0, 0.15);\n",
              "        filter: drop-shadow(0px 1px 2px rgba(0, 0, 0, 0.3));\n",
              "        fill: #FFFFFF;\n",
              "      }\n",
              "    </style>\n",
              "    <button class=\"colab-df-generate\" onclick=\"generateWithVariable('ejemplo')\"\n",
              "            title=\"Generate code using this dataframe.\"\n",
              "            style=\"display:none;\">\n",
              "\n",
              "  <svg xmlns=\"http://www.w3.org/2000/svg\" height=\"24px\"viewBox=\"0 0 24 24\"\n",
              "       width=\"24px\">\n",
              "    <path d=\"M7,19H8.4L18.45,9,17,7.55,7,17.6ZM5,21V16.75L18.45,3.32a2,2,0,0,1,2.83,0l1.4,1.43a1.91,1.91,0,0,1,.58,1.4,1.91,1.91,0,0,1-.58,1.4L9.25,21ZM18.45,9,17,7.55Zm-12,3A5.31,5.31,0,0,0,4.9,8.1,5.31,5.31,0,0,0,1,6.5,5.31,5.31,0,0,0,4.9,4.9,5.31,5.31,0,0,0,6.5,1,5.31,5.31,0,0,0,8.1,4.9,5.31,5.31,0,0,0,12,6.5,5.46,5.46,0,0,0,6.5,12Z\"/>\n",
              "  </svg>\n",
              "    </button>\n",
              "    <script>\n",
              "      (() => {\n",
              "      const buttonEl =\n",
              "        document.querySelector('#id_af88c863-7fd1-4d20-8882-b56e503ad40d button.colab-df-generate');\n",
              "      buttonEl.style.display =\n",
              "        google.colab.kernel.accessAllowed ? 'block' : 'none';\n",
              "\n",
              "      buttonEl.onclick = () => {\n",
              "        google.colab.notebook.generateWithVariable('ejemplo');\n",
              "      }\n",
              "      })();\n",
              "    </script>\n",
              "  </div>\n",
              "\n",
              "    </div>\n",
              "  </div>\n"
            ],
            "application/vnd.google.colaboratory.intrinsic+json": {
              "type": "dataframe",
              "variable_name": "ejemplo",
              "summary": "{\n  \"name\": \"ejemplo\",\n  \"rows\": 3,\n  \"fields\": [\n    {\n      \"column\": \"doc\",\n      \"properties\": {\n        \"dtype\": \"number\",\n        \"std\": 1,\n        \"min\": 1,\n        \"max\": 3,\n        \"num_unique_values\": 3,\n        \"samples\": [\n          1,\n          2,\n          3\n        ],\n        \"semantic_type\": \"\",\n        \"description\": \"\"\n      }\n    },\n    {\n      \"column\": \"text\",\n      \"properties\": {\n        \"dtype\": \"string\",\n        \"num_unique_values\": 3,\n        \"samples\": [\n          \"El sol es una estrella\",\n          \"Un buen viajante no tiene planes\",\n          \"Juan tiene una mascota nueva\"\n        ],\n        \"semantic_type\": \"\",\n        \"description\": \"\"\n      }\n    }\n  ]\n}"
            }
          },
          "metadata": {},
          "execution_count": 108
        }
      ],
      "source": [
        "import pandas as pd\n",
        "ejemplo = pd.read_csv(\"https://raw.githubusercontent.com/ignaciomsarmiento/datasets/main/example_text.csv\", sep=\";\")\n",
        "ejemplo"
      ]
    },
    {
      "cell_type": "code",
      "execution_count": 109,
      "metadata": {
        "colab": {
          "base_uri": "https://localhost:8080/"
        },
        "id": "KJo-2mBgHyUY",
        "outputId": "8ca5e35a-54ea-4918-e9c2-e75184d132c7"
      },
      "outputs": [
        {
          "output_type": "execute_result",
          "data": {
            "text/plain": [
              "array([[0, 1, 1, 1, 0, 0, 0, 0, 0, 1, 0, 0, 1, 0],\n",
              "       [1, 0, 0, 0, 0, 0, 1, 0, 1, 0, 1, 1, 0, 1],\n",
              "       [0, 0, 0, 0, 1, 1, 0, 1, 0, 0, 1, 0, 1, 0]])"
            ]
          },
          "metadata": {},
          "execution_count": 109
        }
      ],
      "source": [
        "# Import CountVectorizer\n",
        "from sklearn.feature_extraction.text import CountVectorizer\n",
        "\n",
        "#Definimos un objeto CountVectorizer y creamos los vectores\n",
        "count = CountVectorizer()\n",
        "count_matrix = count.fit_transform(ejemplo['text'])\n",
        "count_matrix.toarray()"
      ]
    },
    {
      "cell_type": "code",
      "source": [
        "count_matrix.toarray().shape"
      ],
      "metadata": {
        "id": "U7VdqUM9KZZV",
        "outputId": "4673b42c-e8c5-468e-d362-d43a4c1cae6e",
        "colab": {
          "base_uri": "https://localhost:8080/"
        }
      },
      "execution_count": 110,
      "outputs": [
        {
          "output_type": "execute_result",
          "data": {
            "text/plain": [
              "(3, 14)"
            ]
          },
          "metadata": {},
          "execution_count": 110
        }
      ]
    },
    {
      "cell_type": "code",
      "execution_count": 111,
      "metadata": {
        "id": "ycu5QbypJkme",
        "colab": {
          "base_uri": "https://localhost:8080/"
        },
        "outputId": "f7726627-9f65-4d4b-d45d-720073b812a5"
      },
      "outputs": [
        {
          "output_type": "stream",
          "name": "stderr",
          "text": [
            "[nltk_data] Downloading package stopwords to /root/nltk_data...\n",
            "[nltk_data]   Package stopwords is already up-to-date!\n"
          ]
        },
        {
          "output_type": "execute_result",
          "data": {
            "text/plain": [
              "True"
            ]
          },
          "metadata": {},
          "execution_count": 111
        }
      ],
      "source": [
        "import nltk\n",
        "nltk.download('stopwords')"
      ]
    },
    {
      "cell_type": "code",
      "execution_count": 112,
      "metadata": {
        "colab": {
          "base_uri": "https://localhost:8080/"
        },
        "id": "9F2gPt3DHyUZ",
        "outputId": "58d4cdf5-2675-4bd0-b9b7-b4126d67700b"
      },
      "outputs": [
        {
          "output_type": "execute_result",
          "data": {
            "text/plain": [
              "313"
            ]
          },
          "metadata": {},
          "execution_count": 112
        }
      ],
      "source": [
        "# Descargamos las stopwords\n",
        "from nltk.corpus import stopwords\n",
        "lista_stopwords = stopwords.words(\"spanish\")\n",
        "len(lista_stopwords)"
      ]
    },
    {
      "cell_type": "code",
      "source": [
        "lista_stopwords"
      ],
      "metadata": {
        "id": "EwCCL0RKLI3Q",
        "outputId": "46f50dee-a702-48dd-eca0-ec01ea0e99e1",
        "colab": {
          "base_uri": "https://localhost:8080/"
        }
      },
      "execution_count": 113,
      "outputs": [
        {
          "output_type": "execute_result",
          "data": {
            "text/plain": [
              "['de',\n",
              " 'la',\n",
              " 'que',\n",
              " 'el',\n",
              " 'en',\n",
              " 'y',\n",
              " 'a',\n",
              " 'los',\n",
              " 'del',\n",
              " 'se',\n",
              " 'las',\n",
              " 'por',\n",
              " 'un',\n",
              " 'para',\n",
              " 'con',\n",
              " 'no',\n",
              " 'una',\n",
              " 'su',\n",
              " 'al',\n",
              " 'lo',\n",
              " 'como',\n",
              " 'más',\n",
              " 'pero',\n",
              " 'sus',\n",
              " 'le',\n",
              " 'ya',\n",
              " 'o',\n",
              " 'este',\n",
              " 'sí',\n",
              " 'porque',\n",
              " 'esta',\n",
              " 'entre',\n",
              " 'cuando',\n",
              " 'muy',\n",
              " 'sin',\n",
              " 'sobre',\n",
              " 'también',\n",
              " 'me',\n",
              " 'hasta',\n",
              " 'hay',\n",
              " 'donde',\n",
              " 'quien',\n",
              " 'desde',\n",
              " 'todo',\n",
              " 'nos',\n",
              " 'durante',\n",
              " 'todos',\n",
              " 'uno',\n",
              " 'les',\n",
              " 'ni',\n",
              " 'contra',\n",
              " 'otros',\n",
              " 'ese',\n",
              " 'eso',\n",
              " 'ante',\n",
              " 'ellos',\n",
              " 'e',\n",
              " 'esto',\n",
              " 'mí',\n",
              " 'antes',\n",
              " 'algunos',\n",
              " 'qué',\n",
              " 'unos',\n",
              " 'yo',\n",
              " 'otro',\n",
              " 'otras',\n",
              " 'otra',\n",
              " 'él',\n",
              " 'tanto',\n",
              " 'esa',\n",
              " 'estos',\n",
              " 'mucho',\n",
              " 'quienes',\n",
              " 'nada',\n",
              " 'muchos',\n",
              " 'cual',\n",
              " 'poco',\n",
              " 'ella',\n",
              " 'estar',\n",
              " 'estas',\n",
              " 'algunas',\n",
              " 'algo',\n",
              " 'nosotros',\n",
              " 'mi',\n",
              " 'mis',\n",
              " 'tú',\n",
              " 'te',\n",
              " 'ti',\n",
              " 'tu',\n",
              " 'tus',\n",
              " 'ellas',\n",
              " 'nosotras',\n",
              " 'vosotros',\n",
              " 'vosotras',\n",
              " 'os',\n",
              " 'mío',\n",
              " 'mía',\n",
              " 'míos',\n",
              " 'mías',\n",
              " 'tuyo',\n",
              " 'tuya',\n",
              " 'tuyos',\n",
              " 'tuyas',\n",
              " 'suyo',\n",
              " 'suya',\n",
              " 'suyos',\n",
              " 'suyas',\n",
              " 'nuestro',\n",
              " 'nuestra',\n",
              " 'nuestros',\n",
              " 'nuestras',\n",
              " 'vuestro',\n",
              " 'vuestra',\n",
              " 'vuestros',\n",
              " 'vuestras',\n",
              " 'esos',\n",
              " 'esas',\n",
              " 'estoy',\n",
              " 'estás',\n",
              " 'está',\n",
              " 'estamos',\n",
              " 'estáis',\n",
              " 'están',\n",
              " 'esté',\n",
              " 'estés',\n",
              " 'estemos',\n",
              " 'estéis',\n",
              " 'estén',\n",
              " 'estaré',\n",
              " 'estarás',\n",
              " 'estará',\n",
              " 'estaremos',\n",
              " 'estaréis',\n",
              " 'estarán',\n",
              " 'estaría',\n",
              " 'estarías',\n",
              " 'estaríamos',\n",
              " 'estaríais',\n",
              " 'estarían',\n",
              " 'estaba',\n",
              " 'estabas',\n",
              " 'estábamos',\n",
              " 'estabais',\n",
              " 'estaban',\n",
              " 'estuve',\n",
              " 'estuviste',\n",
              " 'estuvo',\n",
              " 'estuvimos',\n",
              " 'estuvisteis',\n",
              " 'estuvieron',\n",
              " 'estuviera',\n",
              " 'estuvieras',\n",
              " 'estuviéramos',\n",
              " 'estuvierais',\n",
              " 'estuvieran',\n",
              " 'estuviese',\n",
              " 'estuvieses',\n",
              " 'estuviésemos',\n",
              " 'estuvieseis',\n",
              " 'estuviesen',\n",
              " 'estando',\n",
              " 'estado',\n",
              " 'estada',\n",
              " 'estados',\n",
              " 'estadas',\n",
              " 'estad',\n",
              " 'he',\n",
              " 'has',\n",
              " 'ha',\n",
              " 'hemos',\n",
              " 'habéis',\n",
              " 'han',\n",
              " 'haya',\n",
              " 'hayas',\n",
              " 'hayamos',\n",
              " 'hayáis',\n",
              " 'hayan',\n",
              " 'habré',\n",
              " 'habrás',\n",
              " 'habrá',\n",
              " 'habremos',\n",
              " 'habréis',\n",
              " 'habrán',\n",
              " 'habría',\n",
              " 'habrías',\n",
              " 'habríamos',\n",
              " 'habríais',\n",
              " 'habrían',\n",
              " 'había',\n",
              " 'habías',\n",
              " 'habíamos',\n",
              " 'habíais',\n",
              " 'habían',\n",
              " 'hube',\n",
              " 'hubiste',\n",
              " 'hubo',\n",
              " 'hubimos',\n",
              " 'hubisteis',\n",
              " 'hubieron',\n",
              " 'hubiera',\n",
              " 'hubieras',\n",
              " 'hubiéramos',\n",
              " 'hubierais',\n",
              " 'hubieran',\n",
              " 'hubiese',\n",
              " 'hubieses',\n",
              " 'hubiésemos',\n",
              " 'hubieseis',\n",
              " 'hubiesen',\n",
              " 'habiendo',\n",
              " 'habido',\n",
              " 'habida',\n",
              " 'habidos',\n",
              " 'habidas',\n",
              " 'soy',\n",
              " 'eres',\n",
              " 'es',\n",
              " 'somos',\n",
              " 'sois',\n",
              " 'son',\n",
              " 'sea',\n",
              " 'seas',\n",
              " 'seamos',\n",
              " 'seáis',\n",
              " 'sean',\n",
              " 'seré',\n",
              " 'serás',\n",
              " 'será',\n",
              " 'seremos',\n",
              " 'seréis',\n",
              " 'serán',\n",
              " 'sería',\n",
              " 'serías',\n",
              " 'seríamos',\n",
              " 'seríais',\n",
              " 'serían',\n",
              " 'era',\n",
              " 'eras',\n",
              " 'éramos',\n",
              " 'erais',\n",
              " 'eran',\n",
              " 'fui',\n",
              " 'fuiste',\n",
              " 'fue',\n",
              " 'fuimos',\n",
              " 'fuisteis',\n",
              " 'fueron',\n",
              " 'fuera',\n",
              " 'fueras',\n",
              " 'fuéramos',\n",
              " 'fuerais',\n",
              " 'fueran',\n",
              " 'fuese',\n",
              " 'fueses',\n",
              " 'fuésemos',\n",
              " 'fueseis',\n",
              " 'fuesen',\n",
              " 'sintiendo',\n",
              " 'sentido',\n",
              " 'sentida',\n",
              " 'sentidos',\n",
              " 'sentidas',\n",
              " 'siente',\n",
              " 'sentid',\n",
              " 'tengo',\n",
              " 'tienes',\n",
              " 'tiene',\n",
              " 'tenemos',\n",
              " 'tenéis',\n",
              " 'tienen',\n",
              " 'tenga',\n",
              " 'tengas',\n",
              " 'tengamos',\n",
              " 'tengáis',\n",
              " 'tengan',\n",
              " 'tendré',\n",
              " 'tendrás',\n",
              " 'tendrá',\n",
              " 'tendremos',\n",
              " 'tendréis',\n",
              " 'tendrán',\n",
              " 'tendría',\n",
              " 'tendrías',\n",
              " 'tendríamos',\n",
              " 'tendríais',\n",
              " 'tendrían',\n",
              " 'tenía',\n",
              " 'tenías',\n",
              " 'teníamos',\n",
              " 'teníais',\n",
              " 'tenían',\n",
              " 'tuve',\n",
              " 'tuviste',\n",
              " 'tuvo',\n",
              " 'tuvimos',\n",
              " 'tuvisteis',\n",
              " 'tuvieron',\n",
              " 'tuviera',\n",
              " 'tuvieras',\n",
              " 'tuviéramos',\n",
              " 'tuvierais',\n",
              " 'tuvieran',\n",
              " 'tuviese',\n",
              " 'tuvieses',\n",
              " 'tuviésemos',\n",
              " 'tuvieseis',\n",
              " 'tuviesen',\n",
              " 'teniendo',\n",
              " 'tenido',\n",
              " 'tenida',\n",
              " 'tenidos',\n",
              " 'tenidas',\n",
              " 'tened']"
            ]
          },
          "metadata": {},
          "execution_count": 113
        }
      ]
    },
    {
      "cell_type": "code",
      "execution_count": 114,
      "metadata": {
        "colab": {
          "base_uri": "https://localhost:8080/"
        },
        "id": "FGEb1REWHyUa",
        "outputId": "6190f812-e6db-4581-8abb-06ce4e2ba46e"
      },
      "outputs": [
        {
          "output_type": "execute_result",
          "data": {
            "text/plain": [
              "array([[0, 1, 0, 0, 0, 0, 1, 0],\n",
              "       [1, 0, 0, 0, 0, 1, 0, 1],\n",
              "       [0, 0, 1, 1, 1, 0, 0, 0]])"
            ]
          },
          "metadata": {},
          "execution_count": 114
        }
      ],
      "source": [
        "#Definimos un objeto CountVectorizer y creamos los vectores\n",
        "count = CountVectorizer(stop_words= lista_stopwords)\n",
        "count_matrix = count.fit_transform(ejemplo['text'])\n",
        "count_matrix.toarray()"
      ]
    },
    {
      "cell_type": "code",
      "source": [
        "count_matrix.toarray().shape"
      ],
      "metadata": {
        "id": "tAcyJ2SQLpTj",
        "outputId": "610b774a-5f7e-4887-cc43-65933fd28673",
        "colab": {
          "base_uri": "https://localhost:8080/"
        }
      },
      "execution_count": 115,
      "outputs": [
        {
          "output_type": "execute_result",
          "data": {
            "text/plain": [
              "(3, 8)"
            ]
          },
          "metadata": {},
          "execution_count": 115
        }
      ]
    },
    {
      "cell_type": "markdown",
      "metadata": {
        "id": "hcobKraOHyUb"
      },
      "source": [
        "#### TF-IDFVectorizer\n",
        "\n",
        "Sin embargo, podemos pensar que no todas las palabras en un documento pesan lo mismo. Por ejemplo, un documento sobre vacas contendrá frecuentemente el termino vaca. Por lo tanto, probablemente la presencia de esta palabra no sea tan informativa como algún otra.\n",
        "\n",
        "El TF-IDFVectorizer (term frequency-inverse document frequency) incorpora esta noción  entonces el $tf-idf_{ij}$ de una palabra $i$ en el documento $j$ esta dado por:\n",
        "\n",
        "$$\n",
        "tf-idf_{ij}=tf_{ij} \\times \\left( \\log \\left( \\frac{1+N}{1+df_i} \\right)+1\\right)\n",
        "$$\n",
        "\n",
        "donde:\n",
        "\n",
        "- $tf_{ij}$ es la frecuencia palabra $i$ en el documento $j$\n",
        "- $df_{ij}$ es el número de documentos que contienen la palabra $i$\n",
        "- $N$ es el número de documentos\n",
        "\n",
        "Los vectores $tf-idf_{ij}$ resultantes luego son normalizados por la norma euclideana. Al hacer esta transformación tendremos que el peso de una palabra será mayor si aparece con más frecuencia o si está presente en menos documentos."
      ]
    },
    {
      "cell_type": "markdown",
      "metadata": {
        "id": "prdLgWKqHyUb"
      },
      "source": [
        "## Recomendador basado en trama\n",
        "\n",
        "Estamos ahora en condiciones de armar una función que recomiende películas y/o series basado en la descripción de la trama. Para ello utilizaremos datos de películas y series recientes que provienen del sitio www.filmaffinity.com:"
      ]
    },
    {
      "cell_type": "code",
      "execution_count": 116,
      "metadata": {
        "colab": {
          "base_uri": "https://localhost:8080/",
          "height": 640
        },
        "id": "r_CDJ1zHHyUb",
        "outputId": "9ca9dcb9-6b55-4efa-b578-8367652284dc"
      },
      "outputs": [
        {
          "output_type": "execute_result",
          "data": {
            "text/plain": [
              "                     titulo   ano duracion            pais  \\\n",
              "0               Chapelwaite  2021  48 min.  Estados Unidos   \n",
              "1               Las iguanas  2022      NaN        Colombia   \n",
              "2  The Time Traveler's Wife  2022  50 min.  Estados Unidos   \n",
              "3           Sluga narodaaka  2015  20 min.         Ucrania   \n",
              "4                     Hacks  2021  30 min.  Estados Unidos   \n",
              "\n",
              "                                           direccion  \\\n",
              "0  Stephen King (Creador), Rachel Leiterman, Mich...   \n",
              "1                                 Frank Benitez Peña   \n",
              "2              Steven Moffat (Creador), David Nutter   \n",
              "3  Vladimir Zelenskiy (Creador), Aleksey Kiryushc...   \n",
              "4  Lucia Aniello (Creador), Paul W. Downs (Creado...   \n",
              "\n",
              "                                               guion                musica  \\\n",
              "0               Stephen King. Historia: Stephen King           Mark Korven   \n",
              "1                  Lina Arboleda, Frank Benitez Peña                   NaN   \n",
              "2          Steven Moffat. Novela: Audrey Niffenegger           Blake Neely   \n",
              "3                                 Vladimir Zelenskiy         Dmytro Shurov   \n",
              "4  Lucia Aniello, Paul W. Downs, Jen Statsky, Kat...  Carlos Rafael Rivera   \n",
              "\n",
              "                      fotografia  \\\n",
              "0  David Greene, Miroslaw Baszak   \n",
              "1                      Will Vela   \n",
              "2              Peter Menzies Jr.   \n",
              "3                            NaN   \n",
              "4                   Adam Bricker   \n",
              "\n",
              "                                             reparto  \\\n",
              "0  Adrien Brody, Jennifer Ens, Sirena Gulamgaus, ...   \n",
              "1  Camilo Amores, Silvia Varón, Mario Espitia, Is...   \n",
              "2  Rose Leslie, Theo James, Desmin Borges, Natash...   \n",
              "3  Vladimir Zelenskiy, Vladyslav Dmytrenko, Boris...   \n",
              "4  Jean Smart, Hannah Einbinder, Rose Abdoo, Haye...   \n",
              "\n",
              "                                          productora  \\\n",
              "0                          Epix. Distribuidora: Epix   \n",
              "1              Séptima Films. Distribuidora: HBO Max   \n",
              "2  Coproducción Estados Unidos-Reino Unido;\\nHart...   \n",
              "3                                  Kvartal 95 Studio   \n",
              "4  3 Arts Entertainment, First Thought Production...   \n",
              "\n",
              "                                              genero  \\\n",
              "0                Serie de TV. Drama. Terror. Intriga   \n",
              "1  Serie de TV. Drama | Miniserie de TV. Abusos s...   \n",
              "2  Serie de TV. Fantástico. Drama | Viajes en el ...   \n",
              "3            Serie de TV. Comedia | Sátira. Política   \n",
              "4             Serie de TV. Comedia. Drama | Stand-Up   \n",
              "\n",
              "                                            sinopsis  \\\n",
              "0  El capitán Charles Boone hace que su familia d...   \n",
              "1  La amistad y la confianza de un grupo de amigo...   \n",
              "2  La relación de una pareja se pone a prueba cua...   \n",
              "3  Serie de TV (2015 - 2019). 51 episodios. 3 tem...   \n",
              "4  Explora el oscuro proceso de enseñanza y apren...   \n",
              "\n",
              "                                            criticas  \\\n",
              "0  \"Te golpea como una estaca en el corazón. Esta...   \n",
              "1                                                NaN   \n",
              "2  \"Es casi una tormenta perfecta de todo lo que ...   \n",
              "3  \"Con su chaleco blanco, el diminuto Zelensky r...   \n",
              "4  \"[Crítica 2ª temporada]: 'Hacks' surgió comple...   \n",
              "\n",
              "                                             premios  \n",
              "0                                                NaN  \n",
              "1                                                NaN  \n",
              "2                                                NaN  \n",
              "3                                                NaN  \n",
              "4  2021: Globos de Oro: Mejor serie comedia y act...  "
            ],
            "text/html": [
              "\n",
              "  <div id=\"df-4b384c40-9bda-402a-adf8-a5d5fb9465ef\" class=\"colab-df-container\">\n",
              "    <div>\n",
              "<style scoped>\n",
              "    .dataframe tbody tr th:only-of-type {\n",
              "        vertical-align: middle;\n",
              "    }\n",
              "\n",
              "    .dataframe tbody tr th {\n",
              "        vertical-align: top;\n",
              "    }\n",
              "\n",
              "    .dataframe thead th {\n",
              "        text-align: right;\n",
              "    }\n",
              "</style>\n",
              "<table border=\"1\" class=\"dataframe\">\n",
              "  <thead>\n",
              "    <tr style=\"text-align: right;\">\n",
              "      <th></th>\n",
              "      <th>titulo</th>\n",
              "      <th>ano</th>\n",
              "      <th>duracion</th>\n",
              "      <th>pais</th>\n",
              "      <th>direccion</th>\n",
              "      <th>guion</th>\n",
              "      <th>musica</th>\n",
              "      <th>fotografia</th>\n",
              "      <th>reparto</th>\n",
              "      <th>productora</th>\n",
              "      <th>genero</th>\n",
              "      <th>sinopsis</th>\n",
              "      <th>criticas</th>\n",
              "      <th>premios</th>\n",
              "    </tr>\n",
              "  </thead>\n",
              "  <tbody>\n",
              "    <tr>\n",
              "      <th>0</th>\n",
              "      <td>Chapelwaite</td>\n",
              "      <td>2021</td>\n",
              "      <td>48 min.</td>\n",
              "      <td>Estados Unidos</td>\n",
              "      <td>Stephen King (Creador), Rachel Leiterman, Mich...</td>\n",
              "      <td>Stephen King. Historia: Stephen King</td>\n",
              "      <td>Mark Korven</td>\n",
              "      <td>David Greene, Miroslaw Baszak</td>\n",
              "      <td>Adrien Brody, Jennifer Ens, Sirena Gulamgaus, ...</td>\n",
              "      <td>Epix. Distribuidora: Epix</td>\n",
              "      <td>Serie de TV. Drama. Terror. Intriga</td>\n",
              "      <td>El capitán Charles Boone hace que su familia d...</td>\n",
              "      <td>\"Te golpea como una estaca en el corazón. Esta...</td>\n",
              "      <td>NaN</td>\n",
              "    </tr>\n",
              "    <tr>\n",
              "      <th>1</th>\n",
              "      <td>Las iguanas</td>\n",
              "      <td>2022</td>\n",
              "      <td>NaN</td>\n",
              "      <td>Colombia</td>\n",
              "      <td>Frank Benitez Peña</td>\n",
              "      <td>Lina Arboleda, Frank Benitez Peña</td>\n",
              "      <td>NaN</td>\n",
              "      <td>Will Vela</td>\n",
              "      <td>Camilo Amores, Silvia Varón, Mario Espitia, Is...</td>\n",
              "      <td>Séptima Films. Distribuidora: HBO Max</td>\n",
              "      <td>Serie de TV. Drama | Miniserie de TV. Abusos s...</td>\n",
              "      <td>La amistad y la confianza de un grupo de amigo...</td>\n",
              "      <td>NaN</td>\n",
              "      <td>NaN</td>\n",
              "    </tr>\n",
              "    <tr>\n",
              "      <th>2</th>\n",
              "      <td>The Time Traveler's Wife</td>\n",
              "      <td>2022</td>\n",
              "      <td>50 min.</td>\n",
              "      <td>Estados Unidos</td>\n",
              "      <td>Steven Moffat (Creador), David Nutter</td>\n",
              "      <td>Steven Moffat. Novela: Audrey Niffenegger</td>\n",
              "      <td>Blake Neely</td>\n",
              "      <td>Peter Menzies Jr.</td>\n",
              "      <td>Rose Leslie, Theo James, Desmin Borges, Natash...</td>\n",
              "      <td>Coproducción Estados Unidos-Reino Unido;\\nHart...</td>\n",
              "      <td>Serie de TV. Fantástico. Drama | Viajes en el ...</td>\n",
              "      <td>La relación de una pareja se pone a prueba cua...</td>\n",
              "      <td>\"Es casi una tormenta perfecta de todo lo que ...</td>\n",
              "      <td>NaN</td>\n",
              "    </tr>\n",
              "    <tr>\n",
              "      <th>3</th>\n",
              "      <td>Sluga narodaaka</td>\n",
              "      <td>2015</td>\n",
              "      <td>20 min.</td>\n",
              "      <td>Ucrania</td>\n",
              "      <td>Vladimir Zelenskiy (Creador), Aleksey Kiryushc...</td>\n",
              "      <td>Vladimir Zelenskiy</td>\n",
              "      <td>Dmytro Shurov</td>\n",
              "      <td>NaN</td>\n",
              "      <td>Vladimir Zelenskiy, Vladyslav Dmytrenko, Boris...</td>\n",
              "      <td>Kvartal 95 Studio</td>\n",
              "      <td>Serie de TV. Comedia | Sátira. Política</td>\n",
              "      <td>Serie de TV (2015 - 2019). 51 episodios. 3 tem...</td>\n",
              "      <td>\"Con su chaleco blanco, el diminuto Zelensky r...</td>\n",
              "      <td>NaN</td>\n",
              "    </tr>\n",
              "    <tr>\n",
              "      <th>4</th>\n",
              "      <td>Hacks</td>\n",
              "      <td>2021</td>\n",
              "      <td>30 min.</td>\n",
              "      <td>Estados Unidos</td>\n",
              "      <td>Lucia Aniello (Creador), Paul W. Downs (Creado...</td>\n",
              "      <td>Lucia Aniello, Paul W. Downs, Jen Statsky, Kat...</td>\n",
              "      <td>Carlos Rafael Rivera</td>\n",
              "      <td>Adam Bricker</td>\n",
              "      <td>Jean Smart, Hannah Einbinder, Rose Abdoo, Haye...</td>\n",
              "      <td>3 Arts Entertainment, First Thought Production...</td>\n",
              "      <td>Serie de TV. Comedia. Drama | Stand-Up</td>\n",
              "      <td>Explora el oscuro proceso de enseñanza y apren...</td>\n",
              "      <td>\"[Crítica 2ª temporada]: 'Hacks' surgió comple...</td>\n",
              "      <td>2021: Globos de Oro: Mejor serie comedia y act...</td>\n",
              "    </tr>\n",
              "  </tbody>\n",
              "</table>\n",
              "</div>\n",
              "    <div class=\"colab-df-buttons\">\n",
              "\n",
              "  <div class=\"colab-df-container\">\n",
              "    <button class=\"colab-df-convert\" onclick=\"convertToInteractive('df-4b384c40-9bda-402a-adf8-a5d5fb9465ef')\"\n",
              "            title=\"Convert this dataframe to an interactive table.\"\n",
              "            style=\"display:none;\">\n",
              "\n",
              "  <svg xmlns=\"http://www.w3.org/2000/svg\" height=\"24px\" viewBox=\"0 -960 960 960\">\n",
              "    <path d=\"M120-120v-720h720v720H120Zm60-500h600v-160H180v160Zm220 220h160v-160H400v160Zm0 220h160v-160H400v160ZM180-400h160v-160H180v160Zm440 0h160v-160H620v160ZM180-180h160v-160H180v160Zm440 0h160v-160H620v160Z\"/>\n",
              "  </svg>\n",
              "    </button>\n",
              "\n",
              "  <style>\n",
              "    .colab-df-container {\n",
              "      display:flex;\n",
              "      gap: 12px;\n",
              "    }\n",
              "\n",
              "    .colab-df-convert {\n",
              "      background-color: #E8F0FE;\n",
              "      border: none;\n",
              "      border-radius: 50%;\n",
              "      cursor: pointer;\n",
              "      display: none;\n",
              "      fill: #1967D2;\n",
              "      height: 32px;\n",
              "      padding: 0 0 0 0;\n",
              "      width: 32px;\n",
              "    }\n",
              "\n",
              "    .colab-df-convert:hover {\n",
              "      background-color: #E2EBFA;\n",
              "      box-shadow: 0px 1px 2px rgba(60, 64, 67, 0.3), 0px 1px 3px 1px rgba(60, 64, 67, 0.15);\n",
              "      fill: #174EA6;\n",
              "    }\n",
              "\n",
              "    .colab-df-buttons div {\n",
              "      margin-bottom: 4px;\n",
              "    }\n",
              "\n",
              "    [theme=dark] .colab-df-convert {\n",
              "      background-color: #3B4455;\n",
              "      fill: #D2E3FC;\n",
              "    }\n",
              "\n",
              "    [theme=dark] .colab-df-convert:hover {\n",
              "      background-color: #434B5C;\n",
              "      box-shadow: 0px 1px 3px 1px rgba(0, 0, 0, 0.15);\n",
              "      filter: drop-shadow(0px 1px 2px rgba(0, 0, 0, 0.3));\n",
              "      fill: #FFFFFF;\n",
              "    }\n",
              "  </style>\n",
              "\n",
              "    <script>\n",
              "      const buttonEl =\n",
              "        document.querySelector('#df-4b384c40-9bda-402a-adf8-a5d5fb9465ef button.colab-df-convert');\n",
              "      buttonEl.style.display =\n",
              "        google.colab.kernel.accessAllowed ? 'block' : 'none';\n",
              "\n",
              "      async function convertToInteractive(key) {\n",
              "        const element = document.querySelector('#df-4b384c40-9bda-402a-adf8-a5d5fb9465ef');\n",
              "        const dataTable =\n",
              "          await google.colab.kernel.invokeFunction('convertToInteractive',\n",
              "                                                    [key], {});\n",
              "        if (!dataTable) return;\n",
              "\n",
              "        const docLinkHtml = 'Like what you see? Visit the ' +\n",
              "          '<a target=\"_blank\" href=https://colab.research.google.com/notebooks/data_table.ipynb>data table notebook</a>'\n",
              "          + ' to learn more about interactive tables.';\n",
              "        element.innerHTML = '';\n",
              "        dataTable['output_type'] = 'display_data';\n",
              "        await google.colab.output.renderOutput(dataTable, element);\n",
              "        const docLink = document.createElement('div');\n",
              "        docLink.innerHTML = docLinkHtml;\n",
              "        element.appendChild(docLink);\n",
              "      }\n",
              "    </script>\n",
              "  </div>\n",
              "\n",
              "\n",
              "<div id=\"df-f8af2393-d1d1-4e2c-b6ca-34a458173fd9\">\n",
              "  <button class=\"colab-df-quickchart\" onclick=\"quickchart('df-f8af2393-d1d1-4e2c-b6ca-34a458173fd9')\"\n",
              "            title=\"Suggest charts\"\n",
              "            style=\"display:none;\">\n",
              "\n",
              "<svg xmlns=\"http://www.w3.org/2000/svg\" height=\"24px\"viewBox=\"0 0 24 24\"\n",
              "     width=\"24px\">\n",
              "    <g>\n",
              "        <path d=\"M19 3H5c-1.1 0-2 .9-2 2v14c0 1.1.9 2 2 2h14c1.1 0 2-.9 2-2V5c0-1.1-.9-2-2-2zM9 17H7v-7h2v7zm4 0h-2V7h2v10zm4 0h-2v-4h2v4z\"/>\n",
              "    </g>\n",
              "</svg>\n",
              "  </button>\n",
              "\n",
              "<style>\n",
              "  .colab-df-quickchart {\n",
              "      --bg-color: #E8F0FE;\n",
              "      --fill-color: #1967D2;\n",
              "      --hover-bg-color: #E2EBFA;\n",
              "      --hover-fill-color: #174EA6;\n",
              "      --disabled-fill-color: #AAA;\n",
              "      --disabled-bg-color: #DDD;\n",
              "  }\n",
              "\n",
              "  [theme=dark] .colab-df-quickchart {\n",
              "      --bg-color: #3B4455;\n",
              "      --fill-color: #D2E3FC;\n",
              "      --hover-bg-color: #434B5C;\n",
              "      --hover-fill-color: #FFFFFF;\n",
              "      --disabled-bg-color: #3B4455;\n",
              "      --disabled-fill-color: #666;\n",
              "  }\n",
              "\n",
              "  .colab-df-quickchart {\n",
              "    background-color: var(--bg-color);\n",
              "    border: none;\n",
              "    border-radius: 50%;\n",
              "    cursor: pointer;\n",
              "    display: none;\n",
              "    fill: var(--fill-color);\n",
              "    height: 32px;\n",
              "    padding: 0;\n",
              "    width: 32px;\n",
              "  }\n",
              "\n",
              "  .colab-df-quickchart:hover {\n",
              "    background-color: var(--hover-bg-color);\n",
              "    box-shadow: 0 1px 2px rgba(60, 64, 67, 0.3), 0 1px 3px 1px rgba(60, 64, 67, 0.15);\n",
              "    fill: var(--button-hover-fill-color);\n",
              "  }\n",
              "\n",
              "  .colab-df-quickchart-complete:disabled,\n",
              "  .colab-df-quickchart-complete:disabled:hover {\n",
              "    background-color: var(--disabled-bg-color);\n",
              "    fill: var(--disabled-fill-color);\n",
              "    box-shadow: none;\n",
              "  }\n",
              "\n",
              "  .colab-df-spinner {\n",
              "    border: 2px solid var(--fill-color);\n",
              "    border-color: transparent;\n",
              "    border-bottom-color: var(--fill-color);\n",
              "    animation:\n",
              "      spin 1s steps(1) infinite;\n",
              "  }\n",
              "\n",
              "  @keyframes spin {\n",
              "    0% {\n",
              "      border-color: transparent;\n",
              "      border-bottom-color: var(--fill-color);\n",
              "      border-left-color: var(--fill-color);\n",
              "    }\n",
              "    20% {\n",
              "      border-color: transparent;\n",
              "      border-left-color: var(--fill-color);\n",
              "      border-top-color: var(--fill-color);\n",
              "    }\n",
              "    30% {\n",
              "      border-color: transparent;\n",
              "      border-left-color: var(--fill-color);\n",
              "      border-top-color: var(--fill-color);\n",
              "      border-right-color: var(--fill-color);\n",
              "    }\n",
              "    40% {\n",
              "      border-color: transparent;\n",
              "      border-right-color: var(--fill-color);\n",
              "      border-top-color: var(--fill-color);\n",
              "    }\n",
              "    60% {\n",
              "      border-color: transparent;\n",
              "      border-right-color: var(--fill-color);\n",
              "    }\n",
              "    80% {\n",
              "      border-color: transparent;\n",
              "      border-right-color: var(--fill-color);\n",
              "      border-bottom-color: var(--fill-color);\n",
              "    }\n",
              "    90% {\n",
              "      border-color: transparent;\n",
              "      border-bottom-color: var(--fill-color);\n",
              "    }\n",
              "  }\n",
              "</style>\n",
              "\n",
              "  <script>\n",
              "    async function quickchart(key) {\n",
              "      const quickchartButtonEl =\n",
              "        document.querySelector('#' + key + ' button');\n",
              "      quickchartButtonEl.disabled = true;  // To prevent multiple clicks.\n",
              "      quickchartButtonEl.classList.add('colab-df-spinner');\n",
              "      try {\n",
              "        const charts = await google.colab.kernel.invokeFunction(\n",
              "            'suggestCharts', [key], {});\n",
              "      } catch (error) {\n",
              "        console.error('Error during call to suggestCharts:', error);\n",
              "      }\n",
              "      quickchartButtonEl.classList.remove('colab-df-spinner');\n",
              "      quickchartButtonEl.classList.add('colab-df-quickchart-complete');\n",
              "    }\n",
              "    (() => {\n",
              "      let quickchartButtonEl =\n",
              "        document.querySelector('#df-f8af2393-d1d1-4e2c-b6ca-34a458173fd9 button');\n",
              "      quickchartButtonEl.style.display =\n",
              "        google.colab.kernel.accessAllowed ? 'block' : 'none';\n",
              "    })();\n",
              "  </script>\n",
              "</div>\n",
              "\n",
              "    </div>\n",
              "  </div>\n"
            ],
            "application/vnd.google.colaboratory.intrinsic+json": {
              "type": "dataframe",
              "variable_name": "pelis",
              "summary": "{\n  \"name\": \"pelis\",\n  \"rows\": 1321,\n  \"fields\": [\n    {\n      \"column\": \"titulo\",\n      \"properties\": {\n        \"dtype\": \"string\",\n        \"num_unique_values\": 1321,\n        \"samples\": [\n          \"Blood & Water\",\n          \"Chiky\\u00fbgai Sh\\u00f4nen Sh\\u00f4joaka\",\n          \"Atlanta's Missing And Murdered: The Lost Children\"\n        ],\n        \"semantic_type\": \"\",\n        \"description\": \"\"\n      }\n    },\n    {\n      \"column\": \"ano\",\n      \"properties\": {\n        \"dtype\": \"number\",\n        \"std\": 2,\n        \"min\": 1989,\n        \"max\": 2022,\n        \"num_unique_values\": 23,\n        \"samples\": [\n          1992,\n          2013,\n          2021\n        ],\n        \"semantic_type\": \"\",\n        \"description\": \"\"\n      }\n    },\n    {\n      \"column\": \"duracion\",\n      \"properties\": {\n        \"dtype\": \"category\",\n        \"num_unique_values\": 175,\n        \"samples\": [\n          \"152 min.\",\n          \"86 min.\",\n          \"21 min.\"\n        ],\n        \"semantic_type\": \"\",\n        \"description\": \"\"\n      }\n    },\n    {\n      \"column\": \"pais\",\n      \"properties\": {\n        \"dtype\": \"category\",\n        \"num_unique_values\": 47,\n        \"samples\": [\n          \"Polonia\",\n          \"L\\u00edbano\",\n          \"India\"\n        ],\n        \"semantic_type\": \"\",\n        \"description\": \"\"\n      }\n    },\n    {\n      \"column\": \"direccion\",\n      \"properties\": {\n        \"dtype\": \"string\",\n        \"num_unique_values\": 1229,\n        \"samples\": [\n          \"Scott Kreamer (Creador), Lane Lueras (Creador)\",\n          \"Will Wernick\",\n          \"Tim Miller\"\n        ],\n        \"semantic_type\": \"\",\n        \"description\": \"\"\n      }\n    },\n    {\n      \"column\": \"guion\",\n      \"properties\": {\n        \"dtype\": \"string\",\n        \"num_unique_values\": 1117,\n        \"samples\": [\n          \"David E. Kelley, Jonathan Shapiro, Jennifer Ames, Andrew Matisziw, Tony Saltzman, Ben Myer, Marisa Wegrzyn, Noelle Valdivia, Steve Turnerver 5 m\\u00e1s\",\n          \"Miranda July\",\n          \"Taylor Ramos, Tony Zhou, Walter Chaw, Sasha Stone, Drew McWeeny\"\n        ],\n        \"semantic_type\": \"\",\n        \"description\": \"\"\n      }\n    },\n    {\n      \"column\": \"musica\",\n      \"properties\": {\n        \"dtype\": \"string\",\n        \"num_unique_values\": 714,\n        \"samples\": [\n          \"Ludwig G\\u00f6ransson\",\n          \"Naoki Sato\",\n          \"Brendan Caulfield\"\n        ],\n        \"semantic_type\": \"\",\n        \"description\": \"\"\n      }\n    },\n    {\n      \"column\": \"fotografia\",\n      \"properties\": {\n        \"dtype\": \"string\",\n        \"num_unique_values\": 787,\n        \"samples\": [\n          \"Animaci\\u00f3n, David Peers, Hailey White\",\n          \"Hans Charles\",\n          \"Alejandro Cant\\u00fa\"\n        ],\n        \"semantic_type\": \"\",\n        \"description\": \"\"\n      }\n    },\n    {\n      \"column\": \"reparto\",\n      \"properties\": {\n        \"dtype\": \"string\",\n        \"num_unique_values\": 1041,\n        \"samples\": [\n          \"Carlos Iglesias, Roberto \\u00c1lvarez, Ram\\u00f3n Barea, Ana Fern\\u00e1ndez, Lara Corrochano, Clara Alonso, Ra\\u00fal Fern\\u00e1ndez, Eva Santolaria, Mercedes Sampietro, Claudia Molina, \\u00d3scar Lara, Roman Rymar, Flora L\\u00f3pez, Josema Pichardo, Javier Lorenzo\",\n          \"Animaci\\u00f3n, Voz: Billie Eilish, Finneas O'Connell\",\n          \"Tom Burke, Holliday Grainger, Kerr Logan, Sophie Colquhoun, Nicholas Agnew, Suzanne Burden, Paul Butterworth, Judi Kenley, Joe Johnsey, Andrew Hawley, Natalie Gumede, Joseph Quinn, Nick Blood, Saffron Coomber, Joel Gillman, Danny Ashok, Jacqueline Boatswain, Robert Glenister, Silas Carson, Sophie Winkleman, Christina Cole, Jack Greenlees, Robert Pugh, Ruth Lass, Adam Longver 12 m\\u00e1s\"\n        ],\n        \"semantic_type\": \"\",\n        \"description\": \"\"\n      }\n    },\n    {\n      \"column\": \"productora\",\n      \"properties\": {\n        \"dtype\": \"string\",\n        \"num_unique_values\": 1143,\n        \"samples\": [\n          \"Good Thing Going, We're Not Brothers Productions. Distribuidora: HBO Max\",\n          \"Coproducci\\u00f3n Argentina-Chile;\\nLe Tiro Cine, Tresmilmundos Cine, Lucho Films\",\n          \"88 Pictures, Atomic Monster, Dark Horse Entertainment, Gaumont Animation, Netflix Animation. Distribuidora: Netflix\"\n        ],\n        \"semantic_type\": \"\",\n        \"description\": \"\"\n      }\n    },\n    {\n      \"column\": \"genero\",\n      \"properties\": {\n        \"dtype\": \"string\",\n        \"num_unique_values\": 1123,\n        \"samples\": [\n          \"Drama | Amistad. Vejez / Madurez\",\n          \"Serie de TV. Drama | Crimen\",\n          \"Serie de TV. Drama. Comedia\"\n        ],\n        \"semantic_type\": \"\",\n        \"description\": \"\"\n      }\n    },\n    {\n      \"column\": \"sinopsis\",\n      \"properties\": {\n        \"dtype\": \"string\",\n        \"num_unique_values\": 1321,\n        \"samples\": [\n          \"Serie de TV (2020-). Una joven estudiante de Ciudad del Cabo coincide en una fiesta con la nadadora estrella de un colegio. A partir de este encuentro descubrir\\u00e1 el pasado secreto de su familia.\",\n          \"Serie de TV (2022). 6 episodios. En el a\\u00f1o 2045, la Inteligencia Artificial ha avanzado tanto que ya son posibles los viajes al espacio, y mucha gente vive en la luna. Un d\\u00eda, un grupo de ni\\u00f1os que viven en la luna y otros que viven en la tierra deciden viajar a una estaci\\u00f3n espacial japonesa, Anshin, para reunirse. Pero lo que no saben es que su futuro ya est\\u00e1 decidido por el \\\"S\\u00e9ptimo Poema\\\".\",\n          \"Miniserie documental de 5 episodios que examina el secuestro y asesinato de al menos 30 ni\\u00f1os y j\\u00f3venes afroamericanos en Atlanta entre 1979 y 1981. Cuarenta a\\u00f1os despu\\u00e9s, con la reapertura oficial del caso por parte del alcalde de Atlanta, Keisha Lance Bottoms, la serie cuenta la historia de esta impactante tragedia, arrojando nueva luz sobre los terribles asesinatos a trav\\u00e9s de entrevistas con las personas m\\u00e1s cercanas a los ni\\u00f1os y a la investigaci\\u00f3n, as\\u00ed como material de archivo exclusivo.\"\n        ],\n        \"semantic_type\": \"\",\n        \"description\": \"\"\n      }\n    },\n    {\n      \"column\": \"criticas\",\n      \"properties\": {\n        \"dtype\": \"string\",\n        \"num_unique_values\": 1104,\n        \"samples\": [\n          \"\\\"Toca las teclas habituales del g\\u00e9nero y ofrece a los fans de la primera pel\\u00edcula algo de desarrollo de personajes en el viaje de Amalie y los Illicit.\\\" \\nJohnny Loftus: Decider\",\n          \"\\\"Uno s\\u00f3lo puede concentrarse en los sinsentidos de 'Panic', ya que los personajes son gen\\u00e9ricos y act\\u00faan de forma inexplicable\\\" \\nInkoo Kang: The Hollywood Reporter\\n\\\"Consigue salir airosa gracias a los giros del juego y a la solidez de Olivia Welch en su retrato polifac\\u00e9tico de Heather\\\" \\nGwen Ihnat: AV Club\\n\\\"Es ese tipo de serie en la que los misterios son mucho m\\u00e1s interesantes que las revelaciones y por eso creo que pierde algo de fuerza en los \\u00faltimos episodios.\\\" \\nPhil Owen: The Wrap\\n\\\"Sus episodios son planos a nivel dram\\u00e1tico (...) Los cap\\u00edtulos finales se sumergen por completo en la incoherencia (\\u2026) Puntuaci\\u00f3n: \\u2605\\u2605 (sobre 5)\\\" \\nAdrian Horton: The Guardian\\n\\\"El primer cap\\u00edtulo me dej\\u00f3 euf\\u00f3rico. Como resultado, la serie me atrap\\u00f3 totalmente (\\u2026) Puntuaci\\u00f3n: \\u2605\\u2605\\u2605\\u00bd (sobre 5)\\\" \\nDaniel Hart: Ready Steady Cut\\n\\\"Malgasta una gran idea (...) Aun as\\u00ed, algunos actores y algunos detalles de su idea hacen que sea aceptable\\\" \\nBrian Tallerico: rogerebert.com\\n\\\"Una mezcla chapucera de tri\\u00e1ngulos amorosos y desaf\\u00edos peliagudos. Quiere parecer m\\u00e1s peligrosa de lo que realmente es.\\\" \\nSteve Greene: IndieWire\\nMostrar 4 cr\\u00edticas m\\u00e1s\",\n          \"\\\"Las malas actuaciones y las criaturas de serie b llenan la pantalla en este cortometraje innecesario (\\u2026) Puntuaci\\u00f3n: \\u2605\\u2605\\u00bd (sobre 5)\\\" \\nAdam Lock: Ready Steady Cut\\n\\\"Entretenid\\u00edsimo\\\" \\nJohn Serba: Decider\"\n        ],\n        \"semantic_type\": \"\",\n        \"description\": \"\"\n      }\n    },\n    {\n      \"column\": \"premios\",\n      \"properties\": {\n        \"dtype\": \"category\",\n        \"num_unique_values\": 264,\n        \"samples\": [\n          \"2020: Premios Independent Spirit: Nomin. a mejor nueva serie documental/no ficci\\u00f3n\",\n          \"2019: Premios Goya: 3 nominaciones, a actriz de reparto y actriz revelaci\\u00f3n\\n2019: Premios Feroz: Mejor trailer. 3 nominaciones\",\n          \"2021: Premios Oscar: Nominada a mejor actriz (Cruz) y banda sonora\\n2021: Globos de Oro: Nominada a mejor pel\\u00edcula de habla no inglesa y banda sonora\\n2021: Premios BAFTA: Nominada a mejor pel\\u00edcula en habla no inglesa\\n2021: Festival de Venecia: Copa Volpi - Mejor actriz (Cruz), Film inaugural\\n2021: Premios Goya: 8 nominaciones, incluyendo mejor pel\\u00edcula y director\\n2021: Premios C\\u00e9sar: Nominada a mejor pel\\u00edcula extranjera\\nMostrar 8 premios m\\u00e1s\\n2021: Asociaci\\u00f3n de Cr\\u00edticos de Los Angeles: Mejor actriz (Cruz) y banda sonora\\n2021: C\\u00edrculo de Cr\\u00edticos de San Francisco: Nominada mejor actriz y pel\\u00edcula extranjera\\n2021: Premios Independent Spirit: Nominada a mejor pel\\u00edcula extranjera\\n2021: Satellite Awards: 3 nominaciones, incluyendo mejor actriz drama (Cruz)\\n2021: Premios Forqu\\u00e9: 3 nominaciones, incluyendo a mejor pel\\u00edcula\\n2021: Premios Feroz: Mejor actriz sec. (S\\u00e1nchez-Gij\\u00f3n), m\\u00fasica y cartel\\n2022: Premios Platino: Mejor actriz sec. (S\\u00e1nchez-Gij\\u00f3n), m\\u00fasica y dir. de arte. 7 noms.\\n2022: Fotogramas de Plata: mejor pel\\u00edcula, mejor actriz y actor\"\n        ],\n        \"semantic_type\": \"\",\n        \"description\": \"\"\n      }\n    }\n  ]\n}"
            }
          },
          "metadata": {},
          "execution_count": 116
        }
      ],
      "source": [
        "# Cargamos las librerías a utilizar\n",
        "import pandas as pd\n",
        "import numpy as np\n",
        "\n",
        "# Cargamos los datos\n",
        "pelis = pd.read_csv('https://raw.githubusercontent.com/ignaciomsarmiento/MALM/refs/heads/main/08_Rec_contenidos/data/pelis_recommend.csv', sep=',')\n",
        "\n",
        "pelis.head()"
      ]
    },
    {
      "cell_type": "code",
      "execution_count": 117,
      "metadata": {
        "colab": {
          "base_uri": "https://localhost:8080/"
        },
        "id": "jElcmJIjHyUc",
        "outputId": "0b19bd26-3ee4-4767-e571-177446e81368"
      },
      "outputs": [
        {
          "output_type": "execute_result",
          "data": {
            "text/plain": [
              "(1321, 14)"
            ]
          },
          "metadata": {},
          "execution_count": 117
        }
      ],
      "source": [
        "pelis.shape"
      ]
    },
    {
      "cell_type": "markdown",
      "metadata": {
        "id": "VHxi0s50HyUc"
      },
      "source": [
        "Esta base cuenta con 1321 películas/series y 14 características. Por ahora utilizaremos el titulo y la descripción de la trama que se encuentra en la columna sinopsis. Los pasos para construir serán los siguientes:\n",
        "\n",
        "1. Prepararemos los datos creando vectorizando la sinopsis usando TF-IDF.\n",
        "2. Calcularemos cuán similares son estos vectores usando la distancia de coseno.\n",
        "3. Escribiremos una función que toma como argumento el título de la película/serie y devuelve aquellas más similares.\n",
        "\n",
        "### Preparando los datos\n",
        "\n",
        "Antes de vectorizar necesitamos limpiar y homogenizar el texto que aparece en las sinopsis. Vamos a proceder de manera similar a como lo hicimos en el *cuaderno: Expresiones Regulares*, adaptandonos a las particularidades de las descripciones de las películas/series.\n",
        "\n",
        "Iniciemos tomando la descripción de una serie y avancemos paso a paso viendo como el texto se va modificando con cada transformación."
      ]
    },
    {
      "cell_type": "code",
      "execution_count": 118,
      "metadata": {
        "colab": {
          "base_uri": "https://localhost:8080/",
          "height": 87
        },
        "id": "Ztwoop3PHyUd",
        "outputId": "53a72e79-b00f-4798-da26-ead57cfd47e5"
      },
      "outputs": [
        {
          "output_type": "execute_result",
          "data": {
            "text/plain": [
              "'Miniserie de TV (2021). 5 episodios. Frankelda que es una una misteriosa escritora fantasma y con ayuda de su gruñón libro encantado, cuenta historias aterradoras a los espectadores donde niñas y niños tienen encuentros con gnomos, brujas, monstruos y otras criaturas espeluznantes conocidas en general como «los sustos» que los harán enfrentarse a sus miedos más profundos. Todo lo anterior mientras han estado atrapados en una mansión con conciencia propia por siglos.'"
            ],
            "application/vnd.google.colaboratory.intrinsic+json": {
              "type": "string"
            }
          },
          "metadata": {},
          "execution_count": 118
        }
      ],
      "source": [
        "#Escogemos la serie de HBO: Sustos ocultos de Frankelda\n",
        "example=pelis['sinopsis'][100]\n",
        "example"
      ]
    },
    {
      "cell_type": "markdown",
      "metadata": {
        "id": "bYH2X1wfHyUd"
      },
      "source": [
        "Carguemos las librerías a utilizar y creemos una lista de stopwords:"
      ]
    },
    {
      "cell_type": "code",
      "execution_count": 119,
      "metadata": {
        "id": "vj3wdk_ZIUAr",
        "colab": {
          "base_uri": "https://localhost:8080/"
        },
        "outputId": "6fb91f7c-7204-4a80-9b43-3e86a71dc838"
      },
      "outputs": [
        {
          "output_type": "stream",
          "name": "stdout",
          "text": [
            "Requirement already satisfied: unidecode in /usr/local/lib/python3.10/dist-packages (1.3.8)\n"
          ]
        }
      ],
      "source": [
        "pip install unidecode"
      ]
    },
    {
      "cell_type": "code",
      "execution_count": 120,
      "metadata": {
        "id": "4NgqY8h-ImGo",
        "colab": {
          "base_uri": "https://localhost:8080/"
        },
        "outputId": "63726a86-e19f-49fc-97f8-2beb3a5a3e9b"
      },
      "outputs": [
        {
          "output_type": "stream",
          "name": "stdout",
          "text": [
            "Collecting es-core-news-sm==3.7.0\n",
            "  Downloading https://github.com/explosion/spacy-models/releases/download/es_core_news_sm-3.7.0/es_core_news_sm-3.7.0-py3-none-any.whl (12.9 MB)\n",
            "\u001b[2K     \u001b[90m━━━━━━━━━━━━━━━━━━━━━━━━━━━━━━━━━━━━━━━━\u001b[0m \u001b[32m12.9/12.9 MB\u001b[0m \u001b[31m31.5 MB/s\u001b[0m eta \u001b[36m0:00:00\u001b[0m\n",
            "\u001b[?25hRequirement already satisfied: spacy<3.8.0,>=3.7.0 in /usr/local/lib/python3.10/dist-packages (from es-core-news-sm==3.7.0) (3.7.5)\n",
            "Requirement already satisfied: spacy-legacy<3.1.0,>=3.0.11 in /usr/local/lib/python3.10/dist-packages (from spacy<3.8.0,>=3.7.0->es-core-news-sm==3.7.0) (3.0.12)\n",
            "Requirement already satisfied: spacy-loggers<2.0.0,>=1.0.0 in /usr/local/lib/python3.10/dist-packages (from spacy<3.8.0,>=3.7.0->es-core-news-sm==3.7.0) (1.0.5)\n",
            "Requirement already satisfied: murmurhash<1.1.0,>=0.28.0 in /usr/local/lib/python3.10/dist-packages (from spacy<3.8.0,>=3.7.0->es-core-news-sm==3.7.0) (1.0.10)\n",
            "Requirement already satisfied: cymem<2.1.0,>=2.0.2 in /usr/local/lib/python3.10/dist-packages (from spacy<3.8.0,>=3.7.0->es-core-news-sm==3.7.0) (2.0.8)\n",
            "Requirement already satisfied: preshed<3.1.0,>=3.0.2 in /usr/local/lib/python3.10/dist-packages (from spacy<3.8.0,>=3.7.0->es-core-news-sm==3.7.0) (3.0.9)\n",
            "Requirement already satisfied: thinc<8.3.0,>=8.2.2 in /usr/local/lib/python3.10/dist-packages (from spacy<3.8.0,>=3.7.0->es-core-news-sm==3.7.0) (8.2.5)\n",
            "Requirement already satisfied: wasabi<1.2.0,>=0.9.1 in /usr/local/lib/python3.10/dist-packages (from spacy<3.8.0,>=3.7.0->es-core-news-sm==3.7.0) (1.1.3)\n",
            "Requirement already satisfied: srsly<3.0.0,>=2.4.3 in /usr/local/lib/python3.10/dist-packages (from spacy<3.8.0,>=3.7.0->es-core-news-sm==3.7.0) (2.4.8)\n",
            "Requirement already satisfied: catalogue<2.1.0,>=2.0.6 in /usr/local/lib/python3.10/dist-packages (from spacy<3.8.0,>=3.7.0->es-core-news-sm==3.7.0) (2.0.10)\n",
            "Requirement already satisfied: weasel<0.5.0,>=0.1.0 in /usr/local/lib/python3.10/dist-packages (from spacy<3.8.0,>=3.7.0->es-core-news-sm==3.7.0) (0.4.1)\n",
            "Requirement already satisfied: typer<1.0.0,>=0.3.0 in /usr/local/lib/python3.10/dist-packages (from spacy<3.8.0,>=3.7.0->es-core-news-sm==3.7.0) (0.13.0)\n",
            "Requirement already satisfied: tqdm<5.0.0,>=4.38.0 in /usr/local/lib/python3.10/dist-packages (from spacy<3.8.0,>=3.7.0->es-core-news-sm==3.7.0) (4.66.6)\n",
            "Requirement already satisfied: requests<3.0.0,>=2.13.0 in /usr/local/lib/python3.10/dist-packages (from spacy<3.8.0,>=3.7.0->es-core-news-sm==3.7.0) (2.32.3)\n",
            "Requirement already satisfied: pydantic!=1.8,!=1.8.1,<3.0.0,>=1.7.4 in /usr/local/lib/python3.10/dist-packages (from spacy<3.8.0,>=3.7.0->es-core-news-sm==3.7.0) (2.9.2)\n",
            "Requirement already satisfied: jinja2 in /usr/local/lib/python3.10/dist-packages (from spacy<3.8.0,>=3.7.0->es-core-news-sm==3.7.0) (3.1.4)\n",
            "Requirement already satisfied: setuptools in /usr/local/lib/python3.10/dist-packages (from spacy<3.8.0,>=3.7.0->es-core-news-sm==3.7.0) (75.1.0)\n",
            "Requirement already satisfied: packaging>=20.0 in /usr/local/lib/python3.10/dist-packages (from spacy<3.8.0,>=3.7.0->es-core-news-sm==3.7.0) (24.2)\n",
            "Requirement already satisfied: langcodes<4.0.0,>=3.2.0 in /usr/local/lib/python3.10/dist-packages (from spacy<3.8.0,>=3.7.0->es-core-news-sm==3.7.0) (3.4.1)\n",
            "Requirement already satisfied: numpy>=1.19.0 in /usr/local/lib/python3.10/dist-packages (from spacy<3.8.0,>=3.7.0->es-core-news-sm==3.7.0) (1.26.4)\n",
            "Requirement already satisfied: language-data>=1.2 in /usr/local/lib/python3.10/dist-packages (from langcodes<4.0.0,>=3.2.0->spacy<3.8.0,>=3.7.0->es-core-news-sm==3.7.0) (1.2.0)\n",
            "Requirement already satisfied: annotated-types>=0.6.0 in /usr/local/lib/python3.10/dist-packages (from pydantic!=1.8,!=1.8.1,<3.0.0,>=1.7.4->spacy<3.8.0,>=3.7.0->es-core-news-sm==3.7.0) (0.7.0)\n",
            "Requirement already satisfied: pydantic-core==2.23.4 in /usr/local/lib/python3.10/dist-packages (from pydantic!=1.8,!=1.8.1,<3.0.0,>=1.7.4->spacy<3.8.0,>=3.7.0->es-core-news-sm==3.7.0) (2.23.4)\n",
            "Requirement already satisfied: typing-extensions>=4.6.1 in /usr/local/lib/python3.10/dist-packages (from pydantic!=1.8,!=1.8.1,<3.0.0,>=1.7.4->spacy<3.8.0,>=3.7.0->es-core-news-sm==3.7.0) (4.12.2)\n",
            "Requirement already satisfied: charset-normalizer<4,>=2 in /usr/local/lib/python3.10/dist-packages (from requests<3.0.0,>=2.13.0->spacy<3.8.0,>=3.7.0->es-core-news-sm==3.7.0) (3.4.0)\n",
            "Requirement already satisfied: idna<4,>=2.5 in /usr/local/lib/python3.10/dist-packages (from requests<3.0.0,>=2.13.0->spacy<3.8.0,>=3.7.0->es-core-news-sm==3.7.0) (3.10)\n",
            "Requirement already satisfied: urllib3<3,>=1.21.1 in /usr/local/lib/python3.10/dist-packages (from requests<3.0.0,>=2.13.0->spacy<3.8.0,>=3.7.0->es-core-news-sm==3.7.0) (2.2.3)\n",
            "Requirement already satisfied: certifi>=2017.4.17 in /usr/local/lib/python3.10/dist-packages (from requests<3.0.0,>=2.13.0->spacy<3.8.0,>=3.7.0->es-core-news-sm==3.7.0) (2024.8.30)\n",
            "Requirement already satisfied: blis<0.8.0,>=0.7.8 in /usr/local/lib/python3.10/dist-packages (from thinc<8.3.0,>=8.2.2->spacy<3.8.0,>=3.7.0->es-core-news-sm==3.7.0) (0.7.11)\n",
            "Requirement already satisfied: confection<1.0.0,>=0.0.1 in /usr/local/lib/python3.10/dist-packages (from thinc<8.3.0,>=8.2.2->spacy<3.8.0,>=3.7.0->es-core-news-sm==3.7.0) (0.1.5)\n",
            "Requirement already satisfied: click>=8.0.0 in /usr/local/lib/python3.10/dist-packages (from typer<1.0.0,>=0.3.0->spacy<3.8.0,>=3.7.0->es-core-news-sm==3.7.0) (8.1.7)\n",
            "Requirement already satisfied: shellingham>=1.3.0 in /usr/local/lib/python3.10/dist-packages (from typer<1.0.0,>=0.3.0->spacy<3.8.0,>=3.7.0->es-core-news-sm==3.7.0) (1.5.4)\n",
            "Requirement already satisfied: rich>=10.11.0 in /usr/local/lib/python3.10/dist-packages (from typer<1.0.0,>=0.3.0->spacy<3.8.0,>=3.7.0->es-core-news-sm==3.7.0) (13.9.4)\n",
            "Requirement already satisfied: cloudpathlib<1.0.0,>=0.7.0 in /usr/local/lib/python3.10/dist-packages (from weasel<0.5.0,>=0.1.0->spacy<3.8.0,>=3.7.0->es-core-news-sm==3.7.0) (0.20.0)\n",
            "Requirement already satisfied: smart-open<8.0.0,>=5.2.1 in /usr/local/lib/python3.10/dist-packages (from weasel<0.5.0,>=0.1.0->spacy<3.8.0,>=3.7.0->es-core-news-sm==3.7.0) (7.0.5)\n",
            "Requirement already satisfied: MarkupSafe>=2.0 in /usr/local/lib/python3.10/dist-packages (from jinja2->spacy<3.8.0,>=3.7.0->es-core-news-sm==3.7.0) (3.0.2)\n",
            "Requirement already satisfied: marisa-trie>=0.7.7 in /usr/local/lib/python3.10/dist-packages (from language-data>=1.2->langcodes<4.0.0,>=3.2.0->spacy<3.8.0,>=3.7.0->es-core-news-sm==3.7.0) (1.2.1)\n",
            "Requirement already satisfied: markdown-it-py>=2.2.0 in /usr/local/lib/python3.10/dist-packages (from rich>=10.11.0->typer<1.0.0,>=0.3.0->spacy<3.8.0,>=3.7.0->es-core-news-sm==3.7.0) (3.0.0)\n",
            "Requirement already satisfied: pygments<3.0.0,>=2.13.0 in /usr/local/lib/python3.10/dist-packages (from rich>=10.11.0->typer<1.0.0,>=0.3.0->spacy<3.8.0,>=3.7.0->es-core-news-sm==3.7.0) (2.18.0)\n",
            "Requirement already satisfied: wrapt in /usr/local/lib/python3.10/dist-packages (from smart-open<8.0.0,>=5.2.1->weasel<0.5.0,>=0.1.0->spacy<3.8.0,>=3.7.0->es-core-news-sm==3.7.0) (1.16.0)\n",
            "Requirement already satisfied: mdurl~=0.1 in /usr/local/lib/python3.10/dist-packages (from markdown-it-py>=2.2.0->rich>=10.11.0->typer<1.0.0,>=0.3.0->spacy<3.8.0,>=3.7.0->es-core-news-sm==3.7.0) (0.1.2)\n",
            "\u001b[38;5;2m✔ Download and installation successful\u001b[0m\n",
            "You can now load the package via spacy.load('es_core_news_sm')\n",
            "\u001b[38;5;3m⚠ Restart to reload dependencies\u001b[0m\n",
            "If you are in a Jupyter or Colab notebook, you may need to restart Python in\n",
            "order to load all the package's dependencies. You can do this by selecting the\n",
            "'Restart kernel' or 'Restart runtime' option.\n"
          ]
        }
      ],
      "source": [
        "!python -m spacy download es_core_news_sm"
      ]
    },
    {
      "cell_type": "code",
      "execution_count": 121,
      "metadata": {
        "id": "Q4uQh1gxHyUd"
      },
      "outputs": [],
      "source": [
        "# Cargamos las librerías a utilizar\n",
        "import unidecode\n",
        "import regex\n",
        "import spacy\n",
        "nlp = spacy.load(\"es_core_news_sm\")"
      ]
    },
    {
      "cell_type": "markdown",
      "metadata": {
        "id": "E-rJRRptHyUe"
      },
      "source": [
        "`nltk` trae una lista de 313 *stopwords* comúnes del español, pero las extenderemos con unas adicionales obtendias del libro de Fradejas Rueda (2020) disponible en la carpeta `data`:"
      ]
    },
    {
      "cell_type": "code",
      "execution_count": 122,
      "metadata": {
        "colab": {
          "base_uri": "https://localhost:8080/"
        },
        "id": "NEF1PxpVHyUe",
        "outputId": "e2d50759-ed5b-4954-98b4-a2167c89b167"
      },
      "outputs": [
        {
          "output_type": "execute_result",
          "data": {
            "text/plain": [
              "526"
            ]
          },
          "metadata": {},
          "execution_count": 122
        }
      ],
      "source": [
        "# Cargamos extra stop words\n",
        "extra_stopwords = pd.read_csv('https://raw.githubusercontent.com/ignaciomsarmiento/MALM/refs/heads/main/08_Rec_contenidos/data/stopword_extend.csv', sep=',')\n",
        "extra_stopwords= extra_stopwords['palabra'].to_list()\n",
        "lista_stopwords = np.concatenate((lista_stopwords, extra_stopwords))\n",
        "lista_stopwords=np.unique(lista_stopwords)\n",
        "len(lista_stopwords)"
      ]
    },
    {
      "cell_type": "markdown",
      "metadata": {
        "id": "lM0jFeNpHyUf"
      },
      "source": [
        "Esto nos permite ampliar en casi 200 stopwords nuestra lista. Quitemos los caracteres especiales del español, por ejemplo *gruñón* se volverá *grunon*:"
      ]
    },
    {
      "cell_type": "code",
      "execution_count": 123,
      "metadata": {
        "colab": {
          "base_uri": "https://localhost:8080/"
        },
        "id": "nAijWiQ2HyUf",
        "outputId": "e1281e40-a72c-4f60-8dbc-45e063debcee"
      },
      "outputs": [
        {
          "output_type": "stream",
          "name": "stdout",
          "text": [
            "Miniserie de TV (2021). 5 episodios. Frankelda que es una una misteriosa escritora fantasma y con ayuda de su grunon libro encantado, cuenta historias aterradoras a los espectadores donde ninas y ninos tienen encuentros con gnomos, brujas, monstruos y otras criaturas espeluznantes conocidas en general como <<los sustos>> que los haran enfrentarse a sus miedos mas profundos. Todo lo anterior mientras han estado atrapados en una mansion con conciencia propia por siglos.\n"
          ]
        }
      ],
      "source": [
        "example = unidecode.unidecode(example)\n",
        "print(example)"
      ]
    },
    {
      "cell_type": "markdown",
      "metadata": {
        "id": "nJYzQmusHyUf"
      },
      "source": [
        "Tokenizamos el texto utilizando los espacios en blanco. Esto facilitará el proceso de limpieza."
      ]
    },
    {
      "cell_type": "code",
      "execution_count": 124,
      "metadata": {
        "colab": {
          "base_uri": "https://localhost:8080/"
        },
        "id": "34uOBDV1HyUf",
        "outputId": "5a66d200-aff2-4a1b-bad0-79e9fdf7cdd1"
      },
      "outputs": [
        {
          "output_type": "stream",
          "name": "stdout",
          "text": [
            "['Miniserie', 'de', 'TV', '(2021).', '5', 'episodios.', 'Frankelda', 'que', 'es', 'una', 'una', 'misteriosa', 'escritora', 'fantasma', 'y', 'con', 'ayuda', 'de', 'su', 'grunon', 'libro', 'encantado,', 'cuenta', 'historias', 'aterradoras', 'a', 'los', 'espectadores', 'donde', 'ninas', 'y', 'ninos', 'tienen', 'encuentros', 'con', 'gnomos,', 'brujas,', 'monstruos', 'y', 'otras', 'criaturas', 'espeluznantes', 'conocidas', 'en', 'general', 'como', '<<los', 'sustos>>', 'que', 'los', 'haran', 'enfrentarse', 'a', 'sus', 'miedos', 'mas', 'profundos.', 'Todo', 'lo', 'anterior', 'mientras', 'han', 'estado', 'atrapados', 'en', 'una', 'mansion', 'con', 'conciencia', 'propia', 'por', 'siglos.']\n"
          ]
        }
      ],
      "source": [
        "example = example.split(\" \")\n",
        "print(example)"
      ]
    },
    {
      "cell_type": "markdown",
      "metadata": {
        "id": "Nphhm_DTHyUg"
      },
      "source": [
        "Buscamos si existe algún link a pagina web y los remplazamos por la palabra URL. En este caso del ejemplo no esta presente, pero es común que aparezca y no queremos que este tipo de texto nos \"ensucie\" el análisis:"
      ]
    },
    {
      "cell_type": "code",
      "execution_count": 125,
      "metadata": {
        "colab": {
          "base_uri": "https://localhost:8080/"
        },
        "id": "BGFQ_w9sHyUg",
        "outputId": "b6e2f5c3-5809-4296-fec8-f52ce7f67a73"
      },
      "outputs": [
        {
          "output_type": "stream",
          "name": "stdout",
          "text": [
            "['Miniserie', 'de', 'TV', '(2021).', '5', 'episodios.', 'Frankelda', 'que', 'es', 'una', 'una', 'misteriosa', 'escritora', 'fantasma', 'y', 'con', 'ayuda', 'de', 'su', 'grunon', 'libro', 'encantado,', 'cuenta', 'historias', 'aterradoras', 'a', 'los', 'espectadores', 'donde', 'ninas', 'y', 'ninos', 'tienen', 'encuentros', 'con', 'gnomos,', 'brujas,', 'monstruos', 'y', 'otras', 'criaturas', 'espeluznantes', 'conocidas', 'en', 'general', 'como', '<<los', 'sustos>>', 'que', 'los', 'haran', 'enfrentarse', 'a', 'sus', 'miedos', 'mas', 'profundos.', 'Todo', 'lo', 'anterior', 'mientras', 'han', 'estado', 'atrapados', 'en', 'una', 'mansion', 'con', 'conciencia', 'propia', 'por', 'siglos.']\n"
          ]
        }
      ],
      "source": [
        "example = ['URL' if bool(regex.search(\"http[s]?://\", i)) else i for i in example]\n",
        "print(example)"
      ]
    },
    {
      "cell_type": "markdown",
      "metadata": {
        "id": "IYhxw8LOHyUg"
      },
      "source": [
        "Remplazamos URL por espacios vacios utilizando expresiones regulares:"
      ]
    },
    {
      "cell_type": "code",
      "execution_count": 126,
      "metadata": {
        "colab": {
          "base_uri": "https://localhost:8080/"
        },
        "id": "hP95RzWkHyUg",
        "outputId": "8b2388bd-8b7a-4727-ae29-56644447d2e1"
      },
      "outputs": [
        {
          "output_type": "stream",
          "name": "stdout",
          "text": [
            "['Miniserie', 'de', 'TV', '(2021).', '5', 'episodios.', 'Frankelda', 'que', 'es', 'una', 'una', 'misteriosa', 'escritora', 'fantasma', 'y', 'con', 'ayuda', 'de', 'su', 'grunon', 'libro', 'encantado,', 'cuenta', 'historias', 'aterradoras', 'a', 'los', 'espectadores', 'donde', 'ninas', 'y', 'ninos', 'tienen', 'encuentros', 'con', 'gnomos,', 'brujas,', 'monstruos', 'y', 'otras', 'criaturas', 'espeluznantes', 'conocidas', 'en', 'general', 'como', '<<los', 'sustos>>', 'que', 'los', 'haran', 'enfrentarse', 'a', 'sus', 'miedos', 'mas', 'profundos.', 'Todo', 'lo', 'anterior', 'mientras', 'han', 'estado', 'atrapados', 'en', 'una', 'mansion', 'con', 'conciencia', 'propia', 'por', 'siglos.']\n"
          ]
        }
      ],
      "source": [
        "example = [i for i in example if i not in [\"URL\",\"\"]]\n",
        "print(example)"
      ]
    },
    {
      "cell_type": "markdown",
      "metadata": {
        "id": "a8XSMNVjHyUh"
      },
      "source": [
        "Remplazamos símbolos de puntuación y aquellos que denotan una nueva linea (`\\n`) por espacios vacios:"
      ]
    },
    {
      "cell_type": "code",
      "execution_count": 127,
      "metadata": {
        "colab": {
          "base_uri": "https://localhost:8080/"
        },
        "id": "nEhpiiUhHyUh",
        "outputId": "8982b0c7-207e-4699-9e1c-6b8f82506313"
      },
      "outputs": [
        {
          "output_type": "stream",
          "name": "stdout",
          "text": [
            "['Miniserie', 'de', 'TV', '2021', '5', 'episodios', 'Frankelda', 'que', 'es', 'una', 'una', 'misteriosa', 'escritora', 'fantasma', 'y', 'con', 'ayuda', 'de', 'su', 'grunon', 'libro', 'encantado', 'cuenta', 'historias', 'aterradoras', 'a', 'los', 'espectadores', 'donde', 'ninas', 'y', 'ninos', 'tienen', 'encuentros', 'con', 'gnomos', 'brujas', 'monstruos', 'y', 'otras', 'criaturas', 'espeluznantes', 'conocidas', 'en', 'general', 'como', 'los', 'sustos', 'que', 'los', 'haran', 'enfrentarse', 'a', 'sus', 'miedos', 'mas', 'profundos', 'Todo', 'lo', 'anterior', 'mientras', 'han', 'estado', 'atrapados', 'en', 'una', 'mansion', 'con', 'conciencia', 'propia', 'por', 'siglos']\n"
          ]
        }
      ],
      "source": [
        "example = [regex.sub(\"[^\\\\w\\\\s]|\\n\", \"\", i) for i in example]\n",
        "print(example)"
      ]
    },
    {
      "cell_type": "markdown",
      "metadata": {
        "id": "3ieS8eWbHyUh"
      },
      "source": [
        "Remplazamos números por espacios vacios:"
      ]
    },
    {
      "cell_type": "code",
      "execution_count": 128,
      "metadata": {
        "colab": {
          "base_uri": "https://localhost:8080/"
        },
        "id": "XAQcitybHyUh",
        "outputId": "eaa18e61-4cd0-4450-908d-4c0c49f0ac54"
      },
      "outputs": [
        {
          "output_type": "stream",
          "name": "stdout",
          "text": [
            "['Miniserie', 'de', 'TV', '', '', 'episodios', 'Frankelda', 'que', 'es', 'una', 'una', 'misteriosa', 'escritora', 'fantasma', 'y', 'con', 'ayuda', 'de', 'su', 'grunon', 'libro', 'encantado', 'cuenta', 'historias', 'aterradoras', 'a', 'los', 'espectadores', 'donde', 'ninas', 'y', 'ninos', 'tienen', 'encuentros', 'con', 'gnomos', 'brujas', 'monstruos', 'y', 'otras', 'criaturas', 'espeluznantes', 'conocidas', 'en', 'general', 'como', 'los', 'sustos', 'que', 'los', 'haran', 'enfrentarse', 'a', 'sus', 'miedos', 'mas', 'profundos', 'Todo', 'lo', 'anterior', 'mientras', 'han', 'estado', 'atrapados', 'en', 'una', 'mansion', 'con', 'conciencia', 'propia', 'por', 'siglos']\n"
          ]
        }
      ],
      "source": [
        "example = [regex.sub(\"^[0-9]*$\", \"\", i) for i in example]\n",
        "print(example)"
      ]
    },
    {
      "cell_type": "markdown",
      "metadata": {
        "id": "JTSKanPgHyUi"
      },
      "source": [
        "Ponemos todo en minúscula:"
      ]
    },
    {
      "cell_type": "code",
      "execution_count": 129,
      "metadata": {
        "colab": {
          "base_uri": "https://localhost:8080/"
        },
        "id": "jMvvzGbxHyUi",
        "outputId": "bc182eec-f152-4ff8-aae1-dcd476e5ec49"
      },
      "outputs": [
        {
          "output_type": "stream",
          "name": "stdout",
          "text": [
            "['miniserie', 'de', 'tv', '', '', 'episodios', 'frankelda', 'que', 'es', 'una', 'una', 'misteriosa', 'escritora', 'fantasma', 'y', 'con', 'ayuda', 'de', 'su', 'grunon', 'libro', 'encantado', 'cuenta', 'historias', 'aterradoras', 'a', 'los', 'espectadores', 'donde', 'ninas', 'y', 'ninos', 'tienen', 'encuentros', 'con', 'gnomos', 'brujas', 'monstruos', 'y', 'otras', 'criaturas', 'espeluznantes', 'conocidas', 'en', 'general', 'como', 'los', 'sustos', 'que', 'los', 'haran', 'enfrentarse', 'a', 'sus', 'miedos', 'mas', 'profundos', 'todo', 'lo', 'anterior', 'mientras', 'han', 'estado', 'atrapados', 'en', 'una', 'mansion', 'con', 'conciencia', 'propia', 'por', 'siglos']\n"
          ]
        }
      ],
      "source": [
        "example = [ i.lower() for i in example]\n",
        "print(example)"
      ]
    },
    {
      "cell_type": "markdown",
      "metadata": {
        "id": "FqK7gK0gHyUi"
      },
      "source": [
        "Dos pasos adicionales particulares de este texto. Quitaremos la palabra `tv` y remplazaremos `miniserie` por `miniseriedetv`:"
      ]
    },
    {
      "cell_type": "code",
      "execution_count": 130,
      "metadata": {
        "colab": {
          "base_uri": "https://localhost:8080/"
        },
        "id": "42EekbGtHyUi",
        "outputId": "7beff8c6-bb02-47f6-814b-7f9ca2eb4238"
      },
      "outputs": [
        {
          "output_type": "stream",
          "name": "stdout",
          "text": [
            "['miniseriedetv', 'de', '', '', '', 'episodios', 'frankelda', 'que', 'es', 'una', 'una', 'misteriosa', 'escritora', 'fantasma', 'y', 'con', 'ayuda', 'de', 'su', 'grunon', 'libro', 'encantado', 'cuenta', 'historias', 'aterradoras', 'a', 'los', 'espectadores', 'donde', 'ninas', 'y', 'ninos', 'tienen', 'encuentros', 'con', 'gnomos', 'brujas', 'monstruos', 'y', 'otras', 'criaturas', 'espeluznantes', 'conocidas', 'en', 'general', 'como', 'los', 'sustos', 'que', 'los', 'haran', 'enfrentarse', 'a', 'sus', 'miedos', 'mas', 'profundos', 'todo', 'lo', 'anterior', 'mientras', 'han', 'estado', 'atrapados', 'en', 'una', 'mansion', 'con', 'conciencia', 'propia', 'por', 'siglos']\n"
          ]
        }
      ],
      "source": [
        "example = [regex.sub(\"tv\", \"\", i) for i in example]\n",
        "example = [regex.sub(\"miniserie\", \"miniseriedetv\", i) for i in example]\n",
        "print(example)"
      ]
    },
    {
      "cell_type": "markdown",
      "metadata": {
        "id": "uj5lIsT9HyUj"
      },
      "source": [
        "Eliminamos las *stopwords*:"
      ]
    },
    {
      "cell_type": "code",
      "execution_count": 131,
      "metadata": {
        "colab": {
          "base_uri": "https://localhost:8080/"
        },
        "id": "Md0PhKBHHyUj",
        "outputId": "18d40793-775a-4e30-dd81-fe0f936b843b"
      },
      "outputs": [
        {
          "output_type": "stream",
          "name": "stdout",
          "text": [
            "['miniseriedetv', '', '', '', 'episodios', 'frankelda', 'misteriosa', 'escritora', 'fantasma', 'ayuda', 'grunon', 'libro', 'encantado', 'cuenta', 'historias', 'aterradoras', 'espectadores', 'ninas', 'ninos', 'encuentros', 'gnomos', 'brujas', 'monstruos', 'criaturas', 'espeluznantes', 'conocidas', 'general', 'sustos', 'haran', 'enfrentarse', 'miedos', 'profundos', 'anterior', 'atrapados', 'mansion', 'conciencia', 'propia', 'siglos']\n"
          ]
        }
      ],
      "source": [
        "example = [i for i in example if i not in lista_stopwords]\n",
        "print(example)"
      ]
    },
    {
      "cell_type": "markdown",
      "metadata": {
        "id": "8hhTvF3zHyUj"
      },
      "source": [
        "Unimos la lista de palabras para simplificar la lematización:"
      ]
    },
    {
      "cell_type": "code",
      "execution_count": 132,
      "metadata": {
        "colab": {
          "base_uri": "https://localhost:8080/"
        },
        "id": "W-KbCo95HyUj",
        "outputId": "ca85b69f-af79-4987-dfdd-b08009d0d702"
      },
      "outputs": [
        {
          "output_type": "stream",
          "name": "stdout",
          "text": [
            "miniseriedetv    episodios frankelda misteriosa escritora fantasma ayuda grunon libro encantado cuenta historias aterradoras espectadores ninas ninos encuentros gnomos brujas monstruos criaturas espeluznantes conocidas general sustos haran enfrentarse miedos profundos anterior atrapados mansion conciencia propia siglos\n"
          ]
        }
      ],
      "source": [
        "example = ' '.join(example)\n",
        "print(example)"
      ]
    },
    {
      "cell_type": "markdown",
      "metadata": {
        "id": "Fc0ateQ0HyUj"
      },
      "source": [
        "Lematizamos:"
      ]
    },
    {
      "cell_type": "code",
      "execution_count": 133,
      "metadata": {
        "colab": {
          "base_uri": "https://localhost:8080/"
        },
        "id": "Kqp7Ohg5HyUk",
        "outputId": "58261e1c-7293-4dfe-bc93-64ae54ed5a0d"
      },
      "outputs": [
        {
          "output_type": "stream",
          "name": "stdout",
          "text": [
            "['miniseriedetv', '   ', 'episodio', 'frankeldar', 'misterioso', 'escritora', 'fantasma', 'ayuda', 'grunon', 'libro', 'encantado', 'contar', 'historia', 'aterradora', 'espectador', 'nina', 'nino', 'encuentro', 'gnomos', 'bruja', 'monstruo', 'criatura', 'espeluznante', 'conocido', 'general', 'susto', 'harar', 'enfrentar él', 'miedo', 'profundo', 'anterior', 'atrapado', 'mansion', 'conciencia', 'propio', 'siglo']\n"
          ]
        }
      ],
      "source": [
        "example = nlp(example)\n",
        "example = [x.lemma_ for x in example]\n",
        "print(example)"
      ]
    },
    {
      "cell_type": "markdown",
      "metadata": {
        "id": "w7obMhWQHyUk"
      },
      "source": [
        "Notemos que el lematizador transforma ciertas palabras de forma interesante. Por ejemplo, *enfrentarse* se vuelve *enfrentar él*. Removeremos entonces este `él`."
      ]
    },
    {
      "cell_type": "code",
      "execution_count": 134,
      "metadata": {
        "colab": {
          "base_uri": "https://localhost:8080/"
        },
        "id": "ag4KtBiBHyUk",
        "outputId": "1211ba63-517b-4fb9-8533-8a67478d2648"
      },
      "outputs": [
        {
          "output_type": "stream",
          "name": "stdout",
          "text": [
            "['miniseriedetv', '   ', 'episodio', 'frankeldar', 'misterioso', 'escritora', 'fantasma', 'ayuda', 'grunon', 'libro', 'encantado', 'contar', 'historia', 'aterradora', 'espectador', 'nina', 'nino', 'encuentro', 'gnomos', 'bruja', 'monstruo', 'criatura', 'espeluznante', 'conocido', 'general', 'susto', 'harar', 'enfrentar ', 'miedo', 'profundo', 'anterior', 'atrapado', 'mansion', 'conciencia', 'propio', 'siglo']\n"
          ]
        }
      ],
      "source": [
        "example = [regex.sub(\"él\", \"\", i) for i in example]\n",
        "print(example)"
      ]
    },
    {
      "cell_type": "code",
      "source": [
        "example = [regex.sub(\"harar\", \"\", i) for i in example]\n",
        "print(example)"
      ],
      "metadata": {
        "id": "mR5HjKNARsXk",
        "outputId": "d7f64931-2dd8-47cf-ebaf-3484a6011966",
        "colab": {
          "base_uri": "https://localhost:8080/"
        }
      },
      "execution_count": 135,
      "outputs": [
        {
          "output_type": "stream",
          "name": "stdout",
          "text": [
            "['miniseriedetv', '   ', 'episodio', 'frankeldar', 'misterioso', 'escritora', 'fantasma', 'ayuda', 'grunon', 'libro', 'encantado', 'contar', 'historia', 'aterradora', 'espectador', 'nina', 'nino', 'encuentro', 'gnomos', 'bruja', 'monstruo', 'criatura', 'espeluznante', 'conocido', 'general', 'susto', '', 'enfrentar ', 'miedo', 'profundo', 'anterior', 'atrapado', 'mansion', 'conciencia', 'propio', 'siglo']\n"
          ]
        }
      ]
    },
    {
      "cell_type": "markdown",
      "metadata": {
        "id": "sg8a3-q2HyUk"
      },
      "source": [
        "La última transformación será quitar aquellas palabras muy cortas, que tengan menos de 5 caracteres."
      ]
    },
    {
      "cell_type": "code",
      "execution_count": 136,
      "metadata": {
        "colab": {
          "base_uri": "https://localhost:8080/"
        },
        "id": "BH1n4WlmHyUk",
        "outputId": "1fcd9ea1-3764-48e2-84b4-e6bc41f74096"
      },
      "outputs": [
        {
          "output_type": "stream",
          "name": "stdout",
          "text": [
            "['miniseriedetv', '   ', 'episodio', 'frankeldar', 'misterioso', 'escritora', 'fantasma', 'ayuda', 'grunon', 'libro', 'encantado', 'contar', 'historia', 'aterradora', 'espectador', 'nina', 'nino', 'encuentro', 'gnomos', 'bruja', 'monstruo', 'criatura', 'espeluznante', 'conocido', 'general', 'susto', 'enfrentar ', 'miedo', 'profundo', 'anterior', 'atrapado', 'mansion', 'conciencia', 'propio', 'siglo']\n"
          ]
        }
      ],
      "source": [
        "example = [i for i in example if len(i) >= 3]\n",
        "print(example)"
      ]
    },
    {
      "cell_type": "markdown",
      "metadata": {
        "id": "0lKvtGgqHyUl"
      },
      "source": [
        "Quedo entonces \"limpio\" nuestro ejemplo. Te invito a probar como cambian los resultados quitando o modificando estos pasos.\n",
        "\n",
        "Ahora que tenemos claro como se puede proceder tenemos que aplicar esto a todas las descripciones de las tramas de las películas/series en nuestra base. Creemos entonces una función que condense estos pasos:"
      ]
    },
    {
      "cell_type": "code",
      "execution_count": 137,
      "metadata": {
        "id": "h1pTh9B8HyUl"
      },
      "outputs": [],
      "source": [
        "def sinopsis_cleaning(txt):\n",
        "\n",
        "    out = unidecode.unidecode(txt)\n",
        "    out = out.split(\" \")\n",
        "    out = ['URL' if bool(regex.search(\"http[s]?://\", i)) else i for i in out]\n",
        "    out = [i for i in out if i not in [\"URL\",\"\"]]\n",
        "    out = [regex.sub(\"[^\\\\w\\\\s]|\\n\", \"\", i) for i in out]\n",
        "    out = [regex.sub(\"^[0-9]*$\", \"\", i) for i in out]\n",
        "    out = [ i.lower() for i in out]\n",
        "    out = [regex.sub(\"tv\", \"\", i) for i in out]\n",
        "    out = [regex.sub(\"miniserie\", \"miniseriedetv\", i) for i in out]\n",
        "    out = [i for i in out if i not in lista_stopwords]\n",
        "    out = ' '.join(out)\n",
        "    out = nlp(out)\n",
        "    out = [x.lemma_ for x in out]\n",
        "    out = [regex.sub(\"él\", \"\", i) for i in out]\n",
        "    out = [regex.sub(\"harar\", \"\", i) for i in example]\n",
        "    out = [i for i in out if len(i) >= 3]\n",
        "\n",
        "    return out"
      ]
    },
    {
      "cell_type": "markdown",
      "metadata": {
        "id": "lWtNExoHHyUl"
      },
      "source": [
        "Aplicamos la función"
      ]
    },
    {
      "cell_type": "code",
      "execution_count": 138,
      "metadata": {
        "colab": {
          "base_uri": "https://localhost:8080/"
        },
        "id": "CkoHZJcGHyUl",
        "outputId": "e1b8c86f-16c4-48ec-a6e9-153220fc2821"
      },
      "outputs": [
        {
          "output_type": "stream",
          "name": "stdout",
          "text": [
            "miniseriedetv     episodio frankeldar misterioso escritora fantasma ayuda grunon libro encantado contar historia aterradora espectador nina nino encuentro gnomos bruja monstruo criatura espeluznante conocido general susto enfrentar  miedo profundo anterior atrapado mansion conciencia propio siglo\n"
          ]
        }
      ],
      "source": [
        "clean = list(map(sinopsis_cleaning, pelis['sinopsis']))\n",
        "clean_sentences = [\" \".join(i) for i in clean]\n",
        "print(clean_sentences[100])"
      ]
    },
    {
      "cell_type": "markdown",
      "metadata": {
        "id": "zIqrQTa1HyUm"
      },
      "source": [
        "Con las descripciones de la trama limpias crearemos el vector TF-IDF. Para ello importaremos el objeto [TfidfVectorizer](https://scikit-learn.org/stable/modules/generated/sklearn.feature_extraction.text.TfidfVectorizer.html) de [scikit](https://scikit-learn.org/stable/) que nos va a permitir crear la matriz con los documentos vectorizados. Pero como paso intermedio quitaremos las *stopwords*"
      ]
    },
    {
      "cell_type": "code",
      "execution_count": 139,
      "metadata": {
        "colab": {
          "base_uri": "https://localhost:8080/"
        },
        "id": "alxz2MtdHyUm",
        "outputId": "dd5b3de0-6c89-47d2-dfa5-108e89b3d5a9"
      },
      "outputs": [
        {
          "output_type": "execute_result",
          "data": {
            "text/plain": [
              "(1321, 34)"
            ]
          },
          "metadata": {},
          "execution_count": 139
        }
      ],
      "source": [
        "from sklearn.feature_extraction.text import TfidfVectorizer\n",
        "\n",
        "#Definimos el objeto TF-IDF Vectorizer Object\n",
        "tfidf = TfidfVectorizer()\n",
        "\n",
        "#Construimos la matriz TF-IDF\n",
        "tfidf_matrix = tfidf.fit_transform(clean_sentences)\n",
        "\n",
        "#Dimensiones de la matriz\n",
        "tfidf_matrix.shape"
      ]
    },
    {
      "cell_type": "code",
      "source": [
        "?tfidf.fit_transform\n"
      ],
      "metadata": {
        "id": "QEURDyHeWeJy"
      },
      "execution_count": 140,
      "outputs": []
    },
    {
      "cell_type": "markdown",
      "metadata": {
        "id": "rgz7I2TsHyUm"
      },
      "source": [
        "Es decir, hemos creado  vectores para la sinopsis de cada película/serie. El paso siguiente es crear la distancia de coseno con cada película. para ello vamos a crear una matriz donde la celda $i$ y la columna $j$ represente la similaridad que hay entre $i$ y $j$. Esta será una matriz simétrica con elementos en la diagonal principal igual a 1, puesto que la similitud entre una película/serie y si misma es 0.\n",
        "\n",
        "\n",
        "### Similaridad entre las tramas\n",
        "\n",
        "Dado que vectorizamos TF-IDF, la norma de estos siempre será 1. Esto simplifica el cómputo de la disimilaridad de coseno ya que se resume a calcular el producto punto.  La librería [scikit](https://scikit-learn.org/stable/)  cuenta con una función que nos permite computar de manera sencilla esta matriz con la función `linear_kernel`."
      ]
    },
    {
      "cell_type": "code",
      "execution_count": 141,
      "metadata": {
        "id": "yP0gmW8SHyUm"
      },
      "outputs": [],
      "source": [
        "# Cargamos las funciones a utilizar\n",
        "from sklearn.metrics.pairwise import linear_kernel\n",
        "\n",
        "# Calculamos el producto punto\n",
        "cosine_sim = linear_kernel(tfidf_matrix, tfidf_matrix)"
      ]
    },
    {
      "cell_type": "code",
      "source": [
        "cosine_sim"
      ],
      "metadata": {
        "id": "wbB9HmJEYn09",
        "outputId": "385bfa77-d576-45b7-f27c-b4d0d5556f34",
        "colab": {
          "base_uri": "https://localhost:8080/"
        }
      },
      "execution_count": 142,
      "outputs": [
        {
          "output_type": "execute_result",
          "data": {
            "text/plain": [
              "array([[1., 1., 1., ..., 1., 1., 1.],\n",
              "       [1., 1., 1., ..., 1., 1., 1.],\n",
              "       [1., 1., 1., ..., 1., 1., 1.],\n",
              "       ...,\n",
              "       [1., 1., 1., ..., 1., 1., 1.],\n",
              "       [1., 1., 1., ..., 1., 1., 1.],\n",
              "       [1., 1., 1., ..., 1., 1., 1.]])"
            ]
          },
          "metadata": {},
          "execution_count": 142
        }
      ]
    },
    {
      "cell_type": "markdown",
      "metadata": {
        "id": "TB_Vi2lfHyUn"
      },
      "source": [
        "### Función recomendadora\n",
        "\n",
        "Estamos ahora en condiciones de crear una función que toma como insumo el título de la película/serie, y devuelve recomendaciones. Realizaremos los siguientes pasos en la construcción de la función de recomendación:\n",
        "\n",
        "1. Declaramos el título de la película como argumento.\n",
        "2. Crearemos una serie que contenga como índice el título de la película/serie y el valor es el correspondiente índice de la serie original:\n",
        "3. Obtenemos el índice de la película a partir de la asignación inversa de índices del paso anterior\n",
        "4. Obtenemos la similitud de coseno para esa película en particular con todas las películas. Convertimos esto en una lista de tuplas donde el primer elemento es la posición y el segundo es la similitud.\n",
        "5. Obtenemos esta lista de tuplas sobre la base de la similitud.\n",
        "6. Obtenemos los 10 elementos top de esta lista ignorando el primer elemento ya que será la puntuación consigo misma.\n",
        "7. Retornamos los títulos recomendados"
      ]
    },
    {
      "cell_type": "code",
      "execution_count": 143,
      "metadata": {
        "id": "eJUYsBVbHyUn"
      },
      "outputs": [],
      "source": [
        "def recomendador(title, cosine_sim=cosine_sim, df=pelis):\n",
        "\n",
        "    #Paso 2\n",
        "    df = df.reset_index()\n",
        "    indices = pd.Series(df.index, index=df['titulo']).drop_duplicates()\n",
        "    #Paso 3\n",
        "    idx = indices[title]\n",
        "\n",
        "    #Paso 4\n",
        "    sim_scores = list(enumerate(cosine_sim[idx]))\n",
        "\n",
        "    #Paso 5\n",
        "    sim_scores = sorted(sim_scores, key=lambda x: x[1], reverse=True)\n",
        "\n",
        "    #Paso 6\n",
        "    sim_scores = sim_scores[1:11]\n",
        "\n",
        "    movie_indices = [i[0] for i in sim_scores]\n",
        "\n",
        "    #Paso 7\n",
        "    return pelis['titulo'].iloc[movie_indices]"
      ]
    },
    {
      "cell_type": "markdown",
      "metadata": {
        "id": "xzamoyyWHyUn"
      },
      "source": [
        "Generemos entonces recomendaciones para la serie colombiana \"Las iguanas\", pero antes veamos la sinopsis:"
      ]
    },
    {
      "cell_type": "code",
      "execution_count": 144,
      "metadata": {
        "colab": {
          "base_uri": "https://localhost:8080/"
        },
        "id": "9YnLkXg4HyUn",
        "outputId": "6571350b-f0ac-4c10-f1f7-7cc16d68b13e"
      },
      "outputs": [
        {
          "output_type": "execute_result",
          "data": {
            "text/plain": [
              "array(['La amistad y la confianza de un grupo de amigos puede desmoronarse bajo el peso de un acto de abuso.'],\n",
              "      dtype=object)"
            ]
          },
          "metadata": {},
          "execution_count": 144
        }
      ],
      "source": [
        "pelis[pelis['titulo']=='Las iguanas']['sinopsis'].values"
      ]
    },
    {
      "cell_type": "markdown",
      "metadata": {
        "id": "djuAoSikHyUn"
      },
      "source": [
        "Este es un drama interesante que toca temas sensibles. Veamos las recomendaciones que nos genera"
      ]
    },
    {
      "cell_type": "code",
      "execution_count": 145,
      "metadata": {
        "colab": {
          "base_uri": "https://localhost:8080/",
          "height": 397
        },
        "id": "B2P66GguHyUn",
        "outputId": "179ecc7e-16c1-47c0-834e-7cb63469322d"
      },
      "outputs": [
        {
          "output_type": "execute_result",
          "data": {
            "text/plain": [
              "1                  Las iguanas\n",
              "2     The Time Traveler's Wife\n",
              "3              Sluga narodaaka\n",
              "4                        Hacks\n",
              "5                        Spree\n",
              "6                The Staircase\n",
              "7              Las Bravas F.C.\n",
              "8                    Theodosia\n",
              "9                Made for Love\n",
              "10            We Own This City\n",
              "Name: titulo, dtype: object"
            ],
            "text/html": [
              "<div>\n",
              "<style scoped>\n",
              "    .dataframe tbody tr th:only-of-type {\n",
              "        vertical-align: middle;\n",
              "    }\n",
              "\n",
              "    .dataframe tbody tr th {\n",
              "        vertical-align: top;\n",
              "    }\n",
              "\n",
              "    .dataframe thead th {\n",
              "        text-align: right;\n",
              "    }\n",
              "</style>\n",
              "<table border=\"1\" class=\"dataframe\">\n",
              "  <thead>\n",
              "    <tr style=\"text-align: right;\">\n",
              "      <th></th>\n",
              "      <th>titulo</th>\n",
              "    </tr>\n",
              "  </thead>\n",
              "  <tbody>\n",
              "    <tr>\n",
              "      <th>1</th>\n",
              "      <td>Las iguanas</td>\n",
              "    </tr>\n",
              "    <tr>\n",
              "      <th>2</th>\n",
              "      <td>The Time Traveler's Wife</td>\n",
              "    </tr>\n",
              "    <tr>\n",
              "      <th>3</th>\n",
              "      <td>Sluga narodaaka</td>\n",
              "    </tr>\n",
              "    <tr>\n",
              "      <th>4</th>\n",
              "      <td>Hacks</td>\n",
              "    </tr>\n",
              "    <tr>\n",
              "      <th>5</th>\n",
              "      <td>Spree</td>\n",
              "    </tr>\n",
              "    <tr>\n",
              "      <th>6</th>\n",
              "      <td>The Staircase</td>\n",
              "    </tr>\n",
              "    <tr>\n",
              "      <th>7</th>\n",
              "      <td>Las Bravas F.C.</td>\n",
              "    </tr>\n",
              "    <tr>\n",
              "      <th>8</th>\n",
              "      <td>Theodosia</td>\n",
              "    </tr>\n",
              "    <tr>\n",
              "      <th>9</th>\n",
              "      <td>Made for Love</td>\n",
              "    </tr>\n",
              "    <tr>\n",
              "      <th>10</th>\n",
              "      <td>We Own This City</td>\n",
              "    </tr>\n",
              "  </tbody>\n",
              "</table>\n",
              "</div><br><label><b>dtype:</b> object</label>"
            ]
          },
          "metadata": {},
          "execution_count": 145
        }
      ],
      "source": [
        "#Obtenemos las recomendaciones\n",
        "recomendador('Las iguanas')"
      ]
    },
    {
      "cell_type": "markdown",
      "metadata": {
        "id": "CiSpbl4rHyUo"
      },
      "source": [
        "Podemos ver que la función está generando recomendaciones de películas y miniseries que envuelven grupo de individuos y drama. Visualicemos utilizando una nube de palabras cuáles son los términos más frecuentes en las descripciones:"
      ]
    },
    {
      "cell_type": "code",
      "execution_count": 146,
      "metadata": {
        "colab": {
          "base_uri": "https://localhost:8080/",
          "height": 661
        },
        "id": "Y5eU_diLHyUo",
        "outputId": "b4e2273b-a1c5-455f-973d-e8acc8675974"
      },
      "outputs": [
        {
          "output_type": "display_data",
          "data": {
            "text/plain": [
              "<Figure size 2000x1000 with 1 Axes>"
            ],
            "image/png": "[encoded data removed]"
          },
          "metadata": {}
        }
      ],
      "source": [
        "# Cargamos las librerías a utilizar\n",
        "from wordcloud import WordCloud\n",
        "import matplotlib.pyplot as plt\n",
        "\n",
        "#ponemos en un vector las peliculas recomendadas\n",
        "pelis_rec=pelis[pelis['titulo'].isin(recomendador('Las iguanas'))]\n",
        "\n",
        "#Limpiamos el texto\n",
        "text = \" \".join(pelis_rec['sinopsis'])\n",
        "text = sinopsis_cleaning(text)\n",
        "text=' '.join(text)\n",
        "\n",
        "# Armamos la nube de palabras\n",
        "wordcloud = WordCloud(width = 1600, height = 800, stopwords = lista_stopwords,\n",
        "    background_color = \"white\").generate(text)\n",
        "plt.figure(figsize = (20, 10))\n",
        "plt.imshow(wordcloud, interpolation = 'bilinear')\n",
        "plt.axis(\"off\")\n",
        "plt.show()"
      ]
    },
    {
      "cell_type": "markdown",
      "metadata": {
        "id": "Nc_qsVitHyUo"
      },
      "source": [
        "La nube de palabras confirma la intuición de que el recomendador está sugiriendo series sobre grupos de amigos y la trama contiene secretos, poder y abuso."
      ]
    },
    {
      "cell_type": "markdown",
      "metadata": {
        "id": "RAU902VkHyUo"
      },
      "source": [
        "## Recomendador basado en metadatos\n",
        "\n",
        "Para construir el recomendador basado en metadatos seguiremos una estrategia similar a la de la sección previa, sin embargo, cambiaremos los datos que sirven como insumo para generar las recomendaciones.\n",
        "\n",
        "Seguiremos utilizando la base de datos de películas y series que introdujimos en la sección anterior. El foco lo pondremos sobre los metadatos de estas películas/series, específicamente sobre el género, el reparto y la dirección."
      ]
    },
    {
      "cell_type": "code",
      "execution_count": 151,
      "metadata": {
        "colab": {
          "base_uri": "https://localhost:8080/",
          "height": 206
        },
        "id": "6BFl5VwHHyUo",
        "outputId": "5f0f5dec-241a-49bc-ffac-6b5da6b9a97a"
      },
      "outputs": [
        {
          "output_type": "execute_result",
          "data": {
            "text/plain": [
              "                     titulo  \\\n",
              "0               Chapelwaite   \n",
              "1               Las iguanas   \n",
              "2  The Time Traveler's Wife   \n",
              "3           Sluga narodaaka   \n",
              "4                     Hacks   \n",
              "\n",
              "                                              genero  \\\n",
              "0                Serie de TV. Drama. Terror. Intriga   \n",
              "1  Serie de TV. Drama | Miniserie de TV. Abusos s...   \n",
              "2  Serie de TV. Fantástico. Drama | Viajes en el ...   \n",
              "3            Serie de TV. Comedia | Sátira. Política   \n",
              "4             Serie de TV. Comedia. Drama | Stand-Up   \n",
              "\n",
              "                                             reparto  \\\n",
              "0  Adrien Brody, Jennifer Ens, Sirena Gulamgaus, ...   \n",
              "1  Camilo Amores, Silvia Varón, Mario Espitia, Is...   \n",
              "2  Rose Leslie, Theo James, Desmin Borges, Natash...   \n",
              "3  Vladimir Zelenskiy, Vladyslav Dmytrenko, Boris...   \n",
              "4  Jean Smart, Hannah Einbinder, Rose Abdoo, Haye...   \n",
              "\n",
              "                                           direccion  \n",
              "0  Stephen King (Creador), Rachel Leiterman, Mich...  \n",
              "1                                 Frank Benitez Peña  \n",
              "2              Steven Moffat (Creador), David Nutter  \n",
              "3  Vladimir Zelenskiy (Creador), Aleksey Kiryushc...  \n",
              "4  Lucia Aniello (Creador), Paul W. Downs (Creado...  "
            ],
            "text/html": [
              "\n",
              "  <div id=\"df-86566e8f-837f-4977-96ad-b555d1bb0a72\" class=\"colab-df-container\">\n",
              "    <div>\n",
              "<style scoped>\n",
              "    .dataframe tbody tr th:only-of-type {\n",
              "        vertical-align: middle;\n",
              "    }\n",
              "\n",
              "    .dataframe tbody tr th {\n",
              "        vertical-align: top;\n",
              "    }\n",
              "\n",
              "    .dataframe thead th {\n",
              "        text-align: right;\n",
              "    }\n",
              "</style>\n",
              "<table border=\"1\" class=\"dataframe\">\n",
              "  <thead>\n",
              "    <tr style=\"text-align: right;\">\n",
              "      <th></th>\n",
              "      <th>titulo</th>\n",
              "      <th>genero</th>\n",
              "      <th>reparto</th>\n",
              "      <th>direccion</th>\n",
              "    </tr>\n",
              "  </thead>\n",
              "  <tbody>\n",
              "    <tr>\n",
              "      <th>0</th>\n",
              "      <td>Chapelwaite</td>\n",
              "      <td>Serie de TV. Drama. Terror. Intriga</td>\n",
              "      <td>Adrien Brody, Jennifer Ens, Sirena Gulamgaus, ...</td>\n",
              "      <td>Stephen King (Creador), Rachel Leiterman, Mich...</td>\n",
              "    </tr>\n",
              "    <tr>\n",
              "      <th>1</th>\n",
              "      <td>Las iguanas</td>\n",
              "      <td>Serie de TV. Drama | Miniserie de TV. Abusos s...</td>\n",
              "      <td>Camilo Amores, Silvia Varón, Mario Espitia, Is...</td>\n",
              "      <td>Frank Benitez Peña</td>\n",
              "    </tr>\n",
              "    <tr>\n",
              "      <th>2</th>\n",
              "      <td>The Time Traveler's Wife</td>\n",
              "      <td>Serie de TV. Fantástico. Drama | Viajes en el ...</td>\n",
              "      <td>Rose Leslie, Theo James, Desmin Borges, Natash...</td>\n",
              "      <td>Steven Moffat (Creador), David Nutter</td>\n",
              "    </tr>\n",
              "    <tr>\n",
              "      <th>3</th>\n",
              "      <td>Sluga narodaaka</td>\n",
              "      <td>Serie de TV. Comedia | Sátira. Política</td>\n",
              "      <td>Vladimir Zelenskiy, Vladyslav Dmytrenko, Boris...</td>\n",
              "      <td>Vladimir Zelenskiy (Creador), Aleksey Kiryushc...</td>\n",
              "    </tr>\n",
              "    <tr>\n",
              "      <th>4</th>\n",
              "      <td>Hacks</td>\n",
              "      <td>Serie de TV. Comedia. Drama | Stand-Up</td>\n",
              "      <td>Jean Smart, Hannah Einbinder, Rose Abdoo, Haye...</td>\n",
              "      <td>Lucia Aniello (Creador), Paul W. Downs (Creado...</td>\n",
              "    </tr>\n",
              "  </tbody>\n",
              "</table>\n",
              "</div>\n",
              "    <div class=\"colab-df-buttons\">\n",
              "\n",
              "  <div class=\"colab-df-container\">\n",
              "    <button class=\"colab-df-convert\" onclick=\"convertToInteractive('df-86566e8f-837f-4977-96ad-b555d1bb0a72')\"\n",
              "            title=\"Convert this dataframe to an interactive table.\"\n",
              "            style=\"display:none;\">\n",
              "\n",
              "  <svg xmlns=\"http://www.w3.org/2000/svg\" height=\"24px\" viewBox=\"0 -960 960 960\">\n",
              "    <path d=\"M120-120v-720h720v720H120Zm60-500h600v-160H180v160Zm220 220h160v-160H400v160Zm0 220h160v-160H400v160ZM180-400h160v-160H180v160Zm440 0h160v-160H620v160ZM180-180h160v-160H180v160Zm440 0h160v-160H620v160Z\"/>\n",
              "  </svg>\n",
              "    </button>\n",
              "\n",
              "  <style>\n",
              "    .colab-df-container {\n",
              "      display:flex;\n",
              "      gap: 12px;\n",
              "    }\n",
              "\n",
              "    .colab-df-convert {\n",
              "      background-color: #E8F0FE;\n",
              "      border: none;\n",
              "      border-radius: 50%;\n",
              "      cursor: pointer;\n",
              "      display: none;\n",
              "      fill: #1967D2;\n",
              "      height: 32px;\n",
              "      padding: 0 0 0 0;\n",
              "      width: 32px;\n",
              "    }\n",
              "\n",
              "    .colab-df-convert:hover {\n",
              "      background-color: #E2EBFA;\n",
              "      box-shadow: 0px 1px 2px rgba(60, 64, 67, 0.3), 0px 1px 3px 1px rgba(60, 64, 67, 0.15);\n",
              "      fill: #174EA6;\n",
              "    }\n",
              "\n",
              "    .colab-df-buttons div {\n",
              "      margin-bottom: 4px;\n",
              "    }\n",
              "\n",
              "    [theme=dark] .colab-df-convert {\n",
              "      background-color: #3B4455;\n",
              "      fill: #D2E3FC;\n",
              "    }\n",
              "\n",
              "    [theme=dark] .colab-df-convert:hover {\n",
              "      background-color: #434B5C;\n",
              "      box-shadow: 0px 1px 3px 1px rgba(0, 0, 0, 0.15);\n",
              "      filter: drop-shadow(0px 1px 2px rgba(0, 0, 0, 0.3));\n",
              "      fill: #FFFFFF;\n",
              "    }\n",
              "  </style>\n",
              "\n",
              "    <script>\n",
              "      const buttonEl =\n",
              "        document.querySelector('#df-86566e8f-837f-4977-96ad-b555d1bb0a72 button.colab-df-convert');\n",
              "      buttonEl.style.display =\n",
              "        google.colab.kernel.accessAllowed ? 'block' : 'none';\n",
              "\n",
              "      async function convertToInteractive(key) {\n",
              "        const element = document.querySelector('#df-86566e8f-837f-4977-96ad-b555d1bb0a72');\n",
              "        const dataTable =\n",
              "          await google.colab.kernel.invokeFunction('convertToInteractive',\n",
              "                                                    [key], {});\n",
              "        if (!dataTable) return;\n",
              "\n",
              "        const docLinkHtml = 'Like what you see? Visit the ' +\n",
              "          '<a target=\"_blank\" href=https://colab.research.google.com/notebooks/data_table.ipynb>data table notebook</a>'\n",
              "          + ' to learn more about interactive tables.';\n",
              "        element.innerHTML = '';\n",
              "        dataTable['output_type'] = 'display_data';\n",
              "        await google.colab.output.renderOutput(dataTable, element);\n",
              "        const docLink = document.createElement('div');\n",
              "        docLink.innerHTML = docLinkHtml;\n",
              "        element.appendChild(docLink);\n",
              "      }\n",
              "    </script>\n",
              "  </div>\n",
              "\n",
              "\n",
              "<div id=\"df-43758657-6667-4037-9804-5ff4f81ffc13\">\n",
              "  <button class=\"colab-df-quickchart\" onclick=\"quickchart('df-43758657-6667-4037-9804-5ff4f81ffc13')\"\n",
              "            title=\"Suggest charts\"\n",
              "            style=\"display:none;\">\n",
              "\n",
              "<svg xmlns=\"http://www.w3.org/2000/svg\" height=\"24px\"viewBox=\"0 0 24 24\"\n",
              "     width=\"24px\">\n",
              "    <g>\n",
              "        <path d=\"M19 3H5c-1.1 0-2 .9-2 2v14c0 1.1.9 2 2 2h14c1.1 0 2-.9 2-2V5c0-1.1-.9-2-2-2zM9 17H7v-7h2v7zm4 0h-2V7h2v10zm4 0h-2v-4h2v4z\"/>\n",
              "    </g>\n",
              "</svg>\n",
              "  </button>\n",
              "\n",
              "<style>\n",
              "  .colab-df-quickchart {\n",
              "      --bg-color: #E8F0FE;\n",
              "      --fill-color: #1967D2;\n",
              "      --hover-bg-color: #E2EBFA;\n",
              "      --hover-fill-color: #174EA6;\n",
              "      --disabled-fill-color: #AAA;\n",
              "      --disabled-bg-color: #DDD;\n",
              "  }\n",
              "\n",
              "  [theme=dark] .colab-df-quickchart {\n",
              "      --bg-color: #3B4455;\n",
              "      --fill-color: #D2E3FC;\n",
              "      --hover-bg-color: #434B5C;\n",
              "      --hover-fill-color: #FFFFFF;\n",
              "      --disabled-bg-color: #3B4455;\n",
              "      --disabled-fill-color: #666;\n",
              "  }\n",
              "\n",
              "  .colab-df-quickchart {\n",
              "    background-color: var(--bg-color);\n",
              "    border: none;\n",
              "    border-radius: 50%;\n",
              "    cursor: pointer;\n",
              "    display: none;\n",
              "    fill: var(--fill-color);\n",
              "    height: 32px;\n",
              "    padding: 0;\n",
              "    width: 32px;\n",
              "  }\n",
              "\n",
              "  .colab-df-quickchart:hover {\n",
              "    background-color: var(--hover-bg-color);\n",
              "    box-shadow: 0 1px 2px rgba(60, 64, 67, 0.3), 0 1px 3px 1px rgba(60, 64, 67, 0.15);\n",
              "    fill: var(--button-hover-fill-color);\n",
              "  }\n",
              "\n",
              "  .colab-df-quickchart-complete:disabled,\n",
              "  .colab-df-quickchart-complete:disabled:hover {\n",
              "    background-color: var(--disabled-bg-color);\n",
              "    fill: var(--disabled-fill-color);\n",
              "    box-shadow: none;\n",
              "  }\n",
              "\n",
              "  .colab-df-spinner {\n",
              "    border: 2px solid var(--fill-color);\n",
              "    border-color: transparent;\n",
              "    border-bottom-color: var(--fill-color);\n",
              "    animation:\n",
              "      spin 1s steps(1) infinite;\n",
              "  }\n",
              "\n",
              "  @keyframes spin {\n",
              "    0% {\n",
              "      border-color: transparent;\n",
              "      border-bottom-color: var(--fill-color);\n",
              "      border-left-color: var(--fill-color);\n",
              "    }\n",
              "    20% {\n",
              "      border-color: transparent;\n",
              "      border-left-color: var(--fill-color);\n",
              "      border-top-color: var(--fill-color);\n",
              "    }\n",
              "    30% {\n",
              "      border-color: transparent;\n",
              "      border-left-color: var(--fill-color);\n",
              "      border-top-color: var(--fill-color);\n",
              "      border-right-color: var(--fill-color);\n",
              "    }\n",
              "    40% {\n",
              "      border-color: transparent;\n",
              "      border-right-color: var(--fill-color);\n",
              "      border-top-color: var(--fill-color);\n",
              "    }\n",
              "    60% {\n",
              "      border-color: transparent;\n",
              "      border-right-color: var(--fill-color);\n",
              "    }\n",
              "    80% {\n",
              "      border-color: transparent;\n",
              "      border-right-color: var(--fill-color);\n",
              "      border-bottom-color: var(--fill-color);\n",
              "    }\n",
              "    90% {\n",
              "      border-color: transparent;\n",
              "      border-bottom-color: var(--fill-color);\n",
              "    }\n",
              "  }\n",
              "</style>\n",
              "\n",
              "  <script>\n",
              "    async function quickchart(key) {\n",
              "      const quickchartButtonEl =\n",
              "        document.querySelector('#' + key + ' button');\n",
              "      quickchartButtonEl.disabled = true;  // To prevent multiple clicks.\n",
              "      quickchartButtonEl.classList.add('colab-df-spinner');\n",
              "      try {\n",
              "        const charts = await google.colab.kernel.invokeFunction(\n",
              "            'suggestCharts', [key], {});\n",
              "      } catch (error) {\n",
              "        console.error('Error during call to suggestCharts:', error);\n",
              "      }\n",
              "      quickchartButtonEl.classList.remove('colab-df-spinner');\n",
              "      quickchartButtonEl.classList.add('colab-df-quickchart-complete');\n",
              "    }\n",
              "    (() => {\n",
              "      let quickchartButtonEl =\n",
              "        document.querySelector('#df-43758657-6667-4037-9804-5ff4f81ffc13 button');\n",
              "      quickchartButtonEl.style.display =\n",
              "        google.colab.kernel.accessAllowed ? 'block' : 'none';\n",
              "    })();\n",
              "  </script>\n",
              "</div>\n",
              "\n",
              "    </div>\n",
              "  </div>\n"
            ],
            "application/vnd.google.colaboratory.intrinsic+json": {
              "type": "dataframe",
              "summary": "{\n  \"name\": \"pelis[['titulo','genero','reparto','direccion']]\",\n  \"rows\": 5,\n  \"fields\": [\n    {\n      \"column\": \"titulo\",\n      \"properties\": {\n        \"dtype\": \"string\",\n        \"num_unique_values\": 5,\n        \"samples\": [\n          \"Las iguanas\",\n          \"Hacks\",\n          \"The Time Traveler's Wife\"\n        ],\n        \"semantic_type\": \"\",\n        \"description\": \"\"\n      }\n    },\n    {\n      \"column\": \"genero\",\n      \"properties\": {\n        \"dtype\": \"string\",\n        \"num_unique_values\": 5,\n        \"samples\": [\n          \"Serie de TV. Drama | Miniserie de TV. Abusos sexuales\",\n          \"Serie de TV. Comedia. Drama | Stand-Up\",\n          \"Serie de TV. Fant\\u00e1stico. Drama | Viajes en el tiempo\"\n        ],\n        \"semantic_type\": \"\",\n        \"description\": \"\"\n      }\n    },\n    {\n      \"column\": \"reparto\",\n      \"properties\": {\n        \"dtype\": \"string\",\n        \"num_unique_values\": 5,\n        \"samples\": [\n          \"Camilo Amores, Silvia Var\\u00f3n, Mario Espitia, Isabel Gaona, Rafael Zea, John Alexander Mora, Camila Valenzuela, Pilar Diaz Quesada, Diana Bola\\u00f1os, Edward Gomez\",\n          \"Jean Smart, Hannah Einbinder, Rose Abdoo, Hayes Beyersdorfer, Tanisha Harper, Josh Lopez, Ulysses Morazan, Rochelle Robinson, Jane Adams, Brittney Alger, Cassandra Blair, Olivia Boreham-Wing, Sean Patrick Bryan, Alexandre Chen, Andi Rene Christensen, Louis Herthum, Presley Schrader, Carl Clemons-Hopkins, Paul W. Downs, Mark Indelicato, Poppy Liu, Christopher McDonald, Kaitlin Olson, Alonzo Saunders, Johnny Sibillyver 12 m\\u00e1s\",\n          \"Rose Leslie, Theo James, Desmin Borges, Natasha Lopez, Jason David, Kate Siegel, Jaime Ray Newman, Taylor Richardson, Josh Stamberg, Spencer House, Chelsea Frei, Michael Park, Will Brill, Marcia DeBonis, Brian Altemus, Everleigh McDonell, Peter Graham, Finnerty Steeves, Tim Lajcikver 6 m\\u00e1s\"\n        ],\n        \"semantic_type\": \"\",\n        \"description\": \"\"\n      }\n    },\n    {\n      \"column\": \"direccion\",\n      \"properties\": {\n        \"dtype\": \"string\",\n        \"num_unique_values\": 5,\n        \"samples\": [\n          \"Frank Benitez Pe\\u00f1a\",\n          \"Lucia Aniello (Creador), Paul W. Downs (Creador), Jen Statsky (Creador), Lucia Aniello, Desiree Akhavan, Paul W. Downs\",\n          \"Steven Moffat (Creador), David Nutter\"\n        ],\n        \"semantic_type\": \"\",\n        \"description\": \"\"\n      }\n    }\n  ]\n}"
            }
          },
          "metadata": {},
          "execution_count": 151
        }
      ],
      "source": [
        "pelis = pd.read_csv('https://raw.githubusercontent.com/ignaciomsarmiento/RecomSystemsLectures/main/L06_basados_contenidos/data/pelis_recommend.csv', sep=',')\n",
        "pelis[['titulo','genero','reparto','direccion']].head()"
      ]
    },
    {
      "cell_type": "markdown",
      "metadata": {
        "id": "3o8K-ZO0HyUp"
      },
      "source": [
        "Podemos ver que potencialmente hay información valiosa, pero es necesario \"limpiar\" estos datos. En el caso de nombres necesitamos limpiarlos de forma tal que el vectorizador trate a dos individuos con el mismo primer nombre como individuos distintos; por ejemplo, Diego Peretti y Diego Cremonesi. El vectorizador tratará a ambos Diegos como sí fuesen el mismo individuo lo que puede afectar las recomendaciones.\n",
        "\n",
        "### Preparando los datos\n",
        "\n",
        "En esta sección limpiaremos los datos de manera levemente diferente a como lo hicimos en la sección anterior para mostrar que hay múltiples caminos y formas de hacer esta tarea, como así también la versatilidad de `Python`.\n",
        "\n",
        "Comencemos limpiando el género. Para ello primero remplazaremos las barras verticales pondremos todo en minúsculas y unificaremos términos, por ejemplo \"Serie de TV\" se volverá *seriedetv*."
      ]
    },
    {
      "cell_type": "code",
      "execution_count": 153,
      "metadata": {
        "colab": {
          "base_uri": "https://localhost:8080/",
          "height": 206
        },
        "id": "u2rTVtQuHyUp",
        "outputId": "8379f678-4ce9-44b4-f1be-e100b991c8fb"
      },
      "outputs": [
        {
          "output_type": "execute_result",
          "data": {
            "text/plain": [
              "                     titulo  \\\n",
              "0               Chapelwaite   \n",
              "1               Las iguanas   \n",
              "2  The Time Traveler's Wife   \n",
              "3           Sluga narodaaka   \n",
              "4                     Hacks   \n",
              "\n",
              "                                              genero  \\\n",
              "0                Serie de TV. Drama. Terror. Intriga   \n",
              "1  Serie de TV. Drama | Miniserie de TV. Abusos s...   \n",
              "2  Serie de TV. Fantástico. Drama | Viajes en el ...   \n",
              "3            Serie de TV. Comedia | Sátira. Política   \n",
              "4             Serie de TV. Comedia. Drama | Stand-Up   \n",
              "\n",
              "                                             reparto  \\\n",
              "0  Adrien Brody, Jennifer Ens, Sirena Gulamgaus, ...   \n",
              "1  Camilo Amores, Silvia Varón, Mario Espitia, Is...   \n",
              "2  Rose Leslie, Theo James, Desmin Borges, Natash...   \n",
              "3  Vladimir Zelenskiy, Vladyslav Dmytrenko, Boris...   \n",
              "4  Jean Smart, Hannah Einbinder, Rose Abdoo, Haye...   \n",
              "\n",
              "                                           direccion  \n",
              "0  Stephen King (Creador), Rachel Leiterman, Mich...  \n",
              "1                                 Frank Benitez Peña  \n",
              "2              Steven Moffat (Creador), David Nutter  \n",
              "3  Vladimir Zelenskiy (Creador), Aleksey Kiryushc...  \n",
              "4  Lucia Aniello (Creador), Paul W. Downs (Creado...  "
            ],
            "text/html": [
              "\n",
              "  <div id=\"df-477a0ccd-93a8-4cc4-9b7c-5f406fcf8e70\" class=\"colab-df-container\">\n",
              "    <div>\n",
              "<style scoped>\n",
              "    .dataframe tbody tr th:only-of-type {\n",
              "        vertical-align: middle;\n",
              "    }\n",
              "\n",
              "    .dataframe tbody tr th {\n",
              "        vertical-align: top;\n",
              "    }\n",
              "\n",
              "    .dataframe thead th {\n",
              "        text-align: right;\n",
              "    }\n",
              "</style>\n",
              "<table border=\"1\" class=\"dataframe\">\n",
              "  <thead>\n",
              "    <tr style=\"text-align: right;\">\n",
              "      <th></th>\n",
              "      <th>titulo</th>\n",
              "      <th>genero</th>\n",
              "      <th>reparto</th>\n",
              "      <th>direccion</th>\n",
              "    </tr>\n",
              "  </thead>\n",
              "  <tbody>\n",
              "    <tr>\n",
              "      <th>0</th>\n",
              "      <td>Chapelwaite</td>\n",
              "      <td>Serie de TV. Drama. Terror. Intriga</td>\n",
              "      <td>Adrien Brody, Jennifer Ens, Sirena Gulamgaus, ...</td>\n",
              "      <td>Stephen King (Creador), Rachel Leiterman, Mich...</td>\n",
              "    </tr>\n",
              "    <tr>\n",
              "      <th>1</th>\n",
              "      <td>Las iguanas</td>\n",
              "      <td>Serie de TV. Drama | Miniserie de TV. Abusos s...</td>\n",
              "      <td>Camilo Amores, Silvia Varón, Mario Espitia, Is...</td>\n",
              "      <td>Frank Benitez Peña</td>\n",
              "    </tr>\n",
              "    <tr>\n",
              "      <th>2</th>\n",
              "      <td>The Time Traveler's Wife</td>\n",
              "      <td>Serie de TV. Fantástico. Drama | Viajes en el ...</td>\n",
              "      <td>Rose Leslie, Theo James, Desmin Borges, Natash...</td>\n",
              "      <td>Steven Moffat (Creador), David Nutter</td>\n",
              "    </tr>\n",
              "    <tr>\n",
              "      <th>3</th>\n",
              "      <td>Sluga narodaaka</td>\n",
              "      <td>Serie de TV. Comedia | Sátira. Política</td>\n",
              "      <td>Vladimir Zelenskiy, Vladyslav Dmytrenko, Boris...</td>\n",
              "      <td>Vladimir Zelenskiy (Creador), Aleksey Kiryushc...</td>\n",
              "    </tr>\n",
              "    <tr>\n",
              "      <th>4</th>\n",
              "      <td>Hacks</td>\n",
              "      <td>Serie de TV. Comedia. Drama | Stand-Up</td>\n",
              "      <td>Jean Smart, Hannah Einbinder, Rose Abdoo, Haye...</td>\n",
              "      <td>Lucia Aniello (Creador), Paul W. Downs (Creado...</td>\n",
              "    </tr>\n",
              "  </tbody>\n",
              "</table>\n",
              "</div>\n",
              "    <div class=\"colab-df-buttons\">\n",
              "\n",
              "  <div class=\"colab-df-container\">\n",
              "    <button class=\"colab-df-convert\" onclick=\"convertToInteractive('df-477a0ccd-93a8-4cc4-9b7c-5f406fcf8e70')\"\n",
              "            title=\"Convert this dataframe to an interactive table.\"\n",
              "            style=\"display:none;\">\n",
              "\n",
              "  <svg xmlns=\"http://www.w3.org/2000/svg\" height=\"24px\" viewBox=\"0 -960 960 960\">\n",
              "    <path d=\"M120-120v-720h720v720H120Zm60-500h600v-160H180v160Zm220 220h160v-160H400v160Zm0 220h160v-160H400v160ZM180-400h160v-160H180v160Zm440 0h160v-160H620v160ZM180-180h160v-160H180v160Zm440 0h160v-160H620v160Z\"/>\n",
              "  </svg>\n",
              "    </button>\n",
              "\n",
              "  <style>\n",
              "    .colab-df-container {\n",
              "      display:flex;\n",
              "      gap: 12px;\n",
              "    }\n",
              "\n",
              "    .colab-df-convert {\n",
              "      background-color: #E8F0FE;\n",
              "      border: none;\n",
              "      border-radius: 50%;\n",
              "      cursor: pointer;\n",
              "      display: none;\n",
              "      fill: #1967D2;\n",
              "      height: 32px;\n",
              "      padding: 0 0 0 0;\n",
              "      width: 32px;\n",
              "    }\n",
              "\n",
              "    .colab-df-convert:hover {\n",
              "      background-color: #E2EBFA;\n",
              "      box-shadow: 0px 1px 2px rgba(60, 64, 67, 0.3), 0px 1px 3px 1px rgba(60, 64, 67, 0.15);\n",
              "      fill: #174EA6;\n",
              "    }\n",
              "\n",
              "    .colab-df-buttons div {\n",
              "      margin-bottom: 4px;\n",
              "    }\n",
              "\n",
              "    [theme=dark] .colab-df-convert {\n",
              "      background-color: #3B4455;\n",
              "      fill: #D2E3FC;\n",
              "    }\n",
              "\n",
              "    [theme=dark] .colab-df-convert:hover {\n",
              "      background-color: #434B5C;\n",
              "      box-shadow: 0px 1px 3px 1px rgba(0, 0, 0, 0.15);\n",
              "      filter: drop-shadow(0px 1px 2px rgba(0, 0, 0, 0.3));\n",
              "      fill: #FFFFFF;\n",
              "    }\n",
              "  </style>\n",
              "\n",
              "    <script>\n",
              "      const buttonEl =\n",
              "        document.querySelector('#df-477a0ccd-93a8-4cc4-9b7c-5f406fcf8e70 button.colab-df-convert');\n",
              "      buttonEl.style.display =\n",
              "        google.colab.kernel.accessAllowed ? 'block' : 'none';\n",
              "\n",
              "      async function convertToInteractive(key) {\n",
              "        const element = document.querySelector('#df-477a0ccd-93a8-4cc4-9b7c-5f406fcf8e70');\n",
              "        const dataTable =\n",
              "          await google.colab.kernel.invokeFunction('convertToInteractive',\n",
              "                                                    [key], {});\n",
              "        if (!dataTable) return;\n",
              "\n",
              "        const docLinkHtml = 'Like what you see? Visit the ' +\n",
              "          '<a target=\"_blank\" href=https://colab.research.google.com/notebooks/data_table.ipynb>data table notebook</a>'\n",
              "          + ' to learn more about interactive tables.';\n",
              "        element.innerHTML = '';\n",
              "        dataTable['output_type'] = 'display_data';\n",
              "        await google.colab.output.renderOutput(dataTable, element);\n",
              "        const docLink = document.createElement('div');\n",
              "        docLink.innerHTML = docLinkHtml;\n",
              "        element.appendChild(docLink);\n",
              "      }\n",
              "    </script>\n",
              "  </div>\n",
              "\n",
              "\n",
              "<div id=\"df-81b84802-0b39-4cfa-8adb-528a308c7884\">\n",
              "  <button class=\"colab-df-quickchart\" onclick=\"quickchart('df-81b84802-0b39-4cfa-8adb-528a308c7884')\"\n",
              "            title=\"Suggest charts\"\n",
              "            style=\"display:none;\">\n",
              "\n",
              "<svg xmlns=\"http://www.w3.org/2000/svg\" height=\"24px\"viewBox=\"0 0 24 24\"\n",
              "     width=\"24px\">\n",
              "    <g>\n",
              "        <path d=\"M19 3H5c-1.1 0-2 .9-2 2v14c0 1.1.9 2 2 2h14c1.1 0 2-.9 2-2V5c0-1.1-.9-2-2-2zM9 17H7v-7h2v7zm4 0h-2V7h2v10zm4 0h-2v-4h2v4z\"/>\n",
              "    </g>\n",
              "</svg>\n",
              "  </button>\n",
              "\n",
              "<style>\n",
              "  .colab-df-quickchart {\n",
              "      --bg-color: #E8F0FE;\n",
              "      --fill-color: #1967D2;\n",
              "      --hover-bg-color: #E2EBFA;\n",
              "      --hover-fill-color: #174EA6;\n",
              "      --disabled-fill-color: #AAA;\n",
              "      --disabled-bg-color: #DDD;\n",
              "  }\n",
              "\n",
              "  [theme=dark] .colab-df-quickchart {\n",
              "      --bg-color: #3B4455;\n",
              "      --fill-color: #D2E3FC;\n",
              "      --hover-bg-color: #434B5C;\n",
              "      --hover-fill-color: #FFFFFF;\n",
              "      --disabled-bg-color: #3B4455;\n",
              "      --disabled-fill-color: #666;\n",
              "  }\n",
              "\n",
              "  .colab-df-quickchart {\n",
              "    background-color: var(--bg-color);\n",
              "    border: none;\n",
              "    border-radius: 50%;\n",
              "    cursor: pointer;\n",
              "    display: none;\n",
              "    fill: var(--fill-color);\n",
              "    height: 32px;\n",
              "    padding: 0;\n",
              "    width: 32px;\n",
              "  }\n",
              "\n",
              "  .colab-df-quickchart:hover {\n",
              "    background-color: var(--hover-bg-color);\n",
              "    box-shadow: 0 1px 2px rgba(60, 64, 67, 0.3), 0 1px 3px 1px rgba(60, 64, 67, 0.15);\n",
              "    fill: var(--button-hover-fill-color);\n",
              "  }\n",
              "\n",
              "  .colab-df-quickchart-complete:disabled,\n",
              "  .colab-df-quickchart-complete:disabled:hover {\n",
              "    background-color: var(--disabled-bg-color);\n",
              "    fill: var(--disabled-fill-color);\n",
              "    box-shadow: none;\n",
              "  }\n",
              "\n",
              "  .colab-df-spinner {\n",
              "    border: 2px solid var(--fill-color);\n",
              "    border-color: transparent;\n",
              "    border-bottom-color: var(--fill-color);\n",
              "    animation:\n",
              "      spin 1s steps(1) infinite;\n",
              "  }\n",
              "\n",
              "  @keyframes spin {\n",
              "    0% {\n",
              "      border-color: transparent;\n",
              "      border-bottom-color: var(--fill-color);\n",
              "      border-left-color: var(--fill-color);\n",
              "    }\n",
              "    20% {\n",
              "      border-color: transparent;\n",
              "      border-left-color: var(--fill-color);\n",
              "      border-top-color: var(--fill-color);\n",
              "    }\n",
              "    30% {\n",
              "      border-color: transparent;\n",
              "      border-left-color: var(--fill-color);\n",
              "      border-top-color: var(--fill-color);\n",
              "      border-right-color: var(--fill-color);\n",
              "    }\n",
              "    40% {\n",
              "      border-color: transparent;\n",
              "      border-right-color: var(--fill-color);\n",
              "      border-top-color: var(--fill-color);\n",
              "    }\n",
              "    60% {\n",
              "      border-color: transparent;\n",
              "      border-right-color: var(--fill-color);\n",
              "    }\n",
              "    80% {\n",
              "      border-color: transparent;\n",
              "      border-right-color: var(--fill-color);\n",
              "      border-bottom-color: var(--fill-color);\n",
              "    }\n",
              "    90% {\n",
              "      border-color: transparent;\n",
              "      border-bottom-color: var(--fill-color);\n",
              "    }\n",
              "  }\n",
              "</style>\n",
              "\n",
              "  <script>\n",
              "    async function quickchart(key) {\n",
              "      const quickchartButtonEl =\n",
              "        document.querySelector('#' + key + ' button');\n",
              "      quickchartButtonEl.disabled = true;  // To prevent multiple clicks.\n",
              "      quickchartButtonEl.classList.add('colab-df-spinner');\n",
              "      try {\n",
              "        const charts = await google.colab.kernel.invokeFunction(\n",
              "            'suggestCharts', [key], {});\n",
              "      } catch (error) {\n",
              "        console.error('Error during call to suggestCharts:', error);\n",
              "      }\n",
              "      quickchartButtonEl.classList.remove('colab-df-spinner');\n",
              "      quickchartButtonEl.classList.add('colab-df-quickchart-complete');\n",
              "    }\n",
              "    (() => {\n",
              "      let quickchartButtonEl =\n",
              "        document.querySelector('#df-81b84802-0b39-4cfa-8adb-528a308c7884 button');\n",
              "      quickchartButtonEl.style.display =\n",
              "        google.colab.kernel.accessAllowed ? 'block' : 'none';\n",
              "    })();\n",
              "  </script>\n",
              "</div>\n",
              "\n",
              "    </div>\n",
              "  </div>\n"
            ],
            "application/vnd.google.colaboratory.intrinsic+json": {
              "type": "dataframe",
              "summary": "{\n  \"name\": \"pelis[['titulo','genero','reparto','direccion']]\",\n  \"rows\": 5,\n  \"fields\": [\n    {\n      \"column\": \"titulo\",\n      \"properties\": {\n        \"dtype\": \"string\",\n        \"num_unique_values\": 5,\n        \"samples\": [\n          \"Las iguanas\",\n          \"Hacks\",\n          \"The Time Traveler's Wife\"\n        ],\n        \"semantic_type\": \"\",\n        \"description\": \"\"\n      }\n    },\n    {\n      \"column\": \"genero\",\n      \"properties\": {\n        \"dtype\": \"string\",\n        \"num_unique_values\": 5,\n        \"samples\": [\n          \"Serie de TV. Drama | Miniserie de TV. Abusos sexuales\",\n          \"Serie de TV. Comedia. Drama | Stand-Up\",\n          \"Serie de TV. Fant\\u00e1stico. Drama | Viajes en el tiempo\"\n        ],\n        \"semantic_type\": \"\",\n        \"description\": \"\"\n      }\n    },\n    {\n      \"column\": \"reparto\",\n      \"properties\": {\n        \"dtype\": \"string\",\n        \"num_unique_values\": 5,\n        \"samples\": [\n          \"Camilo Amores, Silvia Var\\u00f3n, Mario Espitia, Isabel Gaona, Rafael Zea, John Alexander Mora, Camila Valenzuela, Pilar Diaz Quesada, Diana Bola\\u00f1os, Edward Gomez\",\n          \"Jean Smart, Hannah Einbinder, Rose Abdoo, Hayes Beyersdorfer, Tanisha Harper, Josh Lopez, Ulysses Morazan, Rochelle Robinson, Jane Adams, Brittney Alger, Cassandra Blair, Olivia Boreham-Wing, Sean Patrick Bryan, Alexandre Chen, Andi Rene Christensen, Louis Herthum, Presley Schrader, Carl Clemons-Hopkins, Paul W. Downs, Mark Indelicato, Poppy Liu, Christopher McDonald, Kaitlin Olson, Alonzo Saunders, Johnny Sibillyver 12 m\\u00e1s\",\n          \"Rose Leslie, Theo James, Desmin Borges, Natasha Lopez, Jason David, Kate Siegel, Jaime Ray Newman, Taylor Richardson, Josh Stamberg, Spencer House, Chelsea Frei, Michael Park, Will Brill, Marcia DeBonis, Brian Altemus, Everleigh McDonell, Peter Graham, Finnerty Steeves, Tim Lajcikver 6 m\\u00e1s\"\n        ],\n        \"semantic_type\": \"\",\n        \"description\": \"\"\n      }\n    },\n    {\n      \"column\": \"direccion\",\n      \"properties\": {\n        \"dtype\": \"string\",\n        \"num_unique_values\": 5,\n        \"samples\": [\n          \"Frank Benitez Pe\\u00f1a\",\n          \"Lucia Aniello (Creador), Paul W. Downs (Creador), Jen Statsky (Creador), Lucia Aniello, Desiree Akhavan, Paul W. Downs\",\n          \"Steven Moffat (Creador), David Nutter\"\n        ],\n        \"semantic_type\": \"\",\n        \"description\": \"\"\n      }\n    }\n  ]\n}"
            }
          },
          "metadata": {},
          "execution_count": 153
        }
      ],
      "source": [
        "#Remplazamos barras verticales por puntos\n",
        "pelis['genero']=pelis['genero'].str.replace(\"|\",\"\",regex=True) #tarea para el hogar\n",
        "pelis[['titulo','genero','reparto','direccion']].head()"
      ]
    },
    {
      "cell_type": "code",
      "source": [
        "#Creamos una lista de términos delimitados por puntos\n",
        "pelis['genero']=pelis['genero'].str.split(\".\")\n",
        "pelis[['titulo','genero','reparto','direccion']].head()"
      ],
      "metadata": {
        "colab": {
          "base_uri": "https://localhost:8080/",
          "height": 206
        },
        "id": "YFIHTjAe5mMa",
        "outputId": "64321977-5de0-49b0-bb1c-8dcafeb05f67"
      },
      "execution_count": 154,
      "outputs": [
        {
          "output_type": "execute_result",
          "data": {
            "text/plain": [
              "                     titulo  \\\n",
              "0               Chapelwaite   \n",
              "1               Las iguanas   \n",
              "2  The Time Traveler's Wife   \n",
              "3           Sluga narodaaka   \n",
              "4                     Hacks   \n",
              "\n",
              "                                              genero  \\\n",
              "0           [Serie de TV,  Drama,  Terror,  Intriga]   \n",
              "1  [Serie de TV,  Drama | Miniserie de TV,  Abuso...   \n",
              "2  [Serie de TV,  Fantástico,  Drama | Viajes en ...   \n",
              "3        [Serie de TV,  Comedia | Sátira,  Política]   \n",
              "4         [Serie de TV,  Comedia,  Drama | Stand-Up]   \n",
              "\n",
              "                                             reparto  \\\n",
              "0  Adrien Brody, Jennifer Ens, Sirena Gulamgaus, ...   \n",
              "1  Camilo Amores, Silvia Varón, Mario Espitia, Is...   \n",
              "2  Rose Leslie, Theo James, Desmin Borges, Natash...   \n",
              "3  Vladimir Zelenskiy, Vladyslav Dmytrenko, Boris...   \n",
              "4  Jean Smart, Hannah Einbinder, Rose Abdoo, Haye...   \n",
              "\n",
              "                                           direccion  \n",
              "0  Stephen King (Creador), Rachel Leiterman, Mich...  \n",
              "1                                 Frank Benitez Peña  \n",
              "2              Steven Moffat (Creador), David Nutter  \n",
              "3  Vladimir Zelenskiy (Creador), Aleksey Kiryushc...  \n",
              "4  Lucia Aniello (Creador), Paul W. Downs (Creado...  "
            ],
            "text/html": [
              "\n",
              "  <div id=\"df-bef763c2-ca0c-4716-b356-5af22554729b\" class=\"colab-df-container\">\n",
              "    <div>\n",
              "<style scoped>\n",
              "    .dataframe tbody tr th:only-of-type {\n",
              "        vertical-align: middle;\n",
              "    }\n",
              "\n",
              "    .dataframe tbody tr th {\n",
              "        vertical-align: top;\n",
              "    }\n",
              "\n",
              "    .dataframe thead th {\n",
              "        text-align: right;\n",
              "    }\n",
              "</style>\n",
              "<table border=\"1\" class=\"dataframe\">\n",
              "  <thead>\n",
              "    <tr style=\"text-align: right;\">\n",
              "      <th></th>\n",
              "      <th>titulo</th>\n",
              "      <th>genero</th>\n",
              "      <th>reparto</th>\n",
              "      <th>direccion</th>\n",
              "    </tr>\n",
              "  </thead>\n",
              "  <tbody>\n",
              "    <tr>\n",
              "      <th>0</th>\n",
              "      <td>Chapelwaite</td>\n",
              "      <td>[Serie de TV,  Drama,  Terror,  Intriga]</td>\n",
              "      <td>Adrien Brody, Jennifer Ens, Sirena Gulamgaus, ...</td>\n",
              "      <td>Stephen King (Creador), Rachel Leiterman, Mich...</td>\n",
              "    </tr>\n",
              "    <tr>\n",
              "      <th>1</th>\n",
              "      <td>Las iguanas</td>\n",
              "      <td>[Serie de TV,  Drama | Miniserie de TV,  Abuso...</td>\n",
              "      <td>Camilo Amores, Silvia Varón, Mario Espitia, Is...</td>\n",
              "      <td>Frank Benitez Peña</td>\n",
              "    </tr>\n",
              "    <tr>\n",
              "      <th>2</th>\n",
              "      <td>The Time Traveler's Wife</td>\n",
              "      <td>[Serie de TV,  Fantástico,  Drama | Viajes en ...</td>\n",
              "      <td>Rose Leslie, Theo James, Desmin Borges, Natash...</td>\n",
              "      <td>Steven Moffat (Creador), David Nutter</td>\n",
              "    </tr>\n",
              "    <tr>\n",
              "      <th>3</th>\n",
              "      <td>Sluga narodaaka</td>\n",
              "      <td>[Serie de TV,  Comedia | Sátira,  Política]</td>\n",
              "      <td>Vladimir Zelenskiy, Vladyslav Dmytrenko, Boris...</td>\n",
              "      <td>Vladimir Zelenskiy (Creador), Aleksey Kiryushc...</td>\n",
              "    </tr>\n",
              "    <tr>\n",
              "      <th>4</th>\n",
              "      <td>Hacks</td>\n",
              "      <td>[Serie de TV,  Comedia,  Drama | Stand-Up]</td>\n",
              "      <td>Jean Smart, Hannah Einbinder, Rose Abdoo, Haye...</td>\n",
              "      <td>Lucia Aniello (Creador), Paul W. Downs (Creado...</td>\n",
              "    </tr>\n",
              "  </tbody>\n",
              "</table>\n",
              "</div>\n",
              "    <div class=\"colab-df-buttons\">\n",
              "\n",
              "  <div class=\"colab-df-container\">\n",
              "    <button class=\"colab-df-convert\" onclick=\"convertToInteractive('df-bef763c2-ca0c-4716-b356-5af22554729b')\"\n",
              "            title=\"Convert this dataframe to an interactive table.\"\n",
              "            style=\"display:none;\">\n",
              "\n",
              "  <svg xmlns=\"http://www.w3.org/2000/svg\" height=\"24px\" viewBox=\"0 -960 960 960\">\n",
              "    <path d=\"M120-120v-720h720v720H120Zm60-500h600v-160H180v160Zm220 220h160v-160H400v160Zm0 220h160v-160H400v160ZM180-400h160v-160H180v160Zm440 0h160v-160H620v160ZM180-180h160v-160H180v160Zm440 0h160v-160H620v160Z\"/>\n",
              "  </svg>\n",
              "    </button>\n",
              "\n",
              "  <style>\n",
              "    .colab-df-container {\n",
              "      display:flex;\n",
              "      gap: 12px;\n",
              "    }\n",
              "\n",
              "    .colab-df-convert {\n",
              "      background-color: #E8F0FE;\n",
              "      border: none;\n",
              "      border-radius: 50%;\n",
              "      cursor: pointer;\n",
              "      display: none;\n",
              "      fill: #1967D2;\n",
              "      height: 32px;\n",
              "      padding: 0 0 0 0;\n",
              "      width: 32px;\n",
              "    }\n",
              "\n",
              "    .colab-df-convert:hover {\n",
              "      background-color: #E2EBFA;\n",
              "      box-shadow: 0px 1px 2px rgba(60, 64, 67, 0.3), 0px 1px 3px 1px rgba(60, 64, 67, 0.15);\n",
              "      fill: #174EA6;\n",
              "    }\n",
              "\n",
              "    .colab-df-buttons div {\n",
              "      margin-bottom: 4px;\n",
              "    }\n",
              "\n",
              "    [theme=dark] .colab-df-convert {\n",
              "      background-color: #3B4455;\n",
              "      fill: #D2E3FC;\n",
              "    }\n",
              "\n",
              "    [theme=dark] .colab-df-convert:hover {\n",
              "      background-color: #434B5C;\n",
              "      box-shadow: 0px 1px 3px 1px rgba(0, 0, 0, 0.15);\n",
              "      filter: drop-shadow(0px 1px 2px rgba(0, 0, 0, 0.3));\n",
              "      fill: #FFFFFF;\n",
              "    }\n",
              "  </style>\n",
              "\n",
              "    <script>\n",
              "      const buttonEl =\n",
              "        document.querySelector('#df-bef763c2-ca0c-4716-b356-5af22554729b button.colab-df-convert');\n",
              "      buttonEl.style.display =\n",
              "        google.colab.kernel.accessAllowed ? 'block' : 'none';\n",
              "\n",
              "      async function convertToInteractive(key) {\n",
              "        const element = document.querySelector('#df-bef763c2-ca0c-4716-b356-5af22554729b');\n",
              "        const dataTable =\n",
              "          await google.colab.kernel.invokeFunction('convertToInteractive',\n",
              "                                                    [key], {});\n",
              "        if (!dataTable) return;\n",
              "\n",
              "        const docLinkHtml = 'Like what you see? Visit the ' +\n",
              "          '<a target=\"_blank\" href=https://colab.research.google.com/notebooks/data_table.ipynb>data table notebook</a>'\n",
              "          + ' to learn more about interactive tables.';\n",
              "        element.innerHTML = '';\n",
              "        dataTable['output_type'] = 'display_data';\n",
              "        await google.colab.output.renderOutput(dataTable, element);\n",
              "        const docLink = document.createElement('div');\n",
              "        docLink.innerHTML = docLinkHtml;\n",
              "        element.appendChild(docLink);\n",
              "      }\n",
              "    </script>\n",
              "  </div>\n",
              "\n",
              "\n",
              "<div id=\"df-8fae379e-9473-48bf-88fa-c5f7981b6960\">\n",
              "  <button class=\"colab-df-quickchart\" onclick=\"quickchart('df-8fae379e-9473-48bf-88fa-c5f7981b6960')\"\n",
              "            title=\"Suggest charts\"\n",
              "            style=\"display:none;\">\n",
              "\n",
              "<svg xmlns=\"http://www.w3.org/2000/svg\" height=\"24px\"viewBox=\"0 0 24 24\"\n",
              "     width=\"24px\">\n",
              "    <g>\n",
              "        <path d=\"M19 3H5c-1.1 0-2 .9-2 2v14c0 1.1.9 2 2 2h14c1.1 0 2-.9 2-2V5c0-1.1-.9-2-2-2zM9 17H7v-7h2v7zm4 0h-2V7h2v10zm4 0h-2v-4h2v4z\"/>\n",
              "    </g>\n",
              "</svg>\n",
              "  </button>\n",
              "\n",
              "<style>\n",
              "  .colab-df-quickchart {\n",
              "      --bg-color: #E8F0FE;\n",
              "      --fill-color: #1967D2;\n",
              "      --hover-bg-color: #E2EBFA;\n",
              "      --hover-fill-color: #174EA6;\n",
              "      --disabled-fill-color: #AAA;\n",
              "      --disabled-bg-color: #DDD;\n",
              "  }\n",
              "\n",
              "  [theme=dark] .colab-df-quickchart {\n",
              "      --bg-color: #3B4455;\n",
              "      --fill-color: #D2E3FC;\n",
              "      --hover-bg-color: #434B5C;\n",
              "      --hover-fill-color: #FFFFFF;\n",
              "      --disabled-bg-color: #3B4455;\n",
              "      --disabled-fill-color: #666;\n",
              "  }\n",
              "\n",
              "  .colab-df-quickchart {\n",
              "    background-color: var(--bg-color);\n",
              "    border: none;\n",
              "    border-radius: 50%;\n",
              "    cursor: pointer;\n",
              "    display: none;\n",
              "    fill: var(--fill-color);\n",
              "    height: 32px;\n",
              "    padding: 0;\n",
              "    width: 32px;\n",
              "  }\n",
              "\n",
              "  .colab-df-quickchart:hover {\n",
              "    background-color: var(--hover-bg-color);\n",
              "    box-shadow: 0 1px 2px rgba(60, 64, 67, 0.3), 0 1px 3px 1px rgba(60, 64, 67, 0.15);\n",
              "    fill: var(--button-hover-fill-color);\n",
              "  }\n",
              "\n",
              "  .colab-df-quickchart-complete:disabled,\n",
              "  .colab-df-quickchart-complete:disabled:hover {\n",
              "    background-color: var(--disabled-bg-color);\n",
              "    fill: var(--disabled-fill-color);\n",
              "    box-shadow: none;\n",
              "  }\n",
              "\n",
              "  .colab-df-spinner {\n",
              "    border: 2px solid var(--fill-color);\n",
              "    border-color: transparent;\n",
              "    border-bottom-color: var(--fill-color);\n",
              "    animation:\n",
              "      spin 1s steps(1) infinite;\n",
              "  }\n",
              "\n",
              "  @keyframes spin {\n",
              "    0% {\n",
              "      border-color: transparent;\n",
              "      border-bottom-color: var(--fill-color);\n",
              "      border-left-color: var(--fill-color);\n",
              "    }\n",
              "    20% {\n",
              "      border-color: transparent;\n",
              "      border-left-color: var(--fill-color);\n",
              "      border-top-color: var(--fill-color);\n",
              "    }\n",
              "    30% {\n",
              "      border-color: transparent;\n",
              "      border-left-color: var(--fill-color);\n",
              "      border-top-color: var(--fill-color);\n",
              "      border-right-color: var(--fill-color);\n",
              "    }\n",
              "    40% {\n",
              "      border-color: transparent;\n",
              "      border-right-color: var(--fill-color);\n",
              "      border-top-color: var(--fill-color);\n",
              "    }\n",
              "    60% {\n",
              "      border-color: transparent;\n",
              "      border-right-color: var(--fill-color);\n",
              "    }\n",
              "    80% {\n",
              "      border-color: transparent;\n",
              "      border-right-color: var(--fill-color);\n",
              "      border-bottom-color: var(--fill-color);\n",
              "    }\n",
              "    90% {\n",
              "      border-color: transparent;\n",
              "      border-bottom-color: var(--fill-color);\n",
              "    }\n",
              "  }\n",
              "</style>\n",
              "\n",
              "  <script>\n",
              "    async function quickchart(key) {\n",
              "      const quickchartButtonEl =\n",
              "        document.querySelector('#' + key + ' button');\n",
              "      quickchartButtonEl.disabled = true;  // To prevent multiple clicks.\n",
              "      quickchartButtonEl.classList.add('colab-df-spinner');\n",
              "      try {\n",
              "        const charts = await google.colab.kernel.invokeFunction(\n",
              "            'suggestCharts', [key], {});\n",
              "      } catch (error) {\n",
              "        console.error('Error during call to suggestCharts:', error);\n",
              "      }\n",
              "      quickchartButtonEl.classList.remove('colab-df-spinner');\n",
              "      quickchartButtonEl.classList.add('colab-df-quickchart-complete');\n",
              "    }\n",
              "    (() => {\n",
              "      let quickchartButtonEl =\n",
              "        document.querySelector('#df-8fae379e-9473-48bf-88fa-c5f7981b6960 button');\n",
              "      quickchartButtonEl.style.display =\n",
              "        google.colab.kernel.accessAllowed ? 'block' : 'none';\n",
              "    })();\n",
              "  </script>\n",
              "</div>\n",
              "\n",
              "    </div>\n",
              "  </div>\n"
            ],
            "application/vnd.google.colaboratory.intrinsic+json": {
              "type": "dataframe",
              "summary": "{\n  \"name\": \"pelis[['titulo','genero','reparto','direccion']]\",\n  \"rows\": 5,\n  \"fields\": [\n    {\n      \"column\": \"titulo\",\n      \"properties\": {\n        \"dtype\": \"string\",\n        \"num_unique_values\": 5,\n        \"samples\": [\n          \"Las iguanas\",\n          \"Hacks\",\n          \"The Time Traveler's Wife\"\n        ],\n        \"semantic_type\": \"\",\n        \"description\": \"\"\n      }\n    },\n    {\n      \"column\": \"genero\",\n      \"properties\": {\n        \"dtype\": \"object\",\n        \"semantic_type\": \"\",\n        \"description\": \"\"\n      }\n    },\n    {\n      \"column\": \"reparto\",\n      \"properties\": {\n        \"dtype\": \"string\",\n        \"num_unique_values\": 5,\n        \"samples\": [\n          \"Camilo Amores, Silvia Var\\u00f3n, Mario Espitia, Isabel Gaona, Rafael Zea, John Alexander Mora, Camila Valenzuela, Pilar Diaz Quesada, Diana Bola\\u00f1os, Edward Gomez\",\n          \"Jean Smart, Hannah Einbinder, Rose Abdoo, Hayes Beyersdorfer, Tanisha Harper, Josh Lopez, Ulysses Morazan, Rochelle Robinson, Jane Adams, Brittney Alger, Cassandra Blair, Olivia Boreham-Wing, Sean Patrick Bryan, Alexandre Chen, Andi Rene Christensen, Louis Herthum, Presley Schrader, Carl Clemons-Hopkins, Paul W. Downs, Mark Indelicato, Poppy Liu, Christopher McDonald, Kaitlin Olson, Alonzo Saunders, Johnny Sibillyver 12 m\\u00e1s\",\n          \"Rose Leslie, Theo James, Desmin Borges, Natasha Lopez, Jason David, Kate Siegel, Jaime Ray Newman, Taylor Richardson, Josh Stamberg, Spencer House, Chelsea Frei, Michael Park, Will Brill, Marcia DeBonis, Brian Altemus, Everleigh McDonell, Peter Graham, Finnerty Steeves, Tim Lajcikver 6 m\\u00e1s\"\n        ],\n        \"semantic_type\": \"\",\n        \"description\": \"\"\n      }\n    },\n    {\n      \"column\": \"direccion\",\n      \"properties\": {\n        \"dtype\": \"string\",\n        \"num_unique_values\": 5,\n        \"samples\": [\n          \"Frank Benitez Pe\\u00f1a\",\n          \"Lucia Aniello (Creador), Paul W. Downs (Creador), Jen Statsky (Creador), Lucia Aniello, Desiree Akhavan, Paul W. Downs\",\n          \"Steven Moffat (Creador), David Nutter\"\n        ],\n        \"semantic_type\": \"\",\n        \"description\": \"\"\n      }\n    }\n  ]\n}"
            }
          },
          "metadata": {},
          "execution_count": 154
        }
      ]
    },
    {
      "cell_type": "markdown",
      "metadata": {
        "id": "BTsGKe7eHyUp"
      },
      "source": [
        "Con los géneros en una lista crearemos una función limpiadora que nos permitirá normalizar el texto en español, remover espacios en blanco, y poner todo en minúscula:"
      ]
    },
    {
      "cell_type": "code",
      "execution_count": null,
      "metadata": {
        "id": "HHcMm72RHyUp"
      },
      "outputs": [],
      "source": [
        "# Cargamos la librerías a utilizar para normalizar el texto en español\n",
        "#import unidecode\n",
        "\n",
        "#Definimos nuestra función\n",
        "def limpiadora(x):\n",
        "    if isinstance(x, list):\n",
        "        #para listas\n",
        "        return [unidecode.unidecode(str.lower(i.replace(\" \", \"\"))) for i in x]\n",
        "    else:\n",
        "        #para strings\n",
        "        if isinstance(x, str):\n",
        "            return unidecode.unidecode(str.lower(x.replace(\" \", \"\")))\n",
        "        else:\n",
        "            return ''"
      ]
    },
    {
      "cell_type": "code",
      "execution_count": null,
      "metadata": {
        "id": "4BoTKWvfHyUq"
      },
      "outputs": [],
      "source": [
        "pelis['genero']=pelis['genero'].apply(limpiadora)\n",
        "#Retenemos sólo los primeros tres generos mencionados\n",
        "pelis['genero'] =pelis['genero'].apply(lambda x: x[:3])\n",
        "pelis[['titulo','genero']].head()"
      ]
    },
    {
      "cell_type": "markdown",
      "metadata": {
        "id": "QnYiP07rHyUq"
      },
      "source": [
        "tenemos entonces \"limpia\" la columna de género. Procedemos de manera similar con el reparto, pero además en este ejercicio sólo nos quedaremos con los 4 actores principales"
      ]
    },
    {
      "cell_type": "code",
      "execution_count": null,
      "metadata": {
        "id": "KBRaVLPVHyUq"
      },
      "outputs": [],
      "source": [
        "#Creamos una lista de actores delimitados por puntos\n",
        "pelis['reparto']=pelis['reparto'].str.split(\",\")\n",
        "#\"Limpiamos\" los datos del reparto\n",
        "pelis['reparto']=pelis['reparto'].apply(limpiadora)\n",
        "#Retenemos sólo los primeros cuatro actores mencionados\n",
        "pelis['reparto'] =pelis['reparto'].apply(lambda x: x[:4])\n",
        "pelis[['titulo','genero','reparto','direccion']].head()"
      ]
    },
    {
      "cell_type": "markdown",
      "metadata": {
        "id": "V1aa4ldXHyUq"
      },
      "source": [
        "Finalmente nos queda la función de dirección. Notemos que aparece entre paréntesis la palabra creador al lado del director que también fue el creador. Utilizaremos entonces primero expresiones regulares para quitar esta palabra con los paréntesis y luego procederemos de manera similar a como lo hicimos anteriormente. Respecto al director solamente nos quedaremos con el individuo que aparece primero."
      ]
    },
    {
      "cell_type": "code",
      "execution_count": null,
      "metadata": {
        "id": "txlIAabnHyUq"
      },
      "outputs": [],
      "source": [
        "#Removemos \"(Creador)\"\n",
        "pelis['direccion']=pelis['direccion'].str.replace(\"\\\\(Creador\\\\)\",\"\",regex=True)\n",
        "#Creamos una lista de actores delimitados por puntos\n",
        "pelis['direccion']=pelis['direccion'].str.split(\",\")\n",
        "#\"Limpiamos\" los datos de direccion\n",
        "pelis['direccion']=pelis['direccion'].apply(limpiadora)\n",
        "#Retenemos sólo el primer director\n",
        "pelis['direccion'] =pelis['direccion'].apply(lambda x: x[:1])\n",
        "pelis[['titulo','direccion']].head()"
      ]
    },
    {
      "cell_type": "markdown",
      "metadata": {
        "id": "ZuuG34BhHyUr"
      },
      "source": [
        "Con estos datos entonces estamos en condiciones de generar una columna que combine toda esta información. Para ello crearemos una función que concatene estos caracteres:"
      ]
    },
    {
      "cell_type": "code",
      "execution_count": null,
      "metadata": {
        "id": "UYtAFAdlHyUr"
      },
      "outputs": [],
      "source": [
        "def crear_metadatos(x):\n",
        "        return ' '.join(x['genero']) + ' ' + ' '.join(x['reparto']) + ' ' + ''.join(x['direccion'] )"
      ]
    },
    {
      "cell_type": "markdown",
      "metadata": {
        "id": "nM1nUNDbHyUr"
      },
      "source": [
        "Aplicamos esta función a todas las filas creando la columna `metadato`:"
      ]
    },
    {
      "cell_type": "code",
      "execution_count": null,
      "metadata": {
        "id": "OAPZoc4THyUr"
      },
      "outputs": [],
      "source": [
        "pelis['metadatos'] = pelis.apply(crear_metadatos, axis=1)"
      ]
    },
    {
      "cell_type": "markdown",
      "metadata": {
        "id": "En6CcIsnHyUr"
      },
      "source": [
        "Veamos como luce la primer entrada:"
      ]
    },
    {
      "cell_type": "code",
      "execution_count": null,
      "metadata": {
        "id": "NyBdwA_HHyUr"
      },
      "outputs": [],
      "source": [
        "pelis.iloc[0]['metadatos']"
      ]
    },
    {
      "cell_type": "markdown",
      "metadata": {
        "id": "wdD4py-YHyUs"
      },
      "source": [
        "Tenemos entonces un vector que combina toda la información de las columnas: Chapelwaite es una serie de tv, drama, terror e intriga con las actuaciones de Adrien Brody, Jennifer Ens, Sirena Gulamgaus y Emily Hampshire, dirigida por Stephen King.\n",
        "\n",
        "### Generando recomendaciones\n",
        "\n",
        "Procederemos entonces de manera similar a la sección anterior. A diferencia de la sección previa utilizaremos `CountVectorizer` y no `TF-IDFVectorizer`. Esto se debe a que `TF-IDFVectorizer` penaliza a aquellos actores y directores que aparecen más frecuentemente, y esto potencialmente sesgaría las recomendaciones. Sin embargo, te invito a que pruebes como cambiarían las recomendaciones utilizando el `TF-IDFVectorizer`.\n",
        "\n",
        "Comenzamos importando  el objeto [CountVectorizer](https://scikit-learn.org/stable/modules/generated/sklearn.feature_extraction.text.CountVectorizer.html) de [scikit](https://scikit-learn.org/stable/) que nos va a permitir crear la matriz con los documentos vectorizados, y utilizamos las *stopwords* definidas anteriormente"
      ]
    },
    {
      "cell_type": "code",
      "execution_count": null,
      "metadata": {
        "id": "Po-khufsHyUs"
      },
      "outputs": [],
      "source": [
        "# Import CountVectorizer\n",
        "from sklearn.feature_extraction.text import CountVectorizer\n",
        "\n",
        "#Definimos un objeto CountVectorizer y creamos los vectores\n",
        "count = CountVectorizer(stop_words= list(lista_stopwords))\n",
        "count_matrix = count.fit_transform(pelis['metadatos'])\n",
        "count_matrix"
      ]
    },
    {
      "cell_type": "markdown",
      "metadata": {
        "id": "_epIInFoHyUs"
      },
      "source": [
        "Generamos entonces una matriz poco densa de dimensión 1321 x 4849. Necesitamos entonces ahora calcular la similitud de coseno entre estos vectores. Para ello usamos la función [cosine_similarity](https://scikit-learn.org/stable/modules/generated/sklearn.metrics.pairwise.cosine_similarity.html)."
      ]
    },
    {
      "cell_type": "code",
      "execution_count": null,
      "metadata": {
        "id": "uISDTh2FHyUs"
      },
      "outputs": [],
      "source": [
        "#Importamos la función\n",
        "from sklearn.metrics.pairwise import cosine_similarity\n",
        "\n",
        "#Calculamos la matriz de similitud de coseno\n",
        "cosine_sim2 = cosine_similarity(count_matrix, count_matrix)\n",
        "\n",
        "cosine_sim2"
      ]
    },
    {
      "cell_type": "markdown",
      "metadata": {
        "id": "ObcpURjKHyUt"
      },
      "source": [
        "Vemos entonces que la diagonal principal tendrá 1 ya que la similitud de cada película/serie consigo misma es uno.\n",
        "\n",
        "Con esta información el paso final es remplazar en la función que creamos en la sección anterior la matriz de similitud de coseno."
      ]
    },
    {
      "cell_type": "code",
      "execution_count": null,
      "metadata": {
        "id": "VApQ2x_qHyUt"
      },
      "outputs": [],
      "source": [
        "recom=recomendador('Las iguanas', cosine_sim=cosine_sim2, df=pelis)\n",
        "recom"
      ]
    },
    {
      "cell_type": "code",
      "execution_count": null,
      "metadata": {
        "id": "_X3ZOHIzHyUt"
      },
      "outputs": [],
      "source": [
        "# Cargamos las librerías a utilizar\n",
        "from wordcloud import WordCloud\n",
        "import matplotlib.pyplot as plt\n",
        "\n",
        "#creamoes un subset de las películas/series recomendadas\n",
        "pelis_rec=pelis[pelis['titulo'].isin(recom)]\n",
        "\n",
        "# Armamos la nube de palabras\n",
        "text = \" \".join(pelis_rec['metadatos'])\n",
        "wordcloud = WordCloud(width = 1600, height = 800, stopwords = set(lista_stopwords),\n",
        "    background_color = \"white\").generate(text)\n",
        "plt.figure(figsize = (20, 10))\n",
        "plt.imshow(wordcloud, interpolation = 'bilinear')\n",
        "plt.axis(\"off\")\n",
        "plt.show()"
      ]
    },
    {
      "cell_type": "markdown",
      "metadata": {
        "id": "sgiDFTklHyUt"
      },
      "source": [
        "Notemos que la recomendaciones son claramente distintas y se enfocaron en dramas que son series de televisión, y los actores aparecen más representados."
      ]
    },
    {
      "cell_type": "markdown",
      "metadata": {
        "id": "NvakLtMdHyUt"
      },
      "source": [
        "## Consideraciones finales\n",
        "\n",
        "Los recomendadores basados en contenido que creamos en este *cuaderno*, por supuesto, no se acercan a los poderosos modelos utilizados en la industria. Todavía existe mucho margen de mejora. Entre las mejoras que podemos pensar están:\n",
        "\n",
        "- Experimentar con la cantidad de géneros, actores y directores.\n",
        "- Crear subgéneros a partir de géneros, por ejemplo, comedia es el género y el comedia-negra el subgénero.\n",
        "- Dar más peso a ciertas características. Por ejemplo, podríamos darle más importancia al director repitiendo las veces que aparece en los metadatos.\n",
        "- Considerando otra información como ser miembros del equipo, premios, etc.\n",
        "- Combinando información de la trama con los metadatos y popularidad\n",
        "\n",
        "Te invito a que pruebes estas alternativas."
      ]
    },
    {
      "cell_type": "markdown",
      "metadata": {
        "id": "sH9mddoHHyUu"
      },
      "source": [
        "## Referencias\n",
        "\n",
        "- Banik, R. (2018). Hands-on recommendation systems with Python: start building powerful and personalized, recommendation engines with Python. Packt Publishing Ltd.\n",
        "\n",
        "- Fradejas Rueda, J. M. (2020). Cuentapalabras. Estilometrıa y análisis de texto con R para filólogos.\n",
        "\n",
        "- Google developers. (n.d.). Recommendation systems. Google. Consultado en Abril 3, 2022, de https://developers.google.com/machine-learning/recommendation/overview\n",
        "\n",
        "- Patel, A. A. (2019). Hands-on unsupervised learning using Python: how to build applied machine learning solutions from unlabeled data. O'Reilly Media.\n"
      ]
    }
  ],
  "metadata": {
    "colab": {
      "provenance": []
    },
    "interpreter": {
      "hash": "fe36d3cf18f454bb22b210d1ce52ae8c21a1b2f0a9257a143474ae90bef14b60"
    },
    "kernelspec": {
      "display_name": "Python 3 (ipykernel)",
      "language": "python",
      "name": "python3"
    },
    "language_info": {
      "codemirror_mode": {
        "name": "ipython",
        "version": 3
      },
      "file_extension": ".py",
      "mimetype": "text/x-python",
      "name": "python",
      "nbconvert_exporter": "python",
      "pygments_lexer": "ipython3",
      "version": "3.9.13"
    },
    "toc": {
      "base_numbering": 1,
      "nav_menu": {},
      "number_sections": true,
      "sideBar": true,
      "skip_h1_title": false,
      "title_cell": "Table of Contents",
      "title_sidebar": "Contents",
      "toc_cell": false,
      "toc_position": {},
      "toc_section_display": true,
      "toc_window_display": false
    }
  },
  "nbformat": 4,
  "nbformat_minor": 0
}