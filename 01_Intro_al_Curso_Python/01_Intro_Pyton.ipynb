{
 "cells": [
  {
   "cell_type": "markdown",
   "id": "0392a475",
   "metadata": {},
   "source": [
    "<div >\n",
    "<img src = \"../banner.png\" />\n",
    "</div>"
   ]
  },
  {
   "cell_type": "markdown",
   "id": "1e7ed1d0",
   "metadata": {},
   "source": [
    "[![Open In Colab](https://colab.research.google.com/assets/colab-badge.svg)](https://colab.research.google.com/github/ignaciomsarmiento/RecomSystemsLectures/blob/main/L01_Intro_Sistemas_Recomendac/Parte1/L01_Intro_Sistemas_Recomendac.ipynb)"
   ]
  },
  {
   "cell_type": "markdown",
   "id": "96c7e12f",
   "metadata": {},
   "source": [
    "# Intro `Python`\n",
    "\n",
    "   Este *cuaderno* tiene como objetivo brindar una breve revisión de las estructuras de datos, estructuras de control y funciones integradas en `Python`. Esta no es exhaustiva, pero busca proporcionar una referencia  para reforzar y recordar los conceptos clave de `Python` que utilizaremos en las actividades del curso.\n",
    "   "
   ]
  },
  {
   "cell_type": "markdown",
   "id": "c89ca419",
   "metadata": {},
   "source": [
    "## Sobre Python\n",
    "\n",
    "<center>\n",
    "    <img width=\"50%\" src=\"https://www.python.org/static/community_logos/python-logo-generic.svg\">\n",
    "</center>\n",
    "\n",
    "\n",
    "`Python` es un lenguaje de programación de alto nivel, interpretado, orientado a objetos y de propósito general. Fue creado en la década de 1990 por Guido van Rossum y se ha convertido en uno de los lenguajes de programación más populares del mundo. `Python` es utilizado en una variedad de aplicaciones, desde la creación de páginas web hasta el análisis de datos y el aprendizaje automático. \n",
    "\n",
    "`Python` es conocido por su sintaxis clara y legible, lo que lo hace muy fácil de aprender para los principiantes en programación. Además, es altamente modular y escalable, lo que lo convierte en una excelente opción para proyectos de cualquier tamaño y complejidad.\n",
    "\n",
    "\n",
    "\n",
    "### En `Python` todo es un objeto\n",
    "\n",
    "Una característica importante del lenguaje `Python` es que cada número, estructura de datos, función, clase, módulo, etc. existe en el interpretador de `Python` en su propia \"caja\", que se denomina objeto de `Python`. Cada objeto tiene un tipo (`type`) asociado (p. ej., entero, caracter (`str`) o función) y datos internos. En la práctica, esto hace que el lenguaje sea muy flexible, ya que incluso las funciones pueden tratarse como cualquier otro objeto."
   ]
  },
  {
   "cell_type": "markdown",
   "id": "e0cc4f78",
   "metadata": {},
   "source": [
    "### Variables y Estructuras de datos básicas\n",
    "\n",
    "#### Variables\n",
    "\n",
    "Al asignar una variable (o nombre) en `Python`, está creando una referencia a un objeto. Para definir variables en `Python` utilizamos el símbolo  de igual (`=`). \n",
    "\n",
    "Como buena práctica de programación, cuando definimos un nombre, utilizamos guion bajo (`_`) para separar las palabras. **Nunca usamos un punto**. Adicionalmente, es recomendable no usar caracteres especiales como tildes o ñ en los nombres de los objetos que definamos."
   ]
  },
  {
   "cell_type": "markdown",
   "id": "9f30530d",
   "metadata": {},
   "source": [
    "A continuación creamos 4 objetos o variables:\n",
    "\n",
    "- A la primer variable la llamaremos `nombre` y contendrá un texto alusivo a un cliente. Todas las cadenas de caracteres que conforman los textos deben estar entre comillas para que `Python` sepa que son cadenas de caracteres."
   ]
  },
  {
   "cell_type": "code",
   "execution_count": 2,
   "id": "414949c2",
   "metadata": {},
   "outputs": [],
   "source": [
    "nombre = \"Cliente A\""
   ]
  },
  {
   "cell_type": "markdown",
   "id": "09687a74",
   "metadata": {},
   "source": [
    "- La segunda variable la llamaremos `edad` y será un número entero."
   ]
  },
  {
   "cell_type": "code",
   "execution_count": 3,
   "id": "42277d90",
   "metadata": {},
   "outputs": [],
   "source": [
    "edad = 30"
   ]
  },
  {
   "cell_type": "markdown",
   "id": "c8da08b7",
   "metadata": {},
   "source": [
    "- La tercera variable la llamaremos  `saldo`"
   ]
  },
  {
   "cell_type": "code",
   "execution_count": 4,
   "id": "77f1a7ec",
   "metadata": {},
   "outputs": [],
   "source": [
    "saldo = 1500.75"
   ]
  },
  {
   "cell_type": "markdown",
   "id": "5aed4328",
   "metadata": {},
   "source": [
    "- La cuarta variable la llamaremos `condicion` y tomará el valor de vardadero (`True`)."
   ]
  },
  {
   "cell_type": "code",
   "execution_count": 5,
   "id": "f9b6f797",
   "metadata": {},
   "outputs": [],
   "source": [
    "condicion = True"
   ]
  },
  {
   "cell_type": "markdown",
   "id": "3d8dd747",
   "metadata": {},
   "source": [
    "`Python` tiene un pequeño conjunto de tipos de datos incorporados para manejar los distintos tipos de datos, ya sean: numéricos, caracteres (strings), valores booleanos (verdadero o falso), etc. \n",
    "\n",
    "\n",
    "![](https://realpython.com/cdn-cgi/image/width=1920,format=auto/https://files.realpython.com/media/Basic-Data-Types-in-Python_Watermarked.e3dd34457952.jpg)\n",
    "\n",
    "La siguiente tabla contiene una lista de los tipos escalares principales que usaremos en el curso:\n",
    "\n",
    "| Tipos |  Descripción | Ejemplos |\n",
    "|-------|-----------------------------| ----------------------------------------- |\n",
    "| `str`  |  caracteres o cadena de texto |`'a', 'aa', 'aaa', 'Hello!', '11 cats'`   |\n",
    "| `int` | Entero de precisión arbitraria | `-2, -1, 0, 1, 2, 3, 4, 5`                |\n",
    "| `float`  | Número de punto flotante de precisión doble  | `-1.25, -1.0, --0.5, 0.0, 0.5, 1.0, 1.25` |\n",
    "| `bool`  | Un valor booleano `verdadero` o `falso` | `true`, `false`|\n",
    "| `None`  |  El valor \"nulo\" de Python |\n"
   ]
  },
  {
   "cell_type": "markdown",
   "id": "17926539",
   "metadata": {},
   "source": [
    "Notemos que cuando definimos las variable cada una tiene un color diferente. El color está asociado al **tipo** (`type`):  caracteres o texto (`str`), número (`int` o `float`), o booleana (`bool`). Para verificar el tipo de una variable escribimos: `type(nombre_de_la_variable)`."
   ]
  },
  {
   "cell_type": "code",
   "execution_count": 6,
   "id": "64c351d6",
   "metadata": {
    "noteable": {
     "output_collection_id": "8addae25-fe62-447b-98de-72bef2ab6051"
    }
   },
   "outputs": [
    {
     "data": {
      "text/plain": [
       "str"
      ]
     },
     "execution_count": 6,
     "metadata": {},
     "output_type": "execute_result"
    }
   ],
   "source": [
    "type(nombre)"
   ]
  },
  {
   "cell_type": "code",
   "execution_count": 7,
   "id": "83a9d05d",
   "metadata": {
    "noteable": {
     "output_collection_id": "8eadcad6-8e88-46b2-a2ee-4f75297b2479"
    }
   },
   "outputs": [
    {
     "data": {
      "text/plain": [
       "int"
      ]
     },
     "execution_count": 7,
     "metadata": {},
     "output_type": "execute_result"
    }
   ],
   "source": [
    "type(edad)"
   ]
  },
  {
   "cell_type": "code",
   "execution_count": 8,
   "id": "9ea2475b",
   "metadata": {
    "noteable": {
     "output_collection_id": "7c1aaa5d-16d0-484b-abed-962ce783a733"
    }
   },
   "outputs": [
    {
     "data": {
      "text/plain": [
       "float"
      ]
     },
     "execution_count": 8,
     "metadata": {},
     "output_type": "execute_result"
    }
   ],
   "source": [
    "type(saldo)"
   ]
  },
  {
   "cell_type": "code",
   "execution_count": 9,
   "id": "e24d4894",
   "metadata": {
    "noteable": {
     "output_collection_id": "94128fa7-71f6-48b7-95ff-ed31752be1eb"
    }
   },
   "outputs": [
    {
     "data": {
      "text/plain": [
       "bool"
      ]
     },
     "execution_count": 9,
     "metadata": {},
     "output_type": "execute_result"
    }
   ],
   "source": [
    "type(condicion)"
   ]
  },
  {
   "cell_type": "markdown",
   "id": "6d16a779",
   "metadata": {},
   "source": [
    "#### Estructuras de datos "
   ]
  },
  {
   "cell_type": "markdown",
   "id": "ebee711d",
   "metadata": {},
   "source": [
    "\n",
    "Las estructuras de datos de `Python` son simples pero poderosas y será importante repasar su uso para el éxito en el curso. Revisaremos listas, tuplas, y diccionarios, que son algunos de los tipos de sucesiones (`sequence`) más utilizados."
   ]
  },
  {
   "cell_type": "markdown",
   "id": "b54685c5",
   "metadata": {},
   "source": [
    "##### Listas\n",
    "\n",
    "Las listas son una forma de almacenar una secuencia de objetos. Una lista puede contener objetos de diferentes tipos e incluso puede contener otras listas. La forma más fácil de construir una lista es con dos corchetes (`[]`) y separando los elementos con una coma (`[\"a\", \"b\"]`).\n",
    "\n",
    "A modo de ejemplo, creemos 4 listas:"
   ]
  },
  {
   "cell_type": "code",
   "execution_count": 10,
   "id": "e2301c47",
   "metadata": {},
   "outputs": [],
   "source": [
    "preferencias = [\"ropa\", \"electrónica\", \"deporte\"]"
   ]
  },
  {
   "cell_type": "code",
   "execution_count": 11,
   "id": "8c246d06",
   "metadata": {},
   "outputs": [
    {
     "name": "stdout",
     "output_type": "stream",
     "text": [
      "El Cliente A tiene 30 años y prefiere: ['ropa', 'electrónica', 'deporte']\n"
     ]
    }
   ],
   "source": [
    "print(f\"El {nombre} tiene {edad} años y prefiere: {preferencias}\")"
   ]
  },
  {
   "cell_type": "markdown",
   "id": "fbfc140e",
   "metadata": {},
   "source": [
    "Cada elemento de una lista se encuentra en una posición. En `Python` se le conoce como *index* y **la primera posición es el 0**, la segunda es el 1 y así sucesivamente hasta llegar a la última posición que es **$n - 1$**.\n",
    "\n",
    "Con las listas, al igual que en las variables, podemos hacer diferentes operaciones. Veamos como podemos acceder y extraer elementos de las listas:\n"
   ]
  },
  {
   "cell_type": "markdown",
   "id": "7bc6e1c7",
   "metadata": {},
   "source": [
    "- Acceder al primer elemento"
   ]
  },
  {
   "cell_type": "code",
   "execution_count": 12,
   "id": "be75a4b9",
   "metadata": {},
   "outputs": [
    {
     "name": "stdout",
     "output_type": "stream",
     "text": [
      "ropa\n"
     ]
    }
   ],
   "source": [
    "print(preferencias[0])"
   ]
  },
  {
   "cell_type": "markdown",
   "id": "6cd5f2c7",
   "metadata": {},
   "source": [
    "- Acceder el segundo elemento."
   ]
  },
  {
   "cell_type": "code",
   "execution_count": 13,
   "id": "1ffa0014",
   "metadata": {},
   "outputs": [
    {
     "name": "stdout",
     "output_type": "stream",
     "text": [
      "electrónica\n"
     ]
    }
   ],
   "source": [
    "print(preferencias[1])"
   ]
  },
  {
   "cell_type": "markdown",
   "id": "ec49145d",
   "metadata": {},
   "source": [
    "- Acceder al último elemento (tenga en cuenta que es -1 y no -0)."
   ]
  },
  {
   "cell_type": "code",
   "execution_count": 14,
   "id": "fe376d7d",
   "metadata": {},
   "outputs": [
    {
     "name": "stdout",
     "output_type": "stream",
     "text": [
      "deporte\n"
     ]
    }
   ],
   "source": [
    "print(preferencias[-1]) "
   ]
  },
  {
   "cell_type": "markdown",
   "id": "ef7164e8",
   "metadata": {},
   "source": [
    "- Acceder al n-ésimo - 1 elemento."
   ]
  },
  {
   "cell_type": "code",
   "execution_count": 15,
   "id": "bdaa94e0",
   "metadata": {},
   "outputs": [
    {
     "name": "stdout",
     "output_type": "stream",
     "text": [
      "electrónica\n"
     ]
    }
   ],
   "source": [
    "print(preferencias[-2]) "
   ]
  },
  {
   "cell_type": "markdown",
   "id": "37ac2817",
   "metadata": {},
   "source": [
    "##### Tuplas\n",
    "\n",
    "Las `tuplas` son un conjunto ordenado e inmutable de elementos del mismo o diferente tipo. Las tuplas se escriben entre paréntesis  y separadas por comas."
   ]
  },
  {
   "cell_type": "code",
   "execution_count": 16,
   "id": "5687a1c7",
   "metadata": {},
   "outputs": [
    {
     "data": {
      "text/plain": [
       "(30, 'Cliente A', 1500.75)"
      ]
     },
     "execution_count": 16,
     "metadata": {},
     "output_type": "execute_result"
    }
   ],
   "source": [
    "tupla1= (30, \"Cliente A\", saldo)\n",
    "tupla1"
   ]
  },
  {
   "cell_type": "code",
   "execution_count": 17,
   "id": "f68db132",
   "metadata": {},
   "outputs": [
    {
     "data": {
      "text/plain": [
       "()"
      ]
     },
     "execution_count": 17,
     "metadata": {},
     "output_type": "execute_result"
    }
   ],
   "source": [
    "tupla_vacia = ()\n",
    "tupla_vacia"
   ]
  },
  {
   "cell_type": "markdown",
   "id": "24db8915",
   "metadata": {},
   "source": [
    "##### Diccionario\n",
    "\n",
    "El diccionario o `dict` es quizás  la estructura de datos en `Python` más importante. En otros lenguajes de programación. Un diccionario almacena una colección de pares clave-valor (`key-value`), donde clave y valor son objetos de `Python`. Cada clave está asociada con un valor para que un valor pueda recuperarse, insertarse, modificarse o eliminarse convenientemente dada una clave en particular. \n",
    "\n",
    "Un enfoque para crear un diccionario es usar llaves `{}` y dos puntos `:` para separar claves y valores:"
   ]
  },
  {
   "cell_type": "code",
   "execution_count": 18,
   "id": "8c2d4831",
   "metadata": {},
   "outputs": [
    {
     "data": {
      "text/plain": [
       "{}"
      ]
     },
     "execution_count": 18,
     "metadata": {},
     "output_type": "execute_result"
    }
   ],
   "source": [
    "dict_vacio = {}\n",
    "\n",
    "dict_vacio"
   ]
  },
  {
   "cell_type": "code",
   "execution_count": 19,
   "id": "4cef9331",
   "metadata": {},
   "outputs": [
    {
     "data": {
      "text/plain": [
       "{'a': 'algun valor', 'b': [1, 2, 3, 4]}"
      ]
     },
     "execution_count": 19,
     "metadata": {},
     "output_type": "execute_result"
    }
   ],
   "source": [
    "d1 = {\"a\": \"algun valor\", \"b\": [1, 2, 3, 4]}\n",
    "\n",
    "d1"
   ]
  },
  {
   "cell_type": "markdown",
   "id": "75d7db75",
   "metadata": {},
   "source": [
    "Podemos acceder, insertar o configurar elementos usando la misma sintaxis que para acceder a elementos de una lista o tupla:"
   ]
  },
  {
   "cell_type": "code",
   "execution_count": 20,
   "id": "9a4f1dec",
   "metadata": {},
   "outputs": [
    {
     "data": {
      "text/plain": [
       "{'a': 'algun valor', 'b': [1, 2, 3, 4], 7: 'un entero'}"
      ]
     },
     "execution_count": 20,
     "metadata": {},
     "output_type": "execute_result"
    }
   ],
   "source": [
    "d1[7] = \"un entero\"\n",
    "d1"
   ]
  },
  {
   "cell_type": "code",
   "execution_count": 21,
   "id": "b2ee655b",
   "metadata": {},
   "outputs": [
    {
     "data": {
      "text/plain": [
       "[1, 2, 3, 4]"
      ]
     },
     "execution_count": 21,
     "metadata": {},
     "output_type": "execute_result"
    }
   ],
   "source": [
    "d1[\"b\"]"
   ]
  },
  {
   "cell_type": "markdown",
   "id": "3f163ae2",
   "metadata": {},
   "source": [
    "Podemos verificar si un diccionario contiene una clave utilizando la misma sintaxis utilizada para verificar si una lista o tupla contiene un valor:"
   ]
  },
  {
   "cell_type": "code",
   "execution_count": 22,
   "id": "17648db7",
   "metadata": {},
   "outputs": [
    {
     "data": {
      "text/plain": [
       "True"
      ]
     },
     "execution_count": 22,
     "metadata": {},
     "output_type": "execute_result"
    }
   ],
   "source": [
    "\"b\" in d1"
   ]
  },
  {
   "cell_type": "markdown",
   "id": "f493f90c",
   "metadata": {},
   "source": [
    "El método de claves (`keys`) y valores (`values`) no brinda iteradores de las claves y valores del diccionario, respectivamente. El orden de las claves depende del orden de su inserción, y estas funciones generan las claves y los valores en el mismo orden respectivo:"
   ]
  },
  {
   "cell_type": "code",
   "execution_count": 23,
   "id": "95a2f9b6",
   "metadata": {},
   "outputs": [
    {
     "data": {
      "text/plain": [
       "['a', 'b', 7]"
      ]
     },
     "execution_count": 23,
     "metadata": {},
     "output_type": "execute_result"
    }
   ],
   "source": [
    "list(d1.keys())"
   ]
  },
  {
   "cell_type": "code",
   "execution_count": 24,
   "id": "e4cf7ae0",
   "metadata": {},
   "outputs": [
    {
     "data": {
      "text/plain": [
       "['algun valor', [1, 2, 3, 4], 'un entero']"
      ]
     },
     "execution_count": 24,
     "metadata": {},
     "output_type": "execute_result"
    }
   ],
   "source": [
    "list(d1.values())"
   ]
  },
  {
   "cell_type": "markdown",
   "id": "02227aa6",
   "metadata": {},
   "source": [
    "En resumen, en `Python`, las listas, tuplas y diccionarios son estructuras de datos muy versátiles y útiles. Las listas son secuencias ordenadas de elementos, lo que nos permite almacenar y manipular colecciones de datos de manera flexible. Por otro lado, las tuplas son similares a las listas, pero son inmutables, es decir, no se pueden modificar una vez creadas. Ambas estructuras nos permiten acceder a los elementos mediante índices y realizar operaciones como agregar, eliminar o modificar elementos.\n",
    "\n",
    "Sin embargo, los diccionarios son estructuras de datos más potentes y flexibles. A diferencia de las listas y las tuplas, los diccionarios son colecciones desordenadas de pares clave-valor (`key-value`). Cada elemento del diccionario está compuesto por una clave única y su correspondiente valor. Esto nos permite acceder rápidamente a los valores a través de sus claves, en lugar de usar índices. Los diccionarios son especialmente útiles cuando necesitamos almacenar y recuperar datos relacionados, ya que nos permiten organizar la información de manera eficiente y lógica. Además, los diccionarios son mutables, lo que significa que podemos agregar, modificar o eliminar pares clave-valor según nuestras necesidades.\n",
    "\n",
    "En resumen, las listas y tuplas son estructuras de datos secuenciales, mientras que los diccionarios son estructuras de datos basadas en pares clave-valor. Los diccionarios son especialmente útiles cuando necesitamos organizar y acceder a datos relacionados de manera eficiente."
   ]
  },
  {
   "cell_type": "markdown",
   "id": "342f2b8a",
   "metadata": {},
   "source": [
    "##### Condicionales y Flujos de Control\n",
    "\n",
    "Los condicionales y flujos de control en `Python` son elementos fundamentales para el desarrollo de programas eficientes y flexibles. A través de los condicionales, como las sentencias `if`, `elif` y `else`, nos permiten tomar decisiones en función de las condiciones que se evalúen en el programa. \n",
    "\n",
    "Por otro lado, las estructuras de control, como los bucles `for` y `while`, podemos iterar sobre colecciones de datos o repetir una serie de instrucciones hasta que se cumpla una condición específica. \n",
    "\n",
    "Estos condicionales y estructuras de control  nos brindan un alto grado de control sobre la ejecución del código, lo que nos permite adaptar el comportamiento del programa según las necesidades y lógica requerida en cada situación."
   ]
  },
  {
   "cell_type": "markdown",
   "id": "69b596a3",
   "metadata": {},
   "source": [
    "##### Sentencias `if`, `else` y `elif`\n",
    "\n",
    "Para controlar el flujo (*control flows*) de un programa podemos utilizar las funciones `if`, `else` y `elif`, junto con las condiciones que describimos anteriormente. Por ejemplo:\n",
    "\n",
    "```\n",
    "if condicion1:\n",
    "    # Si la condición es verdadera (True) se ejecuta esta porción de código\n",
    "    print(\"condicion1 es verdadera\")\n",
    "elif condicion2:\n",
    "    # Si la condición 1 es falsa (False) y la condición 2 es verdadera (True), se ejecuta esta porción\n",
    "    print(\"condicion1 es falsa y la condicion2 es verdadera\")\n",
    "else:\n",
    "    # Si la condición 1 y 2 son falsas, se ejecuta esta porción\n",
    "    print(\"condicion1 y la condicion2 son falsas\")\n",
    "```\n",
    "\n",
    "Notemos que luego de la condición sólo debemos incluir el símbolo de dos puntos (`:`) y el código debajo e indentado por 4 espacios (un tab).\n",
    "\n",
    "Algunos ejemplos:"
   ]
  },
  {
   "cell_type": "code",
   "execution_count": 25,
   "id": "3ffeaf88",
   "metadata": {},
   "outputs": [
    {
     "name": "stdout",
     "output_type": "stream",
     "text": [
      "Anakin Skywalker es el padre de Luke Skywalker\n"
     ]
    }
   ],
   "source": [
    "lado_oscuro = \"Anakin Skywalker\"\n",
    "hijo = \"Luke Skywalker\"\n",
    "\n",
    "if lado_oscuro == hijo:\n",
    "    print(\"Luke, no te rindas al odio. Eso lleva al lado oscuro\")\n",
    "else: \n",
    "    print(lado_oscuro + \" es el padre de \" + hijo)"
   ]
  },
  {
   "cell_type": "markdown",
   "id": "d29c74a7",
   "metadata": {},
   "source": [
    "##### Bucles (Loops)\n",
    "\n",
    "Los bucles son una parte esencial de cualquier lenguaje de programación, permitiendo repetir una operación muchas veces. \n",
    "Un bucle (loop) es una estructura de control que repite una porción de código un número predeterminado de veces.  \n",
    "\n",
    "Existen dos tipos de bucles:\n",
    "\n",
    "- *`for` loops* en donde se itera sobre una lista de elementos.\n",
    "- *`while` loops* en donde se itera mientras que cierta condición se cumple.\n",
    "\n",
    "Algunos ejemplos:"
   ]
  },
  {
   "cell_type": "code",
   "execution_count": 26,
   "id": "dac0cd75",
   "metadata": {},
   "outputs": [
    {
     "name": "stdout",
     "output_type": "stream",
     "text": [
      "Interés: ropa\n",
      "Interés: tecnología\n",
      "Interés: viajes\n"
     ]
    }
   ],
   "source": [
    "intereses = [\"ropa\", \"tecnología\", \"viajes\"]\n",
    "for interes in intereses:\n",
    "    print(f\"Interés: {interes}\")\n"
   ]
  },
  {
   "cell_type": "code",
   "execution_count": 27,
   "id": "1aed2699",
   "metadata": {},
   "outputs": [
    {
     "name": "stdout",
     "output_type": "stream",
     "text": [
      "1\n",
      "2\n",
      "3\n",
      "4\n"
     ]
    }
   ],
   "source": [
    "x = 1\n",
    "while x < 5: \n",
    "    print(x)\n",
    "    x += 1"
   ]
  },
  {
   "cell_type": "markdown",
   "id": "80e776ab",
   "metadata": {},
   "source": [
    "# Manipulación de Datos con [Pandas](https://pandas.pydata.org/)\n",
    "\n",
    "## ¿Qué es una librería en Python?\n",
    "\n",
    "Una librería es un conjunto de funciones, clases y herramientas que alguien más ya programó, y que tú puedes reutilizar sin necesidad de volver a escribir todo desde cero. Imagina que quieres crear gráficos: en vez de escribir cada línea de código para dibujar puntos, ejes y colores, simplemente importas una librería como [Matplotlib](https://matplotlib.org/), que ya tiene esas herramientas listas para usar.\n",
    "\n",
    "## La librería [Pandas](https://pandas.pydata.org/) y su instalación\n",
    "\n",
    "[Pandas](https://pandas.pydata.org/) es una librería de `Python`  y  una herramienta esencial en el kit de herramientas de cualquier científico de datos o analista, ya que nos permite trabajar de manera eficiente con datos estructurados y realizar tareas como la manipulación, limpieza, agregación y visualización de datos.\n",
    "\n",
    "\n",
    "[Pandas](https://pandas.pydata.org/)  se basa en la librería [Numpy](http://www.numpy.org/) y su estructura de datos clave es llamada `DataFrame`. Los `DataFrames` te permiten almacenar y manipular datos tabulados en filas de observaciones y columnas de variables.\n",
    "\n",
    "Hay varias razones por las que [pandas](https://pandas.pydata.org/) es una herramienta tan popular en el análisis de datos:\n",
    "\n",
    "- Permite el manejo de datos de una forma eficiente y flexible.\n",
    "- Ofrece estructuras de datos para manejar datos numéricos, de tiempo y datos de texto.\n",
    "- Tiene herramientas para leer y escribir datos en muchos formatos.\n",
    "- Está integrado con otras bibliotecas de `Python` como [matplotlib](https://matplotlib.org/) y [seaborn](https://seaborn.pydata.org/) , que exploraremos brevemente al final de ese *cuaderno*.\n",
    "\n",
    "## DataFrames\n",
    "\n",
    "\n",
    "Un `DataFrame` es una estructura de datos bidimensional etiquetada en [pandas](https://pandas.pydata.org/). Se puede pensar en `DataFrames` como una hoja de cálculo o una tabla SQL. Un `DataFrame` consta de filas y columnas, donde cada columna puede contener un tipo de dato diferente y proporciona una forma conveniente de almacenar y manipular este tipo de datos.\n",
    "\n",
    "Es el objeto más comúnmente usado en [pandas](https://pandas.pydata.org/). Se puede por ejemplo crear a partir de un diccionario de objetos. \n",
    "\n"
   ]
  },
  {
   "cell_type": "code",
   "execution_count": 28,
   "id": "f124ec50",
   "metadata": {},
   "outputs": [
    {
     "name": "stderr",
     "output_type": "stream",
     "text": [
      "/Users/ignaciosarmiento/opt/miniconda3/lib/python3.9/site-packages/pandas/core/computation/expressions.py:21: UserWarning: Pandas requires version '2.8.4' or newer of 'numexpr' (version '2.8.1' currently installed).\n",
      "  from pandas.core.computation.check import NUMEXPR_INSTALLED\n",
      "/Users/ignaciosarmiento/opt/miniconda3/lib/python3.9/site-packages/pandas/core/arrays/masked.py:60: UserWarning: Pandas requires version '1.3.6' or newer of 'bottleneck' (version '1.3.4' currently installed).\n",
      "  from pandas.core import (\n"
     ]
    },
    {
     "name": "stdout",
     "output_type": "stream",
     "text": [
      "  Cliente  Compras    Categoría\n",
      "0       A        5         Ropa\n",
      "1       B        3  Electrónica\n",
      "2       C        8      Deporte\n"
     ]
    }
   ],
   "source": [
    "import pandas as pd\n",
    "data = pd.DataFrame({\n",
    "    \"Cliente\": [\"A\", \"B\", \"C\"],\n",
    "    \"Compras\": [5, 3, 8],\n",
    "    \"Categoría\": [\"Ropa\", \"Electrónica\", \"Deporte\"]\n",
    "})\n",
    "print(data)\n"
   ]
  },
  {
   "cell_type": "markdown",
   "id": "ed70a8de",
   "metadata": {},
   "source": [
    "### Cargando datos en un `DataFrame`\n",
    "\n",
    "[Pandas](https://pandas.pydata.org/) proporciona la función `read_csv()` para leer archivos `csv` y `read_excel()` apara leer archivos `xlsx` y convertirlos en un `DataFrame`. Esta función es increíblemente flexible y puede manejar una amplia variedad de formatos de archivos CSV.\n",
    "\n",
    "Para cargar los datos de la ENPH, disponibles en la carpeta data debemos hacer:"
   ]
  },
  {
   "cell_type": "markdown",
   "id": "af9348c0",
   "metadata": {},
   "source": [
    "### Manipulando datos\n",
    "\n",
    "`Pandas` proporciona una variedad de herramientas poderosas para manipular datos. \n",
    "\n",
    "\n",
    "#### Filtrado de filas y columnas\n",
    "\n",
    "El filtrado de datos es una de las operaciones más comunes que se realizan en los conjuntos de datos. [Pandas](https://pandas.pydata.org/) proporciona varias formas de filtrar filas y columnas. \n",
    "\n",
    "Veamos algunos ejemplos:"
   ]
  },
  {
   "cell_type": "code",
   "execution_count": 29,
   "id": "baf8d12b",
   "metadata": {},
   "outputs": [
    {
     "data": {
      "text/html": [
       "<div>\n",
       "<style scoped>\n",
       "    .dataframe tbody tr th:only-of-type {\n",
       "        vertical-align: middle;\n",
       "    }\n",
       "\n",
       "    .dataframe tbody tr th {\n",
       "        vertical-align: top;\n",
       "    }\n",
       "\n",
       "    .dataframe thead th {\n",
       "        text-align: right;\n",
       "    }\n",
       "</style>\n",
       "<table border=\"1\" class=\"dataframe\">\n",
       "  <thead>\n",
       "    <tr style=\"text-align: right;\">\n",
       "      <th></th>\n",
       "      <th>Id_Cliente</th>\n",
       "      <th>Genero</th>\n",
       "      <th>Edad</th>\n",
       "      <th>Ingreso</th>\n",
       "      <th>Puntaje_Gasto</th>\n",
       "    </tr>\n",
       "  </thead>\n",
       "  <tbody>\n",
       "    <tr>\n",
       "      <th>0</th>\n",
       "      <td>1</td>\n",
       "      <td>Mujer</td>\n",
       "      <td>41</td>\n",
       "      <td>98115.05</td>\n",
       "      <td>39</td>\n",
       "    </tr>\n",
       "    <tr>\n",
       "      <th>1</th>\n",
       "      <td>2</td>\n",
       "      <td>Mujer</td>\n",
       "      <td>20</td>\n",
       "      <td>35458.14</td>\n",
       "      <td>75</td>\n",
       "    </tr>\n",
       "    <tr>\n",
       "      <th>2</th>\n",
       "      <td>3</td>\n",
       "      <td>Mujer</td>\n",
       "      <td>68</td>\n",
       "      <td>59872.08</td>\n",
       "      <td>55</td>\n",
       "    </tr>\n",
       "    <tr>\n",
       "      <th>3</th>\n",
       "      <td>4</td>\n",
       "      <td>Hombre</td>\n",
       "      <td>63</td>\n",
       "      <td>48508.93</td>\n",
       "      <td>51</td>\n",
       "    </tr>\n",
       "    <tr>\n",
       "      <th>4</th>\n",
       "      <td>5</td>\n",
       "      <td>Mujer</td>\n",
       "      <td>31</td>\n",
       "      <td>44431.11</td>\n",
       "      <td>54</td>\n",
       "    </tr>\n",
       "  </tbody>\n",
       "</table>\n",
       "</div>"
      ],
      "text/plain": [
       "   Id_Cliente  Genero  Edad   Ingreso  Puntaje_Gasto\n",
       "0           1   Mujer    41  98115.05             39\n",
       "1           2   Mujer    20  35458.14             75\n",
       "2           3   Mujer    68  59872.08             55\n",
       "3           4  Hombre    63  48508.93             51\n",
       "4           5   Mujer    31  44431.11             54"
      ]
     },
     "execution_count": 29,
     "metadata": {},
     "output_type": "execute_result"
    }
   ],
   "source": [
    "\n",
    "data = pd.read_csv('https://github.com/ignaciomsarmiento/datasets/raw/refs/heads/main/datos_clientes.csv')\n",
    "data.head()"
   ]
  },
  {
   "cell_type": "code",
   "execution_count": 30,
   "id": "2c69ffbb",
   "metadata": {},
   "outputs": [
    {
     "data": {
      "text/html": [
       "<div>\n",
       "<style scoped>\n",
       "    .dataframe tbody tr th:only-of-type {\n",
       "        vertical-align: middle;\n",
       "    }\n",
       "\n",
       "    .dataframe tbody tr th {\n",
       "        vertical-align: top;\n",
       "    }\n",
       "\n",
       "    .dataframe thead th {\n",
       "        text-align: right;\n",
       "    }\n",
       "</style>\n",
       "<table border=\"1\" class=\"dataframe\">\n",
       "  <thead>\n",
       "    <tr style=\"text-align: right;\">\n",
       "      <th></th>\n",
       "      <th>Id_Cliente</th>\n",
       "      <th>Edad</th>\n",
       "      <th>Ingreso</th>\n",
       "      <th>Puntaje_Gasto</th>\n",
       "    </tr>\n",
       "  </thead>\n",
       "  <tbody>\n",
       "    <tr>\n",
       "      <th>count</th>\n",
       "      <td>200.000000</td>\n",
       "      <td>200.000000</td>\n",
       "      <td>200.000000</td>\n",
       "      <td>200.000000</td>\n",
       "    </tr>\n",
       "    <tr>\n",
       "      <th>mean</th>\n",
       "      <td>100.500000</td>\n",
       "      <td>38.850000</td>\n",
       "      <td>60624.446600</td>\n",
       "      <td>50.200000</td>\n",
       "    </tr>\n",
       "    <tr>\n",
       "      <th>std</th>\n",
       "      <td>57.879185</td>\n",
       "      <td>13.969007</td>\n",
       "      <td>26262.903416</td>\n",
       "      <td>25.823522</td>\n",
       "    </tr>\n",
       "    <tr>\n",
       "      <th>min</th>\n",
       "      <td>1.000000</td>\n",
       "      <td>18.000000</td>\n",
       "      <td>13458.020000</td>\n",
       "      <td>1.000000</td>\n",
       "    </tr>\n",
       "    <tr>\n",
       "      <th>25%</th>\n",
       "      <td>50.750000</td>\n",
       "      <td>28.750000</td>\n",
       "      <td>41512.787500</td>\n",
       "      <td>34.750000</td>\n",
       "    </tr>\n",
       "    <tr>\n",
       "      <th>50%</th>\n",
       "      <td>100.500000</td>\n",
       "      <td>36.000000</td>\n",
       "      <td>60777.960000</td>\n",
       "      <td>50.000000</td>\n",
       "    </tr>\n",
       "    <tr>\n",
       "      <th>75%</th>\n",
       "      <td>150.250000</td>\n",
       "      <td>49.000000</td>\n",
       "      <td>77143.865000</td>\n",
       "      <td>73.000000</td>\n",
       "    </tr>\n",
       "    <tr>\n",
       "      <th>max</th>\n",
       "      <td>200.000000</td>\n",
       "      <td>70.000000</td>\n",
       "      <td>138584.520000</td>\n",
       "      <td>99.000000</td>\n",
       "    </tr>\n",
       "  </tbody>\n",
       "</table>\n",
       "</div>"
      ],
      "text/plain": [
       "       Id_Cliente        Edad        Ingreso  Puntaje_Gasto\n",
       "count  200.000000  200.000000     200.000000     200.000000\n",
       "mean   100.500000   38.850000   60624.446600      50.200000\n",
       "std     57.879185   13.969007   26262.903416      25.823522\n",
       "min      1.000000   18.000000   13458.020000       1.000000\n",
       "25%     50.750000   28.750000   41512.787500      34.750000\n",
       "50%    100.500000   36.000000   60777.960000      50.000000\n",
       "75%    150.250000   49.000000   77143.865000      73.000000\n",
       "max    200.000000   70.000000  138584.520000      99.000000"
      ]
     },
     "execution_count": 30,
     "metadata": {},
     "output_type": "execute_result"
    }
   ],
   "source": [
    "# Estadísticas descriptivas \n",
    "data.describe()"
   ]
  },
  {
   "cell_type": "code",
   "execution_count": 31,
   "id": "57c888f2",
   "metadata": {},
   "outputs": [
    {
     "data": {
      "text/html": [
       "<div>\n",
       "<style scoped>\n",
       "    .dataframe tbody tr th:only-of-type {\n",
       "        vertical-align: middle;\n",
       "    }\n",
       "\n",
       "    .dataframe tbody tr th {\n",
       "        vertical-align: top;\n",
       "    }\n",
       "\n",
       "    .dataframe thead th {\n",
       "        text-align: right;\n",
       "    }\n",
       "</style>\n",
       "<table border=\"1\" class=\"dataframe\">\n",
       "  <thead>\n",
       "    <tr style=\"text-align: right;\">\n",
       "      <th></th>\n",
       "      <th>Id_Cliente</th>\n",
       "      <th>Genero</th>\n",
       "      <th>Edad</th>\n",
       "      <th>Ingreso</th>\n",
       "      <th>Puntaje_Gasto</th>\n",
       "      <th>Grupo_Etario</th>\n",
       "    </tr>\n",
       "  </thead>\n",
       "  <tbody>\n",
       "    <tr>\n",
       "      <th>0</th>\n",
       "      <td>1</td>\n",
       "      <td>Mujer</td>\n",
       "      <td>41</td>\n",
       "      <td>98115.05</td>\n",
       "      <td>39</td>\n",
       "      <td>35-44</td>\n",
       "    </tr>\n",
       "    <tr>\n",
       "      <th>1</th>\n",
       "      <td>2</td>\n",
       "      <td>Mujer</td>\n",
       "      <td>20</td>\n",
       "      <td>35458.14</td>\n",
       "      <td>75</td>\n",
       "      <td>18-24</td>\n",
       "    </tr>\n",
       "    <tr>\n",
       "      <th>2</th>\n",
       "      <td>3</td>\n",
       "      <td>Mujer</td>\n",
       "      <td>68</td>\n",
       "      <td>59872.08</td>\n",
       "      <td>55</td>\n",
       "      <td>65+</td>\n",
       "    </tr>\n",
       "    <tr>\n",
       "      <th>3</th>\n",
       "      <td>4</td>\n",
       "      <td>Hombre</td>\n",
       "      <td>63</td>\n",
       "      <td>48508.93</td>\n",
       "      <td>51</td>\n",
       "      <td>55-64</td>\n",
       "    </tr>\n",
       "    <tr>\n",
       "      <th>4</th>\n",
       "      <td>5</td>\n",
       "      <td>Mujer</td>\n",
       "      <td>31</td>\n",
       "      <td>44431.11</td>\n",
       "      <td>54</td>\n",
       "      <td>25-34</td>\n",
       "    </tr>\n",
       "  </tbody>\n",
       "</table>\n",
       "</div>"
      ],
      "text/plain": [
       "   Id_Cliente  Genero  Edad   Ingreso  Puntaje_Gasto Grupo_Etario\n",
       "0           1   Mujer    41  98115.05             39        35-44\n",
       "1           2   Mujer    20  35458.14             75        18-24\n",
       "2           3   Mujer    68  59872.08             55          65+\n",
       "3           4  Hombre    63  48508.93             51        55-64\n",
       "4           5   Mujer    31  44431.11             54        25-34"
      ]
     },
     "execution_count": 31,
     "metadata": {},
     "output_type": "execute_result"
    }
   ],
   "source": [
    "# Crear grupos etarios\n",
    "bins = [17, 24, 34, 44, 54, 64, float('inf')]\n",
    "labels = ['18-24', '25-34', '35-44', '45-54', '55-64', '65+']\n",
    "data['Grupo_Etario'] = pd.cut(data['Edad'], bins=bins, labels=labels)\n",
    "\n",
    "# Mostrar las primeras filas con la nueva variable\n",
    "data.head()"
   ]
  },
  {
   "cell_type": "code",
   "execution_count": 32,
   "id": "8433460b",
   "metadata": {},
   "outputs": [
    {
     "data": {
      "text/plain": [
       "Grupo_Etario\n",
       "25-34    0.270\n",
       "35-44    0.210\n",
       "45-54    0.195\n",
       "18-24    0.175\n",
       "55-64    0.080\n",
       "65+      0.070\n",
       "Name: proportion, dtype: float64"
      ]
     },
     "execution_count": 32,
     "metadata": {},
     "output_type": "execute_result"
    }
   ],
   "source": [
    "# Proporciones por grupos etarios\n",
    "edades_proportions = data['Grupo_Etario'].value_counts(normalize=True)\n",
    "edades_proportions"
   ]
  },
  {
   "cell_type": "markdown",
   "id": "1d49e126",
   "metadata": {},
   "source": [
    "## [Matplotlib](https://matplotlib.org/)\n",
    "\n",
    "### ¿Qué es Matplotlib?\n",
    "\n",
    "Matplotlib es una librería en Python que se usa para crear gráficos estáticos, animados e interactivos. Con esta librería puedes generar diferentes tipos de visualizaciones, como histogramas, gráficos de dispersión (scatter plots), gráficos de barras, entre otros.\n",
    "\n",
    "Se usa mucho en análisis de datos y machine learning porque permite representar datos de forma clara y visualmente atractiva."
   ]
  },
  {
   "cell_type": "code",
   "execution_count": 35,
   "id": "cd78f20b",
   "metadata": {},
   "outputs": [
    {
     "data": {
      "image/png": "[encoded data removed]",
      "text/plain": [
       "<Figure size 432x288 with 1 Axes>"
      ]
     },
     "metadata": {
      "needs_background": "light"
     },
     "output_type": "display_data"
    }
   ],
   "source": [
    "# importamos la librería\n",
    "\n",
    "import matplotlib.pyplot as plt\n",
    "\n",
    "\n",
    "# Crear un histograma de la variable 'edad'\n",
    "plt.hist(datos['Edad'], bins=10, edgecolor='black')  # Crear histograma de la columna 'Edad' con 10 bins y bordes negros\n",
    "plt.title('Distribución de Edad')  # Agregar título al gráfico\n",
    "plt.xlabel('Edad')  # Etiqueta para el eje X\n",
    "plt.ylabel('Frecuencia')  # Etiqueta para el eje Y\n",
    "plt.show()  # Mostrar el gráfico\n"
   ]
  },
  {
   "cell_type": "code",
   "execution_count": 36,
   "id": "51aca5a7",
   "metadata": {},
   "outputs": [
    {
     "data": {
      "image/png": "[encoded data removed]",
      "text/plain": [
       "<Figure size 576x432 with 1 Axes>"
      ]
     },
     "metadata": {
      "needs_background": "light"
     },
     "output_type": "display_data"
    }
   ],
   "source": [
    "\n",
    "# Crear el diagrama de dispersión entre 'edad' y 'gasto'\n",
    "plt.figure(figsize=(8, 6))\n",
    "plt.scatter(data['Edad'], data['Puntaje_Gasto'], alpha=0.6, color='tab:blue')\n",
    "plt.title('Edad vs Gasto', fontsize=14)\n",
    "plt.xlabel('Edad', fontsize=12)\n",
    "plt.ylabel('Gasto', fontsize=12)\n",
    "plt.grid(True)\n",
    "plt.show()"
   ]
  },
  {
   "cell_type": "markdown",
   "id": "2cd41d90",
   "metadata": {},
   "source": [
    "### Seaborn\n",
    "\n",
    "Seaborn es una librería de visualización basada en Matplotlib que hace que sea más fácil crear gráficos estadísticos atractivos y bien diseñados. Ofrece una interfaz más amigable y muchas funciones útiles para explorar y visualizar datos."
   ]
  },
  {
   "cell_type": "code",
   "execution_count": 38,
   "id": "babbba31",
   "metadata": {},
   "outputs": [
    {
     "data": {
      "image/png": "[encoded data removed]",
      "text/plain": [
       "<Figure size 432x288 with 1 Axes>"
      ]
     },
     "metadata": {
      "needs_background": "light"
     },
     "output_type": "display_data"
    }
   ],
   "source": [
    "import seaborn as sns  # Importamos Seaborn, librería especializada en gráficos estadísticos\n",
    "\n",
    "# Crear un gráfico de dispersión con Seaborn\n",
    "sns.scatterplot(data=data, x='Edad', y='Puntaje_Gasto', alpha=0.6)  # Gráfico de dispersión, X=edad, Y=gasto, con transparencia\n",
    "\n",
    "\n",
    "plt.title('Edad vs Gasto')  # Añadir un título al gráfico usando Matplotlib\n",
    "plt.xlabel('Edad')  # Etiqueta para el eje X usando Matplotlib\n",
    "plt.ylabel('Gasto')  # Etiqueta para el eje Y usando Matplotlib\n",
    "plt.show()  # Mostrar el gráfico en pantalla"
   ]
  },
  {
   "cell_type": "code",
   "execution_count": 74,
   "id": "6165dc1e",
   "metadata": {},
   "outputs": [
    {
     "data": {
      "image/png": "[encoded data removed]",
      "text/plain": [
       "<Figure size 800x600 with 1 Axes>"
      ]
     },
     "metadata": {},
     "output_type": "display_data"
    }
   ],
   "source": [
    "\n",
    "\n",
    "# Gráfica de frecuencias por género\n",
    "plt.figure(figsize=(8, 6))  # Crea una figura de 8x6 pulgadas para ajustar el tamaño del gráfico\n",
    "sns.histplot(x='Grupo_Etario', data=data, hue=\"Grupo_Etario\", stat=\"percent\")  # Histograma de proporciones por grupo etario con colores diferenciados\n",
    "plt.title('Proporciones por Grupo Etario')  # Añade un título al gráfico\n",
    "#plt.savefig('proporciones_por_grupo_etario.png', dpi=300)  # Guarda el gráfico como PNG con resolución de 300 DPI\n",
    "plt.show()  # Muestra el gráfico en pantalla\n"
   ]
  },
  {
   "cell_type": "markdown",
   "id": "4cebcda5",
   "metadata": {},
   "source": [
    "## Palabras Finales\n",
    "\n",
    "Este cuaderno busca introducir a conceptos `Python` que serán útiles a lo largo del curso, sin embargo no es exhaustiva y te invito a revisar las notas de clase  del [Python Bootcamp](https://pythonbootcampuniandes.github.io/) dictado en la universidad: https://github.com/PythonBootcampUniandes/notas-de-clase/tree/master/Introduccion"
   ]
  }
 ],
 "metadata": {
  "kernelspec": {
   "display_name": "base",
   "language": "python",
   "name": "python3"
  },
  "language_info": {
   "codemirror_mode": {
    "name": "ipython",
    "version": 3
   },
   "file_extension": ".py",
   "mimetype": "text/x-python",
   "name": "python",
   "nbconvert_exporter": "python",
   "pygments_lexer": "ipython3",
   "version": "3.9.12"
  },
  "noteable": {
   "last_transaction_id": "fc2c69e6-b257-4ebe-a0f1-b36a9bec5df5"
  },
  "selected_hardware_size": "small",
  "toc": {
   "base_numbering": 1,
   "nav_menu": {},
   "number_sections": true,
   "sideBar": true,
   "skip_h1_title": false,
   "title_cell": "Table of Contents",
   "title_sidebar": "Contents",
   "toc_cell": false,
   "toc_position": {},
   "toc_section_display": true,
   "toc_window_display": true
  }
 },
 "nbformat": 4,
 "nbformat_minor": 5
}
